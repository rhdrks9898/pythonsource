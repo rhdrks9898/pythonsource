{
 "cells": [
  {
   "cell_type": "markdown",
   "id": "3ca20a3b",
   "metadata": {
    "id": "3ca20a3b"
   },
   "source": [
    "### [참고] <a href=\"https://pandas.pydata.org/Pandas_Cheat_Sheet.pdf\">Pandas Cheat Sheet</a>\n",
    "\n",
    "#### https://pandas.pydata.org/docs/user_guide/text.html"
   ]
  },
  {
   "cell_type": "markdown",
   "id": "860888c6",
   "metadata": {
    "id": "860888c6"
   },
   "source": [
    "**str 메소드**\n",
    "- pandas.core.strings.StringMethods 의 별칭\n",
    "- 호출할 수 없기 때문에 괄호를 사용하지 않음"
   ]
  },
  {
   "cell_type": "code",
   "execution_count": 2,
   "id": "161fc435",
   "metadata": {
    "id": "161fc435"
   },
   "outputs": [],
   "source": [
    "import pandas as pd\n",
    "import seaborn as sns\n",
    "import numpy as np "
   ]
  },
  {
   "cell_type": "code",
   "execution_count": null,
   "id": "99fd1b63",
   "metadata": {
    "id": "99fd1b63",
    "outputId": "421cb7a2-c6da-4808-8ee5-ac5a35fd4075"
   },
   "outputs": [
    {
     "data": {
      "text/plain": [
       "0      Suho\n",
       "1        AA\n",
       "2      None\n",
       "3    Rabbit\n",
       "dtype: object"
      ]
     },
     "execution_count": 3,
     "metadata": {},
     "output_type": "execute_result"
    }
   ],
   "source": [
    "ser = pd.Series(['Suho','AA',None,'Rabbit'])\n",
    "ser"
   ]
  },
  {
   "cell_type": "markdown",
   "id": "cefdaed3",
   "metadata": {
    "id": "cefdaed3"
   },
   "source": [
    "#### 1) lower() / upper() / len()"
   ]
  },
  {
   "cell_type": "code",
   "execution_count": 4,
   "id": "f57b4828",
   "metadata": {
    "id": "f57b4828",
    "outputId": "d6831e00-2da8-4169-8343-311d8638c945"
   },
   "outputs": [
    {
     "data": {
      "text/plain": [
       "0      suho\n",
       "1        aa\n",
       "2      None\n",
       "3    rabbit\n",
       "dtype: object"
      ]
     },
     "execution_count": 4,
     "metadata": {},
     "output_type": "execute_result"
    }
   ],
   "source": [
    "ser.str.lower()"
   ]
  },
  {
   "cell_type": "code",
   "execution_count": 5,
   "id": "99227444",
   "metadata": {
    "id": "99227444",
    "outputId": "16293ac4-ae50-46ac-a531-8dd3539469dd"
   },
   "outputs": [
    {
     "data": {
      "text/plain": [
       "0      SUHO\n",
       "1        AA\n",
       "2      None\n",
       "3    RABBIT\n",
       "dtype: object"
      ]
     },
     "execution_count": 5,
     "metadata": {},
     "output_type": "execute_result"
    }
   ],
   "source": [
    "ser.str.upper()"
   ]
  },
  {
   "cell_type": "code",
   "execution_count": 7,
   "id": "067d1e56",
   "metadata": {
    "id": "067d1e56",
    "outputId": "221581e8-218e-45de-d295-674e527123d1"
   },
   "outputs": [
    {
     "data": {
      "text/plain": [
       "0    4.0\n",
       "1    2.0\n",
       "2    NaN\n",
       "3    6.0\n",
       "dtype: float64"
      ]
     },
     "execution_count": 7,
     "metadata": {},
     "output_type": "execute_result"
    }
   ],
   "source": [
    "# len()\n",
    "ser.str.len()"
   ]
  },
  {
   "cell_type": "markdown",
   "id": "62d969d8",
   "metadata": {
    "id": "62d969d8"
   },
   "source": [
    "### 2) strip()\n",
    "- 공백제거"
   ]
  },
  {
   "cell_type": "code",
   "execution_count": 8,
   "id": "947d5009",
   "metadata": {
    "id": "947d5009",
    "outputId": "c61536f3-4cd7-4493-d66f-e5dda3ec07f8"
   },
   "outputs": [
    {
     "data": {
      "text/plain": [
       "0           Suho          \n",
       "1                       AA\n",
       "2                     None\n",
       "3                   Rabbit\n",
       "dtype: object"
      ]
     },
     "execution_count": 8,
     "metadata": {},
     "output_type": "execute_result"
    }
   ],
   "source": [
    "ser = pd.Series(['Suho          ','AA',None,'               Rabbit'])\n",
    "ser"
   ]
  },
  {
   "cell_type": "code",
   "execution_count": 9,
   "id": "d3477ef3",
   "metadata": {
    "id": "d3477ef3",
    "outputId": "ad64ff5b-d507-4cad-e441-a1dbe585d488"
   },
   "outputs": [
    {
     "data": {
      "text/plain": [
       "0      Suho\n",
       "1        AA\n",
       "2      None\n",
       "3    Rabbit\n",
       "dtype: object"
      ]
     },
     "execution_count": 9,
     "metadata": {},
     "output_type": "execute_result"
    }
   ],
   "source": [
    "ser.str.strip()"
   ]
  },
  {
   "cell_type": "code",
   "execution_count": 10,
   "id": "60b6b2ae",
   "metadata": {
    "id": "60b6b2ae",
    "outputId": "6b6165c2-bdb3-4ddd-d14f-6455915ce9ac"
   },
   "outputs": [
    {
     "data": {
      "text/html": [
       "<div>\n",
       "<style scoped>\n",
       "    .dataframe tbody tr th:only-of-type {\n",
       "        vertical-align: middle;\n",
       "    }\n",
       "\n",
       "    .dataframe tbody tr th {\n",
       "        vertical-align: top;\n",
       "    }\n",
       "\n",
       "    .dataframe thead th {\n",
       "        text-align: right;\n",
       "    }\n",
       "</style>\n",
       "<table border=\"1\" class=\"dataframe\">\n",
       "  <thead>\n",
       "    <tr style=\"text-align: right;\">\n",
       "      <th></th>\n",
       "      <th>Column A</th>\n",
       "      <th>Column B</th>\n",
       "    </tr>\n",
       "  </thead>\n",
       "  <tbody>\n",
       "    <tr>\n",
       "      <th>0</th>\n",
       "      <td>-0.842090</td>\n",
       "      <td>1.945141</td>\n",
       "    </tr>\n",
       "    <tr>\n",
       "      <th>1</th>\n",
       "      <td>0.683658</td>\n",
       "      <td>-0.035517</td>\n",
       "    </tr>\n",
       "  </tbody>\n",
       "</table>\n",
       "</div>"
      ],
      "text/plain": [
       "   Column A   Column B \n",
       "0  -0.842090   1.945141\n",
       "1   0.683658  -0.035517"
      ]
     },
     "execution_count": 10,
     "metadata": {},
     "output_type": "execute_result"
    }
   ],
   "source": [
    "df = pd.DataFrame(np.random.randn(2,2), columns=[' Column A ', ' Column B '])\n",
    "df"
   ]
  },
  {
   "cell_type": "code",
   "execution_count": 11,
   "id": "13c22054",
   "metadata": {
    "id": "13c22054",
    "outputId": "d626830b-3a55-4139-82d7-d7eb4ce76c1a"
   },
   "outputs": [
    {
     "data": {
      "text/plain": [
       "Index([' Column A ', ' Column B '], dtype='object')"
      ]
     },
     "execution_count": 11,
     "metadata": {},
     "output_type": "execute_result"
    }
   ],
   "source": [
    "df.columns"
   ]
  },
  {
   "cell_type": "code",
   "execution_count": 12,
   "id": "1f719664",
   "metadata": {
    "id": "1f719664",
    "outputId": "62970eb7-a688-4b00-fbe2-81e37e00f68f"
   },
   "outputs": [
    {
     "data": {
      "text/plain": [
       "0   -0.842090\n",
       "1    0.683658\n",
       "Name:  Column A , dtype: float64"
      ]
     },
     "execution_count": 12,
     "metadata": {},
     "output_type": "execute_result"
    }
   ],
   "source": [
    "df[' Column A ']"
   ]
  },
  {
   "cell_type": "code",
   "execution_count": 13,
   "id": "afd565fa",
   "metadata": {
    "id": "afd565fa",
    "outputId": "6fda4ef9-3216-470d-832a-b2cd78e29107"
   },
   "outputs": [
    {
     "data": {
      "text/plain": [
       "Index(['Column A', 'Column B'], dtype='object')"
      ]
     },
     "execution_count": 13,
     "metadata": {},
     "output_type": "execute_result"
    }
   ],
   "source": [
    "# 컬럼명 공백 제거\n",
    "\n",
    "df.columns.str.strip()\n"
   ]
  },
  {
   "cell_type": "code",
   "execution_count": 14,
   "id": "06ddf7b0",
   "metadata": {
    "id": "06ddf7b0",
    "outputId": "610d4bdc-2438-485d-877f-75660e43c8c0"
   },
   "outputs": [
    {
     "data": {
      "text/plain": [
       "Index([' column a ', ' column b '], dtype='object')"
      ]
     },
     "execution_count": 14,
     "metadata": {},
     "output_type": "execute_result"
    }
   ],
   "source": [
    "# 컬럼명 소문자로 변경\n",
    "\n",
    "df.columns.str.lower()\n"
   ]
  },
  {
   "cell_type": "code",
   "execution_count": 15,
   "id": "f3eb6e25",
   "metadata": {
    "id": "f3eb6e25",
    "outputId": "364635b6-a423-4085-c79c-1970c9c37d09"
   },
   "outputs": [
    {
     "data": {
      "text/plain": [
       "Index(['column_a', 'column_b'], dtype='object')"
      ]
     },
     "execution_count": 15,
     "metadata": {},
     "output_type": "execute_result"
    }
   ],
   "source": [
    "# 컬럼명 - 양쪽 공백 제거, 전체 소문자\n",
    "# 컬럼명 사이의 간격을 _로 변경\n",
    "\n",
    "df.columns = df.columns.str.strip().str.lower().str.replace(\" \",\"_\")\n",
    "df.columns"
   ]
  },
  {
   "cell_type": "code",
   "execution_count": 16,
   "id": "fe8b54cb",
   "metadata": {
    "id": "fe8b54cb",
    "outputId": "f4530303-ba89-48f1-a98d-8dfcf6210e43"
   },
   "outputs": [
    {
     "data": {
      "text/html": [
       "<div>\n",
       "<style scoped>\n",
       "    .dataframe tbody tr th:only-of-type {\n",
       "        vertical-align: middle;\n",
       "    }\n",
       "\n",
       "    .dataframe tbody tr th {\n",
       "        vertical-align: top;\n",
       "    }\n",
       "\n",
       "    .dataframe thead th {\n",
       "        text-align: right;\n",
       "    }\n",
       "</style>\n",
       "<table border=\"1\" class=\"dataframe\">\n",
       "  <thead>\n",
       "    <tr style=\"text-align: right;\">\n",
       "      <th></th>\n",
       "      <th>column_a</th>\n",
       "      <th>column_b</th>\n",
       "    </tr>\n",
       "  </thead>\n",
       "  <tbody>\n",
       "    <tr>\n",
       "      <th>0</th>\n",
       "      <td>-0.842090</td>\n",
       "      <td>1.945141</td>\n",
       "    </tr>\n",
       "    <tr>\n",
       "      <th>1</th>\n",
       "      <td>0.683658</td>\n",
       "      <td>-0.035517</td>\n",
       "    </tr>\n",
       "  </tbody>\n",
       "</table>\n",
       "</div>"
      ],
      "text/plain": [
       "   column_a  column_b\n",
       "0 -0.842090  1.945141\n",
       "1  0.683658 -0.035517"
      ]
     },
     "execution_count": 16,
     "metadata": {},
     "output_type": "execute_result"
    }
   ],
   "source": [
    "df"
   ]
  },
  {
   "cell_type": "markdown",
   "id": "2cb7eb51",
   "metadata": {
    "id": "2cb7eb51"
   },
   "source": [
    "#### 3) split()"
   ]
  },
  {
   "cell_type": "code",
   "execution_count": 17,
   "id": "7345597a",
   "metadata": {
    "id": "7345597a",
    "outputId": "e6f9ef36-42f8-450f-db16-396e484593ac"
   },
   "outputs": [
    {
     "data": {
      "text/plain": [
       "0    ha_a_b\n",
       "1    hi_c_d\n",
       "2      None\n",
       "3    ho_e_f\n",
       "dtype: object"
      ]
     },
     "execution_count": 17,
     "metadata": {},
     "output_type": "execute_result"
    }
   ],
   "source": [
    "ser = pd.Series(['ha_a_b','hi_c_d',None,'ho_e_f'])\n",
    "ser"
   ]
  },
  {
   "cell_type": "code",
   "execution_count": 18,
   "id": "a8e2bd68",
   "metadata": {
    "id": "a8e2bd68",
    "outputId": "1fddb651-30bd-43c7-e238-34cdbead6fe7"
   },
   "outputs": [
    {
     "data": {
      "text/plain": [
       "0    [ha, a, b]\n",
       "1    [hi, c, d]\n",
       "2          None\n",
       "3    [ho, e, f]\n",
       "dtype: object"
      ]
     },
     "execution_count": 18,
     "metadata": {},
     "output_type": "execute_result"
    }
   ],
   "source": [
    "# ser.str.split() : 공백기준\n",
    "\n",
    "ser.str.split(\"_\")"
   ]
  },
  {
   "cell_type": "markdown",
   "id": "bdc563d1",
   "metadata": {
    "id": "bdc563d1"
   },
   "source": [
    "* **expand=True** 결과를 데이터 프레임으로 돌려줌"
   ]
  },
  {
   "cell_type": "code",
   "execution_count": 19,
   "id": "604a6dbf",
   "metadata": {
    "id": "604a6dbf",
    "outputId": "c866ef35-3875-452a-bd68-2171765c0908",
    "scrolled": true
   },
   "outputs": [
    {
     "data": {
      "text/html": [
       "<div>\n",
       "<style scoped>\n",
       "    .dataframe tbody tr th:only-of-type {\n",
       "        vertical-align: middle;\n",
       "    }\n",
       "\n",
       "    .dataframe tbody tr th {\n",
       "        vertical-align: top;\n",
       "    }\n",
       "\n",
       "    .dataframe thead th {\n",
       "        text-align: right;\n",
       "    }\n",
       "</style>\n",
       "<table border=\"1\" class=\"dataframe\">\n",
       "  <thead>\n",
       "    <tr style=\"text-align: right;\">\n",
       "      <th></th>\n",
       "      <th>0</th>\n",
       "      <th>1</th>\n",
       "      <th>2</th>\n",
       "    </tr>\n",
       "  </thead>\n",
       "  <tbody>\n",
       "    <tr>\n",
       "      <th>0</th>\n",
       "      <td>ha</td>\n",
       "      <td>a</td>\n",
       "      <td>b</td>\n",
       "    </tr>\n",
       "    <tr>\n",
       "      <th>1</th>\n",
       "      <td>hi</td>\n",
       "      <td>c</td>\n",
       "      <td>d</td>\n",
       "    </tr>\n",
       "    <tr>\n",
       "      <th>2</th>\n",
       "      <td>None</td>\n",
       "      <td>None</td>\n",
       "      <td>None</td>\n",
       "    </tr>\n",
       "    <tr>\n",
       "      <th>3</th>\n",
       "      <td>ho</td>\n",
       "      <td>e</td>\n",
       "      <td>f</td>\n",
       "    </tr>\n",
       "  </tbody>\n",
       "</table>\n",
       "</div>"
      ],
      "text/plain": [
       "      0     1     2\n",
       "0    ha     a     b\n",
       "1    hi     c     d\n",
       "2  None  None  None\n",
       "3    ho     e     f"
      ]
     },
     "execution_count": 19,
     "metadata": {},
     "output_type": "execute_result"
    }
   ],
   "source": [
    "ser.str.split(\"_\", expand=True)"
   ]
  },
  {
   "cell_type": "markdown",
   "id": "cdc0af3b",
   "metadata": {
    "id": "cdc0af3b"
   },
   "source": [
    "#### 4) replace()"
   ]
  },
  {
   "cell_type": "code",
   "execution_count": 20,
   "id": "367e4379",
   "metadata": {
    "id": "367e4379",
    "outputId": "be6e4610-1bbf-4950-c93f-7803d37f22a6"
   },
   "outputs": [
    {
     "data": {
      "text/plain": [
       "0        Suho\n",
       "1        bAAa\n",
       "2        None\n",
       "3    cute_dog\n",
       "dtype: object"
      ]
     },
     "execution_count": 20,
     "metadata": {},
     "output_type": "execute_result"
    }
   ],
   "source": [
    "ser = pd.Series(['Suho','bAAa',None,'cute_dog'])\n",
    "ser"
   ]
  },
  {
   "cell_type": "code",
   "execution_count": 21,
   "id": "f387433f",
   "metadata": {
    "id": "f387433f",
    "outputId": "f0c2f4ca-a965-45c3-8f28-c75cf38b4f82"
   },
   "outputs": [
    {
     "data": {
      "text/plain": [
       "0        Suho\n",
       "1       ***Aa\n",
       "2        None\n",
       "3    cute_***\n",
       "dtype: object"
      ]
     },
     "execution_count": 21,
     "metadata": {},
     "output_type": "execute_result"
    }
   ],
   "source": [
    "ser.str.replace(\"^.a|dog\", \"***\", case=False, regex=True)"
   ]
  },
  {
   "cell_type": "markdown",
   "id": "25b10e19",
   "metadata": {
    "id": "25b10e19"
   },
   "source": [
    "- ^는 입력라인의 시작\n",
    "- .a 는 맨 첫 문자를 포함하고 a로 끝나는 부분을 매칭\n",
    "- | or 의 의미\n",
    "- dog에 해당하는 부분 매칭\n",
    "- case=False 대소문자 구분 안함\n",
    "- regex=True 전달된 패턴이 정규식"
   ]
  },
  {
   "cell_type": "markdown",
   "id": "2261148b",
   "metadata": {
    "id": "2261148b"
   },
   "source": [
    "#### 5) cat : 텍스트 이어 붙이기"
   ]
  },
  {
   "cell_type": "code",
   "execution_count": 22,
   "id": "0809d870",
   "metadata": {
    "id": "0809d870",
    "outputId": "d0a9e5c0-b93a-4961-b5fe-10c4671b7a48"
   },
   "outputs": [
    {
     "data": {
      "text/plain": [
       "0    ha\n",
       "1    hi\n",
       "2    ho\n",
       "dtype: object"
      ]
     },
     "execution_count": 22,
     "metadata": {},
     "output_type": "execute_result"
    }
   ],
   "source": [
    "ser = pd.Series(['ha','hi','ho'])\n",
    "ser"
   ]
  },
  {
   "cell_type": "code",
   "execution_count": 25,
   "id": "cc196bc4",
   "metadata": {
    "id": "cc196bc4",
    "outputId": "f9903355-a7fc-4aba-ae2d-85bade311ef4"
   },
   "outputs": [
    {
     "data": {
      "text/plain": [
       "'ha,hi,ho'"
      ]
     },
     "execution_count": 25,
     "metadata": {},
     "output_type": "execute_result"
    }
   ],
   "source": [
    "# series => list\n",
    "\n",
    "data = ser.to_list()\n",
    "\",\".join(data)"
   ]
  },
  {
   "cell_type": "code",
   "execution_count": 24,
   "id": "6c73d913",
   "metadata": {
    "id": "6c73d913",
    "outputId": "02bd75d7-90de-4b38-c31d-16dd2b1e5319"
   },
   "outputs": [
    {
     "data": {
      "text/plain": [
       "'ha,hi,ho'"
      ]
     },
     "execution_count": 24,
     "metadata": {},
     "output_type": "execute_result"
    }
   ],
   "source": [
    "ser.str.cat(sep=\",\")"
   ]
  },
  {
   "cell_type": "code",
   "execution_count": 26,
   "id": "d909c1e1",
   "metadata": {},
   "outputs": [
    {
     "data": {
      "text/plain": [
       "'hahiho'"
      ]
     },
     "execution_count": 26,
     "metadata": {},
     "output_type": "execute_result"
    }
   ],
   "source": [
    "ser.str.cat()"
   ]
  },
  {
   "cell_type": "markdown",
   "id": "ce489df6",
   "metadata": {
    "id": "ce489df6"
   },
   "source": [
    "* **손실값이 있다면 연결 안함**"
   ]
  },
  {
   "cell_type": "code",
   "execution_count": 27,
   "id": "76f2f8a1",
   "metadata": {
    "id": "76f2f8a1",
    "outputId": "dcda2984-953e-4fe2-bfd8-f633eff8b564"
   },
   "outputs": [
    {
     "data": {
      "text/plain": [
       "0      ha\n",
       "1    None\n",
       "2      ho\n",
       "dtype: object"
      ]
     },
     "execution_count": 27,
     "metadata": {},
     "output_type": "execute_result"
    }
   ],
   "source": [
    "ser = pd.Series(['ha',None,'ho'])\n",
    "ser"
   ]
  },
  {
   "cell_type": "code",
   "execution_count": null,
   "id": "f38bfba3",
   "metadata": {
    "id": "f38bfba3",
    "outputId": "8ea5d77a-e214-4efe-aa17-b7553d4fbb0d"
   },
   "outputs": [
    {
     "data": {
      "text/plain": [
       "'ha,ho'"
      ]
     },
     "execution_count": 28,
     "metadata": {},
     "output_type": "execute_result"
    }
   ],
   "source": [
    "ser.str.cat(sep=',')  # None 은 기본적으로 안가지고 옴"
   ]
  },
  {
   "cell_type": "code",
   "execution_count": 29,
   "id": "80c0a52c",
   "metadata": {
    "id": "80c0a52c",
    "outputId": "1898d427-155d-481b-a907-49f35d6eb1f5"
   },
   "outputs": [
    {
     "data": {
      "text/plain": [
       "'ha,*,ho'"
      ]
     },
     "execution_count": 29,
     "metadata": {},
     "output_type": "execute_result"
    }
   ],
   "source": [
    "ser.str.cat(sep=\",\", na_rep=\"*\")"
   ]
  },
  {
   "cell_type": "code",
   "execution_count": null,
   "id": "843fd25e",
   "metadata": {
    "id": "843fd25e"
   },
   "outputs": [],
   "source": []
  },
  {
   "cell_type": "markdown",
   "id": "ac2f319a",
   "metadata": {
    "id": "ac2f319a"
   },
   "source": [
    "### [실습2] 일기 형식의 데이터 가공"
   ]
  },
  {
   "cell_type": "code",
   "execution_count": 30,
   "id": "e714ec90",
   "metadata": {
    "id": "e714ec90",
    "outputId": "ec6bbbbe-8a29-4d75-d2bb-f29fdda66afe"
   },
   "outputs": [
    {
     "data": {
      "text/html": [
       "<div>\n",
       "<style scoped>\n",
       "    .dataframe tbody tr th:only-of-type {\n",
       "        vertical-align: middle;\n",
       "    }\n",
       "\n",
       "    .dataframe tbody tr th {\n",
       "        vertical-align: top;\n",
       "    }\n",
       "\n",
       "    .dataframe thead th {\n",
       "        text-align: right;\n",
       "    }\n",
       "</style>\n",
       "<table border=\"1\" class=\"dataframe\">\n",
       "  <thead>\n",
       "    <tr style=\"text-align: right;\">\n",
       "      <th></th>\n",
       "      <th>schedule</th>\n",
       "    </tr>\n",
       "  </thead>\n",
       "  <tbody>\n",
       "    <tr>\n",
       "      <th>0</th>\n",
       "      <td>1st_seq : getting up at 05:45am</td>\n",
       "    </tr>\n",
       "    <tr>\n",
       "      <th>1</th>\n",
       "      <td>2nd_seq : swimming from 06:00 to 07:00am</td>\n",
       "    </tr>\n",
       "    <tr>\n",
       "      <th>2</th>\n",
       "      <td>3rd_seq : My morning food is American style</td>\n",
       "    </tr>\n",
       "    <tr>\n",
       "      <th>3</th>\n",
       "      <td>4th_seq : Writing some proposal from 02:00pm t...</td>\n",
       "    </tr>\n",
       "    <tr>\n",
       "      <th>4</th>\n",
       "      <td>5th_seq : Arriving at JongGak at 07:00pm</td>\n",
       "    </tr>\n",
       "    <tr>\n",
       "      <th>5</th>\n",
       "      <td>6th_seq : Fun with friends enjoy beer till 09:...</td>\n",
       "    </tr>\n",
       "    <tr>\n",
       "      <th>6</th>\n",
       "      <td>7th_seq : My house at 10:30pm and sleeping by ...</td>\n",
       "    </tr>\n",
       "  </tbody>\n",
       "</table>\n",
       "</div>"
      ],
      "text/plain": [
       "                                            schedule\n",
       "0                    1st_seq : getting up at 05:45am\n",
       "1           2nd_seq : swimming from 06:00 to 07:00am\n",
       "2        3rd_seq : My morning food is American style\n",
       "3  4th_seq : Writing some proposal from 02:00pm t...\n",
       "4           5th_seq : Arriving at JongGak at 07:00pm\n",
       "5  6th_seq : Fun with friends enjoy beer till 09:...\n",
       "6  7th_seq : My house at 10:30pm and sleeping by ..."
      ]
     },
     "execution_count": 30,
     "metadata": {},
     "output_type": "execute_result"
    }
   ],
   "source": [
    "day_plan = [\n",
    "    \"1st_seq : getting up at 05:45am\",\n",
    "    \"2nd_seq : swimming from 06:00 to 07:00am\",\n",
    "    \"3rd_seq : My morning food is American style\",\n",
    "    \"4th_seq : Writing some proposal from 02:00pm to 06:00pm\",\n",
    "    \"5th_seq : Arriving at JongGak at 07:00pm\",\n",
    "    \"6th_seq : Fun with friends enjoy beer till 09:30pm\",\n",
    "    \"7th_seq : My house at 10:30pm and sleeping by 12:00pm\"\n",
    "]\n",
    "\n",
    "df = pd.DataFrame(day_plan, columns=['schedule'])\n",
    "df\n"
   ]
  },
  {
   "cell_type": "code",
   "execution_count": 31,
   "id": "cbfcec70",
   "metadata": {
    "id": "cbfcec70",
    "outputId": "9e3dcefc-8350-4225-af2a-b7f3e58d2131"
   },
   "outputs": [
    {
     "data": {
      "text/plain": [
       "0               [1st_seq, :, getting, up, at, 05:45am]\n",
       "1     [2nd_seq, :, swimming, from, 06:00, to, 07:00am]\n",
       "2    [3rd_seq, :, My, morning, food, is, American, ...\n",
       "3    [4th_seq, :, Writing, some, proposal, from, 02...\n",
       "4     [5th_seq, :, Arriving, at, JongGak, at, 07:00pm]\n",
       "5    [6th_seq, :, Fun, with, friends, enjoy, beer, ...\n",
       "6    [7th_seq, :, My, house, at, 10:30pm, and, slee...\n",
       "Name: schedule, dtype: object"
      ]
     },
     "execution_count": 31,
     "metadata": {},
     "output_type": "execute_result"
    }
   ],
   "source": [
    "# split() : 공백 기준\n",
    "\n",
    "df['schedule'].str.split()\n"
   ]
  },
  {
   "cell_type": "code",
   "execution_count": 32,
   "id": "176e2ab3",
   "metadata": {
    "id": "176e2ab3",
    "outputId": "8ac5f8f8-95c7-4b76-e949-7b8204ac81e0"
   },
   "outputs": [
    {
     "data": {
      "text/plain": [
       "0     6\n",
       "1     7\n",
       "2     8\n",
       "3     9\n",
       "4     7\n",
       "5     9\n",
       "6    10\n",
       "Name: schedule, dtype: int64"
      ]
     },
     "execution_count": 32,
     "metadata": {},
     "output_type": "execute_result"
    }
   ],
   "source": [
    "# 각각의 분할된 문자열의 수 파악\n",
    "\n",
    "df['schedule'].str.split().str.len()\n"
   ]
  },
  {
   "cell_type": "code",
   "execution_count": 33,
   "id": "d1c8e99e",
   "metadata": {
    "id": "d1c8e99e",
    "outputId": "7d4fd3a5-bf56-4d9b-f280-79fe319aec3b"
   },
   "outputs": [
    {
     "data": {
      "text/plain": [
       "0    False\n",
       "1    False\n",
       "2     True\n",
       "3    False\n",
       "4    False\n",
       "5    False\n",
       "6     True\n",
       "Name: schedule, dtype: bool"
      ]
     },
     "execution_count": 33,
     "metadata": {},
     "output_type": "execute_result"
    }
   ],
   "source": [
    "# 문자열이 단어 My를 포함하는지 확인\n",
    "\n",
    "df['schedule'].str.contains('My')"
   ]
  },
  {
   "cell_type": "code",
   "execution_count": 35,
   "id": "09cd543b",
   "metadata": {
    "id": "09cd543b",
    "outputId": "19f0be5e-7b4e-490c-e7c0-56b91daa13b2"
   },
   "outputs": [
    {
     "data": {
      "text/plain": [
       "0    5\n",
       "1    9\n",
       "2    1\n",
       "3    9\n",
       "4    5\n",
       "5    5\n",
       "6    9\n",
       "Name: schedule, dtype: int64"
      ]
     },
     "execution_count": 35,
     "metadata": {},
     "output_type": "execute_result"
    }
   ],
   "source": [
    "# 각 문자열에 숫자가 몇 개 있는지 연산\n",
    "\n",
    "df['schedule'].str.count(r'\\d')"
   ]
  },
  {
   "cell_type": "code",
   "execution_count": 36,
   "id": "1bc8f146",
   "metadata": {
    "id": "1bc8f146",
    "outputId": "6ec4fd15-d1f3-4ed3-ac03-ba7739410962"
   },
   "outputs": [
    {
     "data": {
      "text/plain": [
       "0                [1, 0, 5, 4, 5]\n",
       "1    [2, 0, 6, 0, 0, 0, 7, 0, 0]\n",
       "2                            [3]\n",
       "3    [4, 0, 2, 0, 0, 0, 6, 0, 0]\n",
       "4                [5, 0, 7, 0, 0]\n",
       "5                [6, 0, 9, 3, 0]\n",
       "6    [7, 1, 0, 3, 0, 1, 2, 0, 0]\n",
       "Name: schedule, dtype: object"
      ]
     },
     "execution_count": 36,
     "metadata": {},
     "output_type": "execute_result"
    }
   ],
   "source": [
    "# 문자열에서 모든 숫자만 구하기\n",
    "\n",
    "df['schedule'].str.findall(r'\\d')"
   ]
  },
  {
   "cell_type": "code",
   "execution_count": 41,
   "id": "e73d6e04",
   "metadata": {
    "id": "e73d6e04",
    "outputId": "e51e5e47-6c48-4cd9-95b3-582766eb0c80"
   },
   "outputs": [
    {
     "ename": "KeyError",
     "evalue": "'schedule'",
     "output_type": "error",
     "traceback": [
      "\u001b[31m---------------------------------------------------------------------------\u001b[39m",
      "\u001b[31mKeyError\u001b[39m                                  Traceback (most recent call last)",
      "\u001b[36mCell\u001b[39m\u001b[36m \u001b[39m\u001b[32mIn[41]\u001b[39m\u001b[32m, line 3\u001b[39m\n\u001b[32m      1\u001b[39m \u001b[38;5;66;03m# : 을 기준으로 분할 \u001b[39;00m\n\u001b[32m----> \u001b[39m\u001b[32m3\u001b[39m df[[\u001b[33m'\u001b[39m\u001b[33ms1\u001b[39m\u001b[33m'\u001b[39m,\u001b[33m'\u001b[39m\u001b[33ms2\u001b[39m\u001b[33m'\u001b[39m]] = \u001b[43mdf\u001b[49m\u001b[43m[\u001b[49m\u001b[33;43m'\u001b[39;49m\u001b[33;43mschedule\u001b[39;49m\u001b[33;43m'\u001b[39;49m\u001b[43m]\u001b[49m.str.split(\u001b[33m\"\u001b[39m\u001b[33m : \u001b[39m\u001b[33m\"\u001b[39m, expand=\u001b[38;5;28;01mTrue\u001b[39;00m)\n\u001b[32m      4\u001b[39m df\n",
      "\u001b[36mFile \u001b[39m\u001b[32mc:\\source\\pythonsource\\venv\\Lib\\site-packages\\pandas\\core\\frame.py:4107\u001b[39m, in \u001b[36mDataFrame.__getitem__\u001b[39m\u001b[34m(self, key)\u001b[39m\n\u001b[32m   4105\u001b[39m \u001b[38;5;28;01mif\u001b[39;00m \u001b[38;5;28mself\u001b[39m.columns.nlevels > \u001b[32m1\u001b[39m:\n\u001b[32m   4106\u001b[39m     \u001b[38;5;28;01mreturn\u001b[39;00m \u001b[38;5;28mself\u001b[39m._getitem_multilevel(key)\n\u001b[32m-> \u001b[39m\u001b[32m4107\u001b[39m indexer = \u001b[38;5;28;43mself\u001b[39;49m\u001b[43m.\u001b[49m\u001b[43mcolumns\u001b[49m\u001b[43m.\u001b[49m\u001b[43mget_loc\u001b[49m\u001b[43m(\u001b[49m\u001b[43mkey\u001b[49m\u001b[43m)\u001b[49m\n\u001b[32m   4108\u001b[39m \u001b[38;5;28;01mif\u001b[39;00m is_integer(indexer):\n\u001b[32m   4109\u001b[39m     indexer = [indexer]\n",
      "\u001b[36mFile \u001b[39m\u001b[32mc:\\source\\pythonsource\\venv\\Lib\\site-packages\\pandas\\core\\indexes\\range.py:417\u001b[39m, in \u001b[36mRangeIndex.get_loc\u001b[39m\u001b[34m(self, key)\u001b[39m\n\u001b[32m    415\u001b[39m         \u001b[38;5;28;01mraise\u001b[39;00m \u001b[38;5;167;01mKeyError\u001b[39;00m(key) \u001b[38;5;28;01mfrom\u001b[39;00m\u001b[38;5;250m \u001b[39m\u001b[34;01merr\u001b[39;00m\n\u001b[32m    416\u001b[39m \u001b[38;5;28;01mif\u001b[39;00m \u001b[38;5;28misinstance\u001b[39m(key, Hashable):\n\u001b[32m--> \u001b[39m\u001b[32m417\u001b[39m     \u001b[38;5;28;01mraise\u001b[39;00m \u001b[38;5;167;01mKeyError\u001b[39;00m(key)\n\u001b[32m    418\u001b[39m \u001b[38;5;28mself\u001b[39m._check_indexing_error(key)\n\u001b[32m    419\u001b[39m \u001b[38;5;28;01mraise\u001b[39;00m \u001b[38;5;167;01mKeyError\u001b[39;00m(key)\n",
      "\u001b[31mKeyError\u001b[39m: 'schedule'"
     ]
    }
   ],
   "source": [
    "# : 을 기준으로 분할 \n",
    "\n",
    "df[['s1','s2']] = df['schedule'].str.split(\" : \", expand=True)\n",
    "df\n"
   ]
  },
  {
   "cell_type": "code",
   "execution_count": 38,
   "id": "f26b381e",
   "metadata": {
    "id": "f26b381e"
   },
   "outputs": [
    {
     "data": {
      "text/html": [
       "<div>\n",
       "<style scoped>\n",
       "    .dataframe tbody tr th:only-of-type {\n",
       "        vertical-align: middle;\n",
       "    }\n",
       "\n",
       "    .dataframe tbody tr th {\n",
       "        vertical-align: top;\n",
       "    }\n",
       "\n",
       "    .dataframe thead th {\n",
       "        text-align: right;\n",
       "    }\n",
       "</style>\n",
       "<table border=\"1\" class=\"dataframe\">\n",
       "  <thead>\n",
       "    <tr style=\"text-align: right;\">\n",
       "      <th></th>\n",
       "      <th>schedule</th>\n",
       "    </tr>\n",
       "  </thead>\n",
       "  <tbody>\n",
       "    <tr>\n",
       "      <th>0</th>\n",
       "      <td>1st_seq : getting up at 05:45am</td>\n",
       "    </tr>\n",
       "    <tr>\n",
       "      <th>1</th>\n",
       "      <td>2nd_seq : swimming from 06:00 to 07:00am</td>\n",
       "    </tr>\n",
       "    <tr>\n",
       "      <th>2</th>\n",
       "      <td>3rd_seq : My morning food is American style</td>\n",
       "    </tr>\n",
       "    <tr>\n",
       "      <th>3</th>\n",
       "      <td>4th_seq : Writing some proposal from 02:00pm t...</td>\n",
       "    </tr>\n",
       "    <tr>\n",
       "      <th>4</th>\n",
       "      <td>5th_seq : Arriving at JongGak at 07:00pm</td>\n",
       "    </tr>\n",
       "    <tr>\n",
       "      <th>5</th>\n",
       "      <td>6th_seq : Fun with friends enjoy beer till 09:...</td>\n",
       "    </tr>\n",
       "    <tr>\n",
       "      <th>6</th>\n",
       "      <td>7th_seq : My house at 10:30pm and sleeping by ...</td>\n",
       "    </tr>\n",
       "  </tbody>\n",
       "</table>\n",
       "</div>"
      ],
      "text/plain": [
       "                                            schedule\n",
       "0                    1st_seq : getting up at 05:45am\n",
       "1           2nd_seq : swimming from 06:00 to 07:00am\n",
       "2        3rd_seq : My morning food is American style\n",
       "3  4th_seq : Writing some proposal from 02:00pm t...\n",
       "4           5th_seq : Arriving at JongGak at 07:00pm\n",
       "5  6th_seq : Fun with friends enjoy beer till 09:...\n",
       "6  7th_seq : My house at 10:30pm and sleeping by ..."
      ]
     },
     "execution_count": 38,
     "metadata": {},
     "output_type": "execute_result"
    }
   ],
   "source": [
    "df"
   ]
  },
  {
   "cell_type": "code",
   "execution_count": null,
   "id": "2516f8f9",
   "metadata": {},
   "outputs": [],
   "source": []
  }
 ],
 "metadata": {
  "colab": {
   "provenance": []
  },
  "kernelspec": {
   "display_name": "venv",
   "language": "python",
   "name": "python3"
  },
  "language_info": {
   "codemirror_mode": {
    "name": "ipython",
    "version": 3
   },
   "file_extension": ".py",
   "mimetype": "text/x-python",
   "name": "python",
   "nbconvert_exporter": "python",
   "pygments_lexer": "ipython3",
   "version": "3.13.3"
  }
 },
 "nbformat": 4,
 "nbformat_minor": 5
}
