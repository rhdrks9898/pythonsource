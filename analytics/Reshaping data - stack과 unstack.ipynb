{
 "cells": [
  {
   "cell_type": "markdown",
   "id": "de584e37",
   "metadata": {
    "id": "de584e37"
   },
   "source": [
    "### [참고] <a href=\"https://pandas.pydata.org/Pandas_Cheat_Sheet.pdf\">Pandas Cheat Sheet</a>"
   ]
  },
  {
   "cell_type": "code",
   "execution_count": 1,
   "id": "0991b340",
   "metadata": {
    "id": "0991b340"
   },
   "outputs": [],
   "source": [
    "# 라이브러리 로드\n",
    "\n",
    "import pandas as pd\n",
    "import seaborn as sns"
   ]
  },
  {
   "cell_type": "markdown",
   "id": "35799c06",
   "metadata": {
    "id": "35799c06"
   },
   "source": [
    "### 멀티인덱스"
   ]
  },
  {
   "cell_type": "code",
   "execution_count": 3,
   "id": "0d7c680e",
   "metadata": {
    "id": "0d7c680e",
    "outputId": "f289e28a-f099-4aeb-e8ff-067e243e6c46"
   },
   "outputs": [
    {
     "data": {
      "text/html": [
       "<div>\n",
       "<style scoped>\n",
       "    .dataframe tbody tr th:only-of-type {\n",
       "        vertical-align: middle;\n",
       "    }\n",
       "\n",
       "    .dataframe tbody tr th {\n",
       "        vertical-align: top;\n",
       "    }\n",
       "\n",
       "    .dataframe thead th {\n",
       "        text-align: right;\n",
       "    }\n",
       "</style>\n",
       "<table border=\"1\" class=\"dataframe\">\n",
       "  <thead>\n",
       "    <tr style=\"text-align: right;\">\n",
       "      <th></th>\n",
       "      <th></th>\n",
       "      <th>a</th>\n",
       "      <th>b</th>\n",
       "      <th>c</th>\n",
       "    </tr>\n",
       "    <tr>\n",
       "      <th>n</th>\n",
       "      <th>v</th>\n",
       "      <th></th>\n",
       "      <th></th>\n",
       "      <th></th>\n",
       "    </tr>\n",
       "  </thead>\n",
       "  <tbody>\n",
       "    <tr>\n",
       "      <th rowspan=\"2\" valign=\"top\">d</th>\n",
       "      <th>1</th>\n",
       "      <td>4</td>\n",
       "      <td>7</td>\n",
       "      <td>10</td>\n",
       "    </tr>\n",
       "    <tr>\n",
       "      <th>2</th>\n",
       "      <td>5</td>\n",
       "      <td>8</td>\n",
       "      <td>11</td>\n",
       "    </tr>\n",
       "    <tr>\n",
       "      <th>e</th>\n",
       "      <th>2</th>\n",
       "      <td>6</td>\n",
       "      <td>9</td>\n",
       "      <td>12</td>\n",
       "    </tr>\n",
       "  </tbody>\n",
       "</table>\n",
       "</div>"
      ],
      "text/plain": [
       "     a  b   c\n",
       "n v          \n",
       "d 1  4  7  10\n",
       "  2  5  8  11\n",
       "e 2  6  9  12"
      ]
     },
     "execution_count": 3,
     "metadata": {},
     "output_type": "execute_result"
    }
   ],
   "source": [
    "df = pd.DataFrame({\n",
    "    'a':[4,5,6],\n",
    "    'b':[7,8,9],\n",
    "    'c':[10,11,12],\n",
    "}, index=pd.MultiIndex.from_tuples([('d',1),('d',2),('e',2)], names=['n','v']))\n",
    "\n",
    "df"
   ]
  },
  {
   "cell_type": "code",
   "execution_count": null,
   "id": "86e75567",
   "metadata": {
    "id": "86e75567"
   },
   "outputs": [],
   "source": []
  },
  {
   "cell_type": "markdown",
   "id": "c7b5f1ae",
   "metadata": {
    "id": "c7b5f1ae"
   },
   "source": [
    "#### 1) 조회"
   ]
  },
  {
   "cell_type": "code",
   "execution_count": 4,
   "id": "76282270",
   "metadata": {
    "id": "76282270"
   },
   "outputs": [
    {
     "data": {
      "text/html": [
       "<div>\n",
       "<style scoped>\n",
       "    .dataframe tbody tr th:only-of-type {\n",
       "        vertical-align: middle;\n",
       "    }\n",
       "\n",
       "    .dataframe tbody tr th {\n",
       "        vertical-align: top;\n",
       "    }\n",
       "\n",
       "    .dataframe thead th {\n",
       "        text-align: right;\n",
       "    }\n",
       "</style>\n",
       "<table border=\"1\" class=\"dataframe\">\n",
       "  <thead>\n",
       "    <tr style=\"text-align: right;\">\n",
       "      <th></th>\n",
       "      <th>a</th>\n",
       "      <th>b</th>\n",
       "      <th>c</th>\n",
       "    </tr>\n",
       "    <tr>\n",
       "      <th>v</th>\n",
       "      <th></th>\n",
       "      <th></th>\n",
       "      <th></th>\n",
       "    </tr>\n",
       "  </thead>\n",
       "  <tbody>\n",
       "    <tr>\n",
       "      <th>1</th>\n",
       "      <td>4</td>\n",
       "      <td>7</td>\n",
       "      <td>10</td>\n",
       "    </tr>\n",
       "    <tr>\n",
       "      <th>2</th>\n",
       "      <td>5</td>\n",
       "      <td>8</td>\n",
       "      <td>11</td>\n",
       "    </tr>\n",
       "  </tbody>\n",
       "</table>\n",
       "</div>"
      ],
      "text/plain": [
       "   a  b   c\n",
       "v          \n",
       "1  4  7  10\n",
       "2  5  8  11"
      ]
     },
     "execution_count": 4,
     "metadata": {},
     "output_type": "execute_result"
    }
   ],
   "source": [
    "# iloc[] / loc[]\n",
    "\n",
    "df.loc['d']"
   ]
  },
  {
   "cell_type": "code",
   "execution_count": 5,
   "id": "91ca72f9",
   "metadata": {
    "id": "91ca72f9",
    "outputId": "8ac6b841-6d65-4752-9114-dbcf5b55e692"
   },
   "outputs": [
    {
     "data": {
      "text/html": [
       "<div>\n",
       "<style scoped>\n",
       "    .dataframe tbody tr th:only-of-type {\n",
       "        vertical-align: middle;\n",
       "    }\n",
       "\n",
       "    .dataframe tbody tr th {\n",
       "        vertical-align: top;\n",
       "    }\n",
       "\n",
       "    .dataframe thead th {\n",
       "        text-align: right;\n",
       "    }\n",
       "</style>\n",
       "<table border=\"1\" class=\"dataframe\">\n",
       "  <thead>\n",
       "    <tr style=\"text-align: right;\">\n",
       "      <th></th>\n",
       "      <th>a</th>\n",
       "      <th>b</th>\n",
       "      <th>c</th>\n",
       "    </tr>\n",
       "    <tr>\n",
       "      <th>v</th>\n",
       "      <th></th>\n",
       "      <th></th>\n",
       "      <th></th>\n",
       "    </tr>\n",
       "  </thead>\n",
       "  <tbody>\n",
       "    <tr>\n",
       "      <th>2</th>\n",
       "      <td>6</td>\n",
       "      <td>9</td>\n",
       "      <td>12</td>\n",
       "    </tr>\n",
       "  </tbody>\n",
       "</table>\n",
       "</div>"
      ],
      "text/plain": [
       "   a  b   c\n",
       "v          \n",
       "2  6  9  12"
      ]
     },
     "execution_count": 5,
     "metadata": {},
     "output_type": "execute_result"
    }
   ],
   "source": [
    "df.loc['e']"
   ]
  },
  {
   "cell_type": "code",
   "execution_count": 6,
   "id": "b528112c",
   "metadata": {
    "id": "b528112c",
    "outputId": "a448893f-4ac6-4cea-b878-5c9211dceb97"
   },
   "outputs": [
    {
     "data": {
      "text/plain": [
       "a     4\n",
       "b     7\n",
       "c    10\n",
       "Name: (d, 1), dtype: int64"
      ]
     },
     "execution_count": 6,
     "metadata": {},
     "output_type": "execute_result"
    }
   ],
   "source": [
    "df.loc['d',1]"
   ]
  },
  {
   "cell_type": "code",
   "execution_count": 7,
   "id": "f73e6481",
   "metadata": {
    "id": "f73e6481",
    "outputId": "864c0fd1-d8f3-4182-d968-8e031d158f9f"
   },
   "outputs": [
    {
     "data": {
      "text/plain": [
       "a     5\n",
       "b     8\n",
       "c    11\n",
       "Name: (d, 2), dtype: int64"
      ]
     },
     "execution_count": 7,
     "metadata": {},
     "output_type": "execute_result"
    }
   ],
   "source": [
    "df.loc['d',2]"
   ]
  },
  {
   "cell_type": "code",
   "execution_count": 9,
   "id": "d6dc7fc5",
   "metadata": {
    "id": "d6dc7fc5",
    "outputId": "ef225659-2995-43ee-c11f-ed98632b8f7e"
   },
   "outputs": [
    {
     "data": {
      "text/plain": [
       "a     6\n",
       "b     9\n",
       "c    12\n",
       "Name: (e, 2), dtype: int64"
      ]
     },
     "execution_count": 9,
     "metadata": {},
     "output_type": "execute_result"
    }
   ],
   "source": [
    "df.loc['e',2]"
   ]
  },
  {
   "cell_type": "code",
   "execution_count": null,
   "id": "8d24cf7e",
   "metadata": {
    "id": "8d24cf7e"
   },
   "outputs": [],
   "source": []
  },
  {
   "cell_type": "markdown",
   "id": "c8596f8e",
   "metadata": {
    "id": "c8596f8e"
   },
   "source": [
    "## stack() / unstack()\n",
    "\n",
    "https://pandas.pydata.org/docs/reference/api/pandas.DataFrame.stack.html\n",
    "\n",
    "- pivot() 메소드와 밀접하게 연관됨\n",
    "- multiIndex 객체와 함께 작용하도록 설계됨\n",
    "- stack() : 컬럼을 마지막 인덱스로\n",
    "- unstack() : 마지막 인덱스를 컬럼으로\n",
    "\n",
    "#### stack & unstack\n",
    "- stack:컬럼 레벨에서 인덱스 레벨로 dataframe 변경\n",
    "  - 즉, 데이터를 쌓아올리는 개념으로 이해하면 쉬움\n",
    "- unstack : 인덱스 레벨에서 컬럼 레벨로 dataframe 변경\n",
    "  - stack 의 반대 operation\n",
    "- 둘은 역의 관계에 있음   "
   ]
  },
  {
   "cell_type": "markdown",
   "id": "0b5ca919",
   "metadata": {
    "id": "0b5ca919"
   },
   "source": [
    "![image.png](data:image/png;base64,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)"
   ]
  },
  {
   "cell_type": "markdown",
   "id": "ad6c8fec",
   "metadata": {
    "id": "ad6c8fec"
   },
   "source": [
    "![image.png](data:image/png;base64,iVBORw0KGgoAAAANSUhEUgAAAs0AAAGDCAIAAABfl7pXAAAgAElEQVR4AeydBzxV///4v59PQ0MiZafIiGREpTJLkaYiRUKSSrZKRhtpKSUaoogyI3tryN6b7L11Xeu69/6r8/ve//2q0M28vc7j/fA495z3fL6Pc573fd7n3P/gYQECQAAIAAEgAASAwPgQ+M/4ZAu5AgEgAASAABAAAkAAD54BBwEQAAJAAAgAASAwXgTAM8aLLOQLBIAAEAACQAAIgGfAMQAEgAAQAAJAAAiMFwHwjPEiC/kCASAABIAAEAAC4BlwDAABIAAEgAAQAALjRQA8Y7zIQr5AAAgAASAABIAAeAYcA0AACEx7Ajgcrra2tqKioqWlZWBgYNq3BxoABMiIAHgGGXUmNGX6E8DhcL29vZWVlaWlpT+9ZPb09DQ0NJSUlHz+/Lmvr2+yWozFYvu+L4ODg5NVB+JyMRjMkydPbG1tQ0JCWlpaiHfBOhAAApNLADxjcvlD6UDgfwgMDAyUl5ebm5vr6Oj4+Pg0NTX9z248vqSk5NGjR9ra2kZGRlVVVTgcbkiECfg4ODjY2dmZl5eXm5s7RS7qvb29/Pz8M2fO1NbWzs/PnwAIUAQQAAKjJACeMUpQEA0ITASB3t7e1NRUPj4+Kioqc3PzsrKyIaV++PBBTU2NkpKSlZU1MzMTi8UOiTABH1EoVEREhKCgoICAgIuLywSUOGIR4BkjIoIIQGCyCIBnTBZ5KBcI/IRAT09PcnIyJyfn7Nmzz549W1paOiTSu3fvlJWVZ8yYQUdHl5GRMVmeERwcvGzZsqVLlzo6Og6p4aR8BM+YFOxQKBAYDQHwjNFQgjhAYIIIjK1n/O5dlVHGR6FQwcHBrKysJHjGKIv4XdzgGb9LDOIDgQkjAJ4xYaihICAwMgHSPAOLxX758qWwsLCsrKyrq6u7u7uysvLjx48xMTEfP34sLi7u7OwcpuympqacnJz379/Hfl8SExMLCgp+nIXa3NxcUlKSn5+fmpr68OFDRkZGBgYGS0vLfKLl8+fPP5bV29tbV1eXlZWFVCkhISEtLa2srKyjo2OYWuHxeGRWbFlZWUZGxrt37+Li4j59+lRUVIRCoYYM5AzjGWg0uqamJj8//6cJh68A7AUCQODPCYBn/DlDyAEIjBkB0jyjt7c3Pz///PnzdnZ279+/j4+Pv379uoqKyo4dO5SVlS0tLSMiItrb24fUErmKFxQUPHnyxMDAQFlZeffu3Xv27Dl06NCZM2c8PDxKSkqIL+dRUVE2Njampqb6+vr79u2joqJasGCBjIyMKdFy9+7djIwM4kGLxsbG2NjYu3fv6urqHjx4cNeuXfv37z927NilS5dev35dV1f3q8dQ+/v7a2pqwsLCLl26pKOjo6iouHfvXlVVVTMzM19f3yEJf+UZaDT6/fv3d+7csbS0fPr0aX19PQaDGcIBPgIBIDCuBMAzxhUvZA4Efo8AaZ7R2dkZGBg4b948Dg4OXV3dffv20dDQ0NHRLVmyZO7cuRQUFDt27AgNDR3yDOrAwEBhYeGBAwdoaGgoKSnp6OiYmZmZmJhoaWkpKSn5+PicnZ37+/sJDbh165awsPDixYtpaWmpqKj+/b5QUlIuJlo2b97s4+NDbCeenp4SEhIUFBRUVFS0tLSM3xdaWtr58+ezsrLeunWrurr6x2s/FostLy+3s7NbunTp7Nmzqamp6enpGRgYkLotXLjQ3d2d+FGXn3rGwMBAamrqgQMH5s2bt3r16nv37v041kJoHawAASAwTgTAM8YJLGQLBEgh8IeeQUVFtXjxYnFxcUtLy9evX3t6eqqoqDAxMc2bN09JSam+vp54pKG6uvr27dtIkhMnTnh4eISGhr59+9bd3d3U1PTgwYPPnz8n9ozc3NygoCBPT89nz56dOXMGEQ5NTU1PoiUsLKyiooK4lKdPn8rJycnIyNja2rq7uwcFBQUGBj59+vTo0aN0dHS0tLS3b9+urq4eAquhocHKyoqJiYmKikpKSsre3t7X19ff3//p06eGhoZfp4a4uLg0NDQQUv3oGVgsNi0t7eDBg0uWLBEREXF1de3p6SGuGCEtrAABIDCuBMAzxhUvZA4Efo/AH3rGzJkzpaWlXVxcqqqq2r4vxcXFampq1NTUoqKiERERxBfa1NTUPXv2zJgxQ1VVNTY2trW1taurq7Ozs7W1tbKysqCg4OvFnnhkoqenp6Ojo62traqqysvLi4WFhZmZ+caNG0hByN/Ozs4hbw/Lycl59+5ddnZ2bW1ta2trZ2dnR0dHc3NzXFyclpbWv//+u379+nfv3hFj6u/vv3PnjqCgID09vYKCQkpKSl1dXXt7O5KwrKwsJiYmJyfny5cvhFRDPKO7u/v9+/dbt25lYmKSk5Nzc3Nrbm4mRIYVIAAEJpIAeMZE0oaygMAIBP7QM+bPn3/+/PmioiLiYuzs7Li4uPj5+d3c3Ii9IT4+XkhI6J9//jE2Ni4sLCROgszBJJYS4r2/9bxJd3f3TwcSWlpanj9//p///GfBggXe3t6EgRMcDldWVqakpERLS7t58+aQkBAMBkNcExwO19fX193dTXy3hdgz3r9/HxoaqqiouGDBgu3bt7u7u9fX1xPXH9aBABCYSALgGRNJG8oCAiMQ+EPPYGBgePz48ZApn66urqKioitXrnRwcCD2jMTERGlp6X/++UdeXt7Pz6+6uhoZjSC+qP+0ur/lGXg8HovFdnd3NzQ0lJaWZmZmJiYmvn//PiYmxsHB4T/fl6dPnxIGJ3A4XFxcnJiYGD09vZ6eXldX10/rMGQjwTP27dtna2urqKhIRUUlLCzs5uZGfHtlSCr4CASAwAQQAM+YAMhQBBAYLYE/9Aw2NraXL192d3cTl+fl5SUhIcHJyWlnZ0fsGWVlZVZWVtTfFyUlpTt37nh7e0dFRaWnp1dXV/f29hJnQrz+W54xODhYUVERGhrq6Oh44cKFkydPqqioKCoq7t+/f8uWLYhnODo6trW1IUVgsVgfH581a9Z8fVmZjY3NkLmrxNUgXid4Bh8f37p162bPnj1z5sxDhw6lpqYSD3sQJ4F1IAAEJoYAeMbEcIZSgMCoCPT29iYnJ3Nxcf3W+0AJz5twc3N7e3v39PQQF/b69WspKSkODg5bW1tiz+jr68vJydmxYwcjI+P8+fMXLlzIxMS0cuVKSUlJa2vrrKysX6nG6D0Dh8PV19fb2try8vIu/L7Q0tIuWbKE7vuyaNEixDMcHBwID49gsVgnJydeXl7kCRHiChM3asg6wTNmzpxJSUlJS0tLQUFBTU398OHDxsbGIZHhIxAAAhNJADxjImlDWUBgBAK9vb0pKSnc3NwjegY9PX1WVhZyj4PYM3x8fIb4wa88A4fDDQwMNDQ0PHv27OjRo+Li4pycnNTU1LNmzZo/f/6ePXtCQkJ+Opwwes/o6uo6e/bs8uXLlyxZIisr6+joGBMTk52dXVxcXFRU5OPj81PPuH///sqVK/n5+e/fv/+7nkFDQ6Oqqvry5cvNmzfPmzdvy5YtwcHBI94JGqFXYDcQAAJ/QAA84w/gQVIgMNYE+vr6MjIyeHh4KCgoTE1Ni4uLh5SQkJCgpKQ0c+bMpUuX5uTkIHtJ8wwkLRaLbWlpKSkpSU1NjYqKcnV13bdvHzU19eLFiy0tLX/8wVg8Hj9Kz8DhcGlpaXJycoyMjIcPH05PT29qakKhUH19fQMDAx0dHUFBQT/1jFevXgkKCnJzc1+/fv2nojOECR6PJ4xnyMvLBwYG1tXV+fj4sLCwLFq06OjRox8/fvwxCWwBAkBgYgiAZ0wMZygFCIyKwMDAQF5eHj8//5w5c/T09HJzc4cki4qK2rlzJwUFhYCAAOEhkT/xDCR/HA6HwWB6enqamppiYmLWrl07b948VVXVjIyMIRVAPCMiImLZsmWMjIwODg4/RiDkGRQUtG7dOi4uLmtr6yHzJOrr6x0dHX/qGVFRURs3bmRkZDQxMUGj0b/Kn3g7wTM0NTWzs7MxGExjY+O5c+dWrFjBxsZmYmJSUVFBHB/WgQAQmDAC4BkThhoKAgIjE0DegykmJjZ//vy9e/dGRkYSpxkcHPTw8ODn56ekpFRSUiovL0f2/rlnEEpBXkYuLy+/YMGCAwcOJCcnE3YRVnp6epKSktjY2BYuXGhraztEIAjRcDicj4+PsLAwLy/vrVu3CNuRJ1DS0tI0NDR+9AwcDldUVLRr1y5qamp5efn3798TJ0TWcTjc4OAg8d0Qgmdoa2vn5+cjReTm5qqrqzMwMAgKCj569Ig4/o95whYgAATGiQB4xjiBhWyBAIkEWlpaDAwMGBkZOTk5L1++XFpairxBq7W1NS8vz8jIiIqKipWV9eHDh4S5k6R5RltbW3JycklJSWNjY1dXFxqNRt7EVVRUJC4uTkVFpaOjU1ZW9mMzBgYGKisrBQQEKCgojh07lpWV1dTU1P596erqIn4TRmRk5MaNG1lYWAwMDGpqalAoVG9vb1dXV2lp6cOHD3l5eX/0DDwej0ajraysODg4li5dqqOjU1hY2NLSgkKhuru7Ozo6amtrMzIyampqiKeh/OgZyCtAfHx8ZGRkFi1atHXr1tzc3N7eXrCNHzsUtgCBcSUAnjGueCFzIPDbBAYGBoqLi2VkZObPn79y5Up9fX1PT8/Q0FAPD4/jx49zcnLS0NAoKCh0dHQQ5kiS5hkRERH8/PzHjx93dnYOCQn5+PFjUlJSYGCgoaEhIyPj0qVLb9y4MeQRWaQxyJuyVFVVFy9ezMbGpq6u/vTpUx8fH19f3+jo6KqqKsK1vKSkZN++fZSUlKtWrbK2to6Li0tJSQkJCTE3N5eSkmJjY/upZ+Dx+KKiIj09vUWLFiHzOt3c3GJiYuLj49+8eXPz5s1t27Z5eHgQP0jyU8/A4/FtbW02NjZsbGw0NDQHDhwoLi7+1c+2/XY/QQIgAARGRwA8Y3ScIBYQmEACg4ODnp6eGzZsmD179ty5cxcuXLho0aKFCxfOnTt35syZ69evDwsLI54gSZpnBAYGUlJSzpkzZ8GCBTQ0NLS0tIsXL6ahoZk3b96///6rqamZlJREMIYhrcfhcOnp6fLy8vPmzZszZw4VFRXyHg5JSUlvb29C3TAYjI+Pj7S09IwZM+bPn08ogoqKSlpa2tra+leeMTg4mJmZqaenN2vWLAoKioULF9J+X2hoaBZ8Xx4/fkz8Aq5feQYOh2toaLCzs5s3bx41NfW9e/fq6uqGtAU+AgEgMK4EwDPGFS9kDgRIJNDS0hIZGXn58mVlZWUZGZkNGzZs27bt8OHD169fT0hI6OzsJDYANBqdmZl54sQJc3Pz1NTUIV/ZU1JS7OzszMzMQkJCiFNVVFQ4OjoaGRkpKSnJyMhs3LhRTExMXl5eQ0PD0dExMzMThUINU3s0Gp2YmOjk5GRmZqarq3v0+3L58uVPnz4RBlqQEYWwsLBz587t2LEDKWLPnj1mZmZBQUFZWVma35fo6GjC+0AJJaLR6Pz8fFdX15MnT+7fv19aWlpcXHz79u1aWloODg6lpaXEP6TytckXL148duyYm5vbEJPAYDBpaWkXLlzQ1ta+f//+j7/ZRigRVoAAEBgPAuAZ40EV8gQCY0AAhUKVlZUlJiZGR0eHhobGxMQkJydXVlYSz0tAihkcHOzo6MjIyMjLy2tvbye+zOPx+Pb29uLi4tzc3IaGBmLP6Ovrq6+vz8vL+/jxY3R0dNj3JS4uLjU1taGhgTDNYpiW9Pb2NjQ0FBUVZWVlpX1fCgoK2traiEvB4/GdnZ2FhYXx8fFIEe/evSssLOzo6ECj0Uiqpqamn04mHRgYaG1tzcrK+vDhQ2RkZHh4eFxcXHp6em1tbX9/P3EpOByuoKAgPT39p3y+fPlSUlKSlpaWn58/vDwN01jYBQSAAGkEwDNI4wapgAAQAAJAAAgAgZEJgGeMzAhiAAEgAASAABAAAqQRAM8gjRukAgJAAAgAASAABEYmAJ4xMiOIAQSAABAAAkAACJBGADyDNG6QCggAASAABIAAEBiZAHjGyIwgBhAAAkAACAABIEAaAfAM0rhBKiAABIAAEAACQGBkAuAZIzOCGEAACAABIAAEgABpBMAzSOMGqYAAEAACQAAIAIGRCYBnjMwIYgABIAAEgAAQAAKkEQDPII0bpAICQAAIAAEgAARGJgCeMTIjiAEEgAAQAAJAAAiQRgA8gzRukAoIAAEgAASAABAYmQB4xsiMIAYQAAJAAAgAASBAGgHwDNK4QSogAASAABAAAkBgZALgGSMzghhAAAgAASAABIAAaQTAM0jjBqmAABAAAkAACACBkQmAZ4zMCGIAASAABIAAEAACpBEAzyCNG6QCAkAACAABIAAERiYAnjEyI4gBBIAAEAACQAAIkEYAPIM0bpAKCAABIAAEgAAQGJkAeMbIjCAGEAACQAAIAAEgQBoB8AzSuEEqIAAEgAAQAAJAYGQC4BkjM4IYQAAIAAEgAASAAGkEwDNI4wapgAAQAAJAAAgAgZEJgGeMzAhiAAEgAASAABAAAqQRAM8gjRukAgJAAAgAASAABEYmAJ4xMiOIAQSAABAAAkAACJBGADyDNG6QCggAASAABIAAEBiZAHjGyIwgBhAAAkAACAABIEAaAfAM0rhBKiAABIAAEAACQGBkAuAZIzOCGEAACAABIAAEgABpBMAzSOMGqYAAEAACQAAIAIGRCYBnjMwIYgABIAAEgAAQAAKkEQDPII0bpAICQAAIAAEgAARGJgCeMTIjiAEEgAAQAAJAAAiQRgA8gzRukAoIAAEgAASAABAYmQB4xsiMIAYQAAJAAAgAASBAGgHwDNK4QSogAASAABAAAkBgZALgGSMzghhAAAgAASAABIAAaQTAM0jjBqmAABAAAkAACACBkQmAZ4zMCGIAASAABIAAEAACpBEAzyCNG6QCAkAACAABIAAERiYAnjEyI4gBBIAAEAACQAAIkEYAPIM0bpAKCAABIAAEgAAQGJkAeMbIjCAGEAACQAAIAAEgQBoB8AzSuEEqIAAEgAAQAAJAYGQC4BkjM4IYQAAIAAEgAASAAGkEwDNI4wapgAAQAAJAAAgAgZEJgGeMzAhiAAEgAASAABAAAqQRAM8gjRukAgJAAAgAASAABEYmAJ4xMiOIAQSAABAAAkAACJBGADyDNG6QCggAASAABIAAEBiZAHjGyIwgBhAAAkAACAABIEAaAfAM0rhBKiAABIAAEAACQGBkAuAZIzOCGEAACAABIAAEgABpBMAzSOMGqYAAEAACQAAIAIGRCYBnjMwIYgABIAAEgAAQAAKkEQDPII3btEmFxWJ7enpQKBQGgyGt0v39/T09PSQnJ61QSAUEgMAUIdDzfSH5DDAwMPDlyxcsFjtFmvNb1cDhcGg0uqenZ3Bw8FcJKyoqwsLC8vLyCBEGBgYSEhJycnKGSUWI/DesgGdM0V7u7+8vLy+vqqrq6en5kyp2dXWFhYU9evSovLwch8ORkFVqaurbt2/Ly8tJSAtJgAAQmCwCpaWltbW1vb29f1iBoKCg0NDQiooKEvLBYDD5+fkODg6tra0TedFFyi0pKfnD5vf19fn5+QUGBtbV1f20+TgczsXF5eXLl8XFxYQIGAzmxYsXzs7OmZmZhI1/8wp4xpTo/R8NoKOjw8vL682bN/X19X9Sxaamplu3bqmqqiYnJ/9Yymhy9vHxsbGxSU1NHU1kiAMEgMAUIeDm5hYWFtbc3PyH9bl69aqdnV1aWhoJ+fT390dFRe3du7eqqmpgYICEHEhLgkaj7e3tnzx50tTURFoOSKru7m4LC4srV64UFBT8mA8Wi/3y5Yuurm5QUFBHRwchAg6HCw8PNzMzu3fv3h+KDiHPab0CnjGZ3Tc4ONjQ0JCVlZWUlJSZmdnc3DwwMDA4ONja2hoXF3fixAljY+Pg4OC8vLza2lqkou3t7YWFhWlpaenp6aWlpb29vQR7wGAwbW1tOTk5KSkpOTk5TU1NGAymsbHR2tpaQUEhMTERi8V2dHSUlZU1Nzcj3y26u7srKirS09MzMjIaGxv7+/vxeDwOh+vr60O2FxYWPnz48MKFC0lJSZNJCsoGAkDgBwIDAwNNTU2ZmZnJyclZWVkNDQ3935eGhobc3Fx1dXULC4uIiIj8/PyKigrs96W1tbWoqCjt+1JaWopGowknECwW29ramp+fn5qampOT09jYiBRoYWFx+fLl5ORkLBaLRqOLioo6OjqQ2yi9vb0VFRWpqalZWVnICQdJgsFgPn/+nPV98fDw2Lp1a0VFxTCe0dvbW1tb29jYiGTb0dFRU1PT1dWFx+NbW1urq6srKiqKiorS09OrqqqQ0xQej+/r66utrU1LS0tOTs7NzW1pacHj8QMDA+Xl5cnJyTt27FBRUQkPDy8oKEBGUwgNTElJSUtLq6ioQKPRxFCbmpry8/PT0tJyc3MbGxtxOBwKhTI2NjY3N8/NzcVisSgUqrS0tL29HbkNhEajExMT1dXVP378SMCIZNjQ0GBhYXHs2DHCqZu4oL9tHTxjMnu8vr7+xYsXWlpaioqKR48eDQ4Obm1t7e7ujouL09LSWrdu3aZNm9TU1ExMTF69eoUYQFxcnIWFhYqKyuHDh62srLKysvr6+vB4PBaLbWhoCAgI0NHRUVZW1tXVDQwM7OzsJHjGx48fOzo6oqOjr169Ghsb29PT09vbm5SUdP36dVVV1cOHD7u6ulZXVw8ODg4MDJSWltrY2KipqZmZmZ08edLMzAw8YzIPFCgbCPyMQE1NzcuXL48cOaKoqHjs2DFfX9/m5ubW1tbAwEBjY2MhISFJSUkNDY0zZ844Ozv39vb29/dHR0dbWloeOnRIRUXFysoqIyMDudYiX298fX2NjIwOHTqkp6fn6+uLlIl4xqdPn7q6ulJSUszMzFJSUlAoVE9PT05Ojo2NzaFDhzQ0NF68eFFZWYnFYjEYTFVV1dWrVzU1NY2NjQ0NDaWlpYf3jMrKyidPnnh7eyOjAu/evXvw4EFaWhoOhwsNDb17966dnR1y3rOxsampqcFisYODg2VlZffv31dRUVFUVNTX14+KisLhcO3t7ffv39fX1+fm5hYQEFBXVzc3N4+Pj+/u7u7t7Y2MjDQyMlJWVlZRUbl27VpmZibh/NnZ2enp6WlgYKCioqKvr//69evBwUHEM86fP5+dnd3R0ZGQkGBtbf0VApKqvr7e1NTUwMAgKytrSP/gcDgHBwdNTc2UlJQhu/7Cj+AZk9bpOBzu6tWru3fvPnfuXHBw8OPHj93d3aurq/v7+0tLS11cXJSUlI4cOfLgwYM3b95kZGQgMuHm5ubo6Ojh4fHw4UMtLa3du3cjNw6/fPny6tWrLVu2XLx40cfH5/79+/7+/jU1NQTPiI2NDQwM1NfXt7S07O7uxuFwHz58OHLkyNatW2/cuGFtbb1+/foXL160tLRUV1c7Oztv3LjxyZMn165dk5CQ2Lt3L3jGpB0oUDAQ+BkBHA736tUrWVlZa2vrt2/fOjo6+vv7I9/Rc3Nzv540vp4ctLW1nZ2dAwMDP378iMFgUCjUq1evbt68+fLlSxcXl7179+rr6ycnJ+Px+KamJjc3N15eXjMzM09Pz0ePHrm4uCDFIp4RExMTERGxf//+K1euVFVVYTCY2NhYLS0tGRmZp0+fmpubi4mJmZmZtX1fzp49u3v3bltbWxsbG2lpaQ4Ojs+fPw8znvF1MEZHR+fChQvIbWJ3d3c1NbWgoCAsFnv//v3NmzcfOHDg5s2b58+fZ2Bg8Pb2bmtra25udnZ2XrVq1Z07d968eePs7JyQkIDD4Xp6et69e+fl5SUhISEvL+/k5BQcHFxWVtbf39/e3u7p6Wlpafn69etnz55t3LjRwMAAaX5LS8utW7fk5OSuXr3q5eV19+5dc3Pz/v7+L1++GBsbnz9//sOHD+Hh4ZKSkh4eHg0NDQiZz58/S0tLW1paFhUV/dhFHh4e+vr64eHhP+7627aAZ0xaj+NwOCMjowMHDrx8+bKzs7OlpaW1tbW/vx+5bVFcXHz27NkrV66kpaV1dHQQxveam5sbGhrKy8vT0tKeP38uJCRUVVWFx+M/fPhw8eJFS0vLurq6jo6OxsbGtra2vr4+xDNkZWU1NDQMDAwePHiAjKDi8fhbt26dOnXK0dExKSnp/fv3Ojo6x48fj4qKio+P19LScnJyqqmpqa2ttbKyUldXB8+YtAMFCgYCPyOAw+FevHixY8eO9+/fI9fd9vb2vr4+5BGzjo6O06dP37p1Kycnp7OzE4VC4XA4ZNCipqamoqIiKSnJwcFBTk4uICAAj8fn5uZqa2vfv3+/oKCgra2t6fuCFGthYWFsbGxkZHTy5MlHjx5VVlb29/e3tbXZ29vLyso6Ozunpqa+e/dOXV1dQ0MjPj6+vr5eWlra39+/urr68+fPDx48EBAQKC8vH8YzMjMztbW1LSwskG9Nz58/V1FRCQwMxGKx9+7dk5GRuXTpUlVVVXJy8tq1a21tbcvKyurq6uzt7VevXp2Zmdna2trc3PzlyxfkyxgKhaqurlZSUjp+/Hh2dnZnZ2dfXx8Oh8NgMK2trRUVFeXl5ampqWfOnDl69GhAQEBPT09SUhI7O/utW7fy8vLa29sbGhqQsRlkPENbW9vKykpNTc3T07O2thZpCA6Hy83NXbZsmZ2d3U8nyYaEhJw/f97V1fVnvfd3bQPPmMz+9vPzMzQ0PHnypJ2dnbe3NzKYgVTo693BCxcu3Lx5s6SkhFBFHA6XkJBw584dKyurixcv6unpsbKyIk+CeHl5nTx58vnz58SR8Xh8Y2PjtWvXVq1aJSIioqCg4OzsTPhvNzIy2rNnj6Gh4ZUrVy5dunT4+xISEvLmzZvt27fHxMT09PTgcLhHjx4ZGRmBZxDAwgoQmCIEEhIS9PT0DBOp2ucAACAASURBVA0NbWxs/P39y8rKkPF8pHqmpqYPHz5EvocgW/r6+uLj4+/cuWNpaWllZaWtrc3Nze3u7o7H45OTk+Xl5bOzs5F5i7jvC5LKwsJCVlZ2w4YNCgoKXl5eyPSImpoaCwsLPj4+Y2Pjy5cvX7p06eDBg7q6ulFRUbW1tcLCwpmZmYjxBAYGiomJ/YlnKCsru7i4DA4OVldXy8rKWlhY5Ofnf/nyJTg4eN++faampjY2NoGBgcQt7erqUlVV1dPTIzYAFAoVFxd3/fp1S0vLS5cuKSoq7tmzx9PTs729PSgoaObMmW/evOns7ETuUCPzLRDPkJCQ2LBhw6ZNm2JiYlAoFIIFh8MVFBRwc3NbW1t//vwZ2Uj8982bN2fPnvX09CTe+Heug2dMZr83NDSEhYXZ29tfvnxZV1cXGWxAKoR4xo0bNwiegcPhent7jYyMTExMbt269fjx4ytXrixZsqSsrAyPx7u7u+vo6CDTOIibhHiGkJCQrq7uyZMnrayskPh4PF5fX19bW9vJycn1v8urV6+Ki4v9/f1lZWXfvXuHnHFcXFzOnDkDnkFMFdaBwFQg0NjYGB4efuPGjWvXruno6Dx69Ki0tJRQMVNTU0dHx8rKSsKW+vp6Gxub48eP29vbOzs7nz17loODA/nC/enTJ1lZ2Z/agIWFhYKCwrFjx86dO2dkZFRZWTkwMFBVVWVmZrZ+/XpnZ+dnz54hpxDkDkVtbe2aNWtyc3PxeHxvb+/bt28lJSUJOXd0dCAz2evr6wnfebKyso4fP37+/Pm6ujocDufs7Lxr1y7CeIaWlpaXlxcej6+rq9u5c6eZmVlubi6iHT4+PnZ2dlevXjU2Nvb19SU83PFTz0hJSblw4YKmpqa9vf2zZ88OHTq0a9cuDw+Ptra2gICAf//9NzQ0lKARCDTEM+Tl5dXV1TU1Nc+ePVtRUUF4lcjXObA7duw4f/58YWEhATJhxc3NTVdXNzIykrDlr10Bz5i0rsfhcJ2dna3fl4yMDC0tre3bt7979w6pUHNz8/Xr1y0sLNLS0tBo9MDAABaL7ezslJSUfPLkCTI329/ff9GiRYg3REZGnjt37saNG8ggYXd3NxqNJjxvsnPnzpiYGC8vLz09vfv373d0dGCx2MuXL9va2mZmZnZ3d/f19XV8X/r6+iIjI1VUVDw9Pdva2jo7O69fv378+HHwjEk7UKBgIPAzAsjTHy3fl6Kiov379x89ejQ6OpoQ18zM7Pr168gJBBmEyMvL09PTu3z5MnKjwcXFZdWqVYhnZGZmqqqq+vr61tXV9fb2dnd3E664Ft+XsLCw0NDQXbt2OTs719XVNTQ02NraKigoZGdnd3d39/T0EE4gdXV1YmJi0dHRHR0dTU1Nrq6uIiIiBM/Iycm5devW6dOnw8PDkSdK8Hh8fn6+iYmJjo5OSUlJW1vblStXJCQkCJ5x7Ngx5BsUsWdgMBg0Gv319hDyjIyWltaVK1cID/Gi0Wh1dXVtbe2srKze3l4MBoPD4dzd3Y8cOXLhwgXkzPZ1/ubevXs9PDxQKFR8fPzixYufPHlSVVXV29uLQqHa2toIz5uYmpqGh4f7+flJSEh4e3sjj6Igk1qsra1Pnz6NzJ8jkMfj8f39/bdv39bU1PxxiihxtL9kHTxj0jp6YGAgPj4+NDQ0JSUlLi7u68G6e/fur9MskAp1dnZ6e3urqKg4Ozt/+PDh8+fPiGfIy8tbW1vHxsYGBQWdOnWKlpYW8YyamprHjx8fOnQoJCQkLS0NeRsdMlGD8FxrTU3N3bt3t2zZEh4ejkaj/f39DQwMrKysPnz4kJmZGRYWlpiY2NjYmJ+fb21tra2tHRsbGx4erqqqum/fPvCMSTtQoGAg8DMC/f39eXl5b9++TUtLS0pKUlNTO336dExMDCGuvb39iRMnbt++nZiYWFhYODg4WFRUZGhoaGRk9P79+5iYGC0trWXLliGeUVVVdePGDQUFhZcvXyYnJ3/48AGZIInH4wnPtdbU1Dg4OGzatCkkJKSpqcnHx0dNTe3y5cufPn1KS0sLCwt7//59U1NTS0uLlpaWpaVlYGBgcHCwnp4eFxcXYR5oeHi4nJwcLS3t7du3CS+3qK2tdXJykpaW9vb2Dg4O1tTUFBcXH94zurq68vLyIiIiMjMzP3z4oKura2trS3iI9Ot7PM+cOaOsrPzo0aPU1FTkiVk/P7+jR4/q6el9+vQpJiZm+/btMjIyHh4eGAymoqJCWVlZR0fHx8cHOSGHhYUhM2cJz7U2NTVdvXpVTU0tIiKiu7sbj8f39PSkpaVpamq+f/9+yAtPa2pqzM3Nv056+8MXIBF6c1qvgGdMWvf19fVZWlquWrWKnp6ehYVFSEgoPj6e8B0CGYo4efIkHx8fOzu7iYkJMsXJyclpw4YNjIyMMjIylpaWa9asQe5KYrHYr3OeL168uGTJEnp6eg4Ojq+uUFdXR3jeJDExcXBwMCcnx9zcfNu2bZWVlSgU6vXr17t27aKnp2dgYODk5Lxz5055eTnyvOvmzZtZWFiEhYW3bdsG900m7SiBgoHALwig0WgXFxdubm56eno6OjpRUdGXL18icyGRFPn5+fr6+lxcXJycnIcOHUKhUGg0+u7du+vWraOnp+fh4TE3N+fn50fmZ2AwmOrqalNTUx4eHnp6en5+fktLSyQfgmdgsdj6+nodHR1dXd1Pnz51d3dHR0fLysoyMTHR09OvXLnS0tISmSWalZUlKSnJwMAgJCS0efNmCQkJwnOtP/UM5CHVr8+4MTMzy8rK7ty5U1lZeXjPqK2tdXBwWLZsGQMDw5IlS3bt2oU8n0KglZmZaWJiwsXFxcvL++TJk/b29s7OTnt7+68fmZmZhYWFz507p6mp6eHhMfh96ejo0NfXX7VqFR0dHTLvZIhnYDCY+vp6OTk5XV3dxMREpKCvJ+oTJ078eMPF29vb2Nj48ePHQ/yDUL2/agU8Y9K6G4vF1tTUpKamxsTEfH1lXlZWFvGvACCzoysrK3NycrKysghTnJqbm1NTUxMSErKysmpra/Pz8wkzv5B33SQnJ3/95//06dNXoR74vtTX15eWliIG09PTU1tbW1RUhMxLb29vLygoSEhIiIiISElJqa+vRyZmd3d3FxQUxMfHp6enFxYW1tTUEARo0nhBwUAACBARwGKxTU1NqampUVFR0dHR2dnZra2txFe13t7eqqqq7OzsrKys0tLSwcFBLBbb2NiYnp4eFxeXnp5eU1OTl5fX2tqKzHwcGBioqalJSUmJjo7++PFjdXU1UlptbW1dXR3yDR6DwVR+X1AoFPI2zIKCgri4uOjo6JSUlJqaGuQE0tPTk5+f/+HDh9TU1MLvC7Idj8d3dnYWFxdnZGQ0NDQQ5mcgL93Kzs6OjY3NysoqLi4uKytD3qXR2NhYUVHR1taG3IwoKSmpqanp6enp7+9vaGhITk6OiIiIjY3Nz89HpnASCPX09FRXV2d/X5qbmzEYDPKSoZSUlJiYmOzsbOS5m9bWVmTKJxaLRR5piYuL+/TpU1VVFfKETlVVFVIick4uLi5GvqQhBeFwOF9f368PCRPfHxkYGHBxcXnx4gXxLFRCxf7CFfCMSe70wcHB3t7enp4e4hPE8HUaGBjo7+9HXuj5Y0wsFku4H/nj3h+3YLHY/v5+NBo9ODhI/Eo75PHaIRt/TA5bgAAQmEQCg4ODyDv3Rn8CwWAwyNeMn1YbOSMhD9j/NMKQjciJore3d8gZCbkqE6ZMDkn104+Ec9dP9/504+DgIBqNHqY5Q1IhtSJ+jfKQCAgcYgEaEuHHjw0NDUVFRYSpIcjAc3FxMfGrS39M9VdtAc/4q7obGgsEgAAQAAJAYEIJgGdMKG4oDAgAASAABIDAX0UAPOOv6m5oLBAAAkAACACBCSUAnjGhuKEwIAAEgAAQAAJ/FQHwjL+qu6GxQAAIAAEgAAQmlAB4xoTihsKAABAAAkAACPxVBMAz/qruhsYCASAABIAAEJhQAuAZE4obCgMCQAAIAAEg8FcRAM/4q7obGgsEgAAQAAJAYEIJgGdMKG4oDAgAASAABIDAX0UAPOOv6m5oLBAAAkAACACBCSUAnjGhuKEwIAAEgAAQAAJ/FQHwjL+qu6GxQAAIAAEgAAQmlAB4xoTihsKAABAAAkAACPxVBMAz/qruhsYCASAABIAAEJhQAuAZE4obCgMCQAAIAAEg8FcRAM8gq+7GdnZ0B/hjKitxfX1k1TA8HjcwgI6JGWxsxGOxZNY0aA4QAAJAgIwJgGeQVecO1tW2mZn2paRgUSiyahgej+vp6bS/PVBUhMdgyKxp0BwgAASAABkTAM8gq87FVFW0HFXr9n7Vn5E2UFRITqE/K7PtrHF/dhZ+YICs+gwaAwSAABAgawLgGWTVvZjKihb1Qx2Xrb7cu/PloQNZhfv2rSeP9WdmgGeQ1SELjQECQIDcCYBnkFUPf/OMIwfbDE61mxl3mJ8hp9BuZtKipdafkQ6eQVaHLDQGCAABcicAnkFWPYypqmzRUu+Ni8W2teIGBsgpYDs7263M+3OywTPI6pCFxgABIEDuBMAzyKqHMdXVradP9H78iP3yhawahsfj0Oh2m6sD+XkwD5TMehaaAwSAAHkTAM8gq/7FfvnSExeDqa/H9feTVcPweBwG05uSjG1rhedayaxnoTlAAAiQNwHwDPLqXywWi0bjMBg8DkdeDcPjcThcby9+cJDc2gXtAQJAAAiQNQHwDLLuXmgcEAACQAAIAIFJJfATzxjADHT3oLq6O8gyfOnuQnWjUGgyDd3dPWS6oHt60Gg0ugeNJt8GDsCrQSb1bAiFAwEgMB4EfuIZFZUVbxP8XYLuk2XwCHL1C/YNiCLD4B/uGxDyJjYhnixDTHxcWGR4VGx0THwceTYwLra0rHQ8/skhTyAABIDAJBL4iWeUV1S4JNqYRe8ly3AvyiLwg29UqT/5hdBsv+jkiC8oFFmGzq7OwqLChsaGzq5OsmxgZnZWSWnJJJ4LpnvRnV2dufl5SSnJEKYdgfRPgUWxFiWxZyFMRwL1uS/Q7cN9R/q5ZzxKsjKMkybLcDvW5G2Sb2xNAPmFiEL/uIyo6X61+FX9BwcHKyorur50DZLpVNC8gjzwjF/1/ojbcThcU3NTZXVVdW1NQ2MD+YXqmpqSstKikmLya1pDY0N5bkjGq80NHyUaE8kt1H+U/hy/pyxeofaDDPm1rjFRouGjREOGeWd96jD/pOAZ5CMc4BnDHOhTfxd4xp/0EQ6Ha2hsbGtv7yO7J7oRLP39/a2trU1NTX9Cacqmba9KSPcQ7s4WQueSW/iSva42ZUdV8u6OrI3k1zp0rhAqW6g527CjNnGYows8AzxjmMNjCu2C8Ywp1BlTryrgGVOvT36jRuAZ01dBppJnxEobxk6JGzFw3+Q3/vunUlTwjKnUG1OuLuAZU65LfqdC4BngGX/qBwaxUnpRknpRkvoxUnrR3/4aTJ5zgGf8zr//FIoLnjGFOmPqVQU8Y+r1yW/UCDwDPONPPENqv70gjywD0+qFokfZxHU5eGQZNmqza/tvGtUk01hpvUjJvXb82y/wqj5dO6okI01fnXaeYXz9hIyCxEkrjREnrsL8jN84sU29qDA/40/6BDzjT+hNelrwDPAM0j3j5Fsx8ZMraFjncUrRKd4VUrgpIG3Itesq38m34qORBoNYqVMh4kJKSzkkl8hZ8IwmyYhxpp1nHDE8sIJ3uYKmPHgGPG8y6deDKVsB8Iwp2zWjqRh4BngGiZ6hHy2lcFNghfjiuQtncW+m239HcN8twS0m3LutVx/336T5UlTOgnffbcFd11bvuyWg4b7+6KsNOy6t2mzEJWPKvfMKn8pjkRNBYvKXeBl4qRYwzBFQYFZzXTeiRowYYZSeEVb66nnCAwsHI0MbnbO3T9u4WbjG3o+q8I2s8H0Sceei8xnj6yfP3dG76XkpuNAzusovstzHNe7+pUdnja+fNL5+0trVwivpcWS5z9uCl4/CbpvZ6+tf0za2PXHV5bxb3P3oSr/YmgA7jwvXX1jZvrCydDQxuXHqmst53/RnURW+oSWvXGMdLB8YG9qcuPLk3DZFKVYO5r3q28EzwDNGc8r+O+OAZ0zrfgfPAM8g0TP0IiS3mHDTrVxAQTmTVYRmiwmX5GkOrs10ohrLj7iu22W9egknJbvYYtZ1iwT3MctZ8IjprFi6hmaF2GK2jbRsG2nXqi5TfSKyVpWVmmXunIWzVogv3mvHP6JGjBhhlJ7x4p3jEcMD/Ot5xeTWi24RFt8uetJKwy/TzTPp8cGTCiKSQoIb+ETEBSS2i1o+MA7K93gaZa9hclBYXEBwAx+3AIeIhOD5uwZeSY+dgm/u19q5gnc5/3peHkHOtZJCx86peiY+iqkO2LpPcp30ms17xMXlRDlXrxAQXWXhYOSX4fo4/LaagRKvEBf/el5xOVGOVWx0TIvBM2B+xrS+kIx35cEzxpvwuOYPngGeQaJnGMRIKTkIcW2ho6Kfs15tmZrrWvFTKxh4qfh3M6k8FpGz4J09f8Zsypn0PAvWayyX1OOYv2Q2Ncu8beY84rorlm+gZd9Iq3BTYN9tARYhamqWuSKHWLVebxhRI0aMMBrPiKn2t3Y1p1mykHM1u8UDoyOGB9aI8cspb34cfsfyoQkDK/0q4ZUHju/Zc0Ru0RJqeubFj8PvHDE8wLqCmXcNl/b5wztVt7GwMe0/tsvO46LBteOLllCzrVx2+rLWXg15Vg4WTj62s7dPx1T5C4iumr9gnuhmYXUjZcmdG2fMnLFhi7CDv81JKw16liVL2Zm1z6vJH5JhXEq/YOF88AzwjHE90U/3zMEzpnUPgmeAZ5DoGYZx0hovRQX3syxinbfNbKVepKSUIdcQz1ghvljRXlAvSlLxntAitvkUlDOXi9IKKbFsMeFWfih84q2YTqAYh8SSJZyUkqc5x+TJ2FF6hp3HBablDFTUC8S3rz90SuHcHf0nEXe8kh7v1dxORbNAXG69ttlh5RN72XmW//PPP6Y3TwltXM28nPHoGZXIcp83Oc8vOp258fKi7XNLBQ15WvpFZ27ovsl54fnpkeKxXSxsTHvUt0d89hYQXcW6gtnQWiey3Pdp1F1a+kUrBTjO3zXYrSbLyEqvqqcYVekXUuy5/eAWOmYYz8CDZ0zrC8l4Vx48Y7wJj2v+4BngGaR7hqanqNB+lkXL5m07/80zpH/wDEFFlsPPvs26OBEktsuaj1lgITXz3AV0FAuZ5nJJ06k8FvnmGZLfPENKj3PEsYrRRBiNZ8TWBPimPzt3R4+Ln51xGT0d0+JlnCz7NHc4Bd/cvEeccuH8pSuY+dev4hPhYV+5nGU5k95lrVXC3Ow8y/SuHIutDoiq9PXNcA3IeX7n9ZVt+6XoWZbceX0ltNgrIPv5YX2lpSuYtx/YHF76mn89L58It+V9o9jqALe4+/QsS7j4VxhaH5dVkl7OtdTg2vHYmoCYan/lE3thfgYeD54xruf5aZ85eMa07sIJ84yuLMGYF5z7ti0UFZjrYMVcEr1qvC/wE/M+0LBn7McP0ogKzEXCpjVzlbYveHCJuSJ+dXfO+L5idfLf0zWiZ4gcYj3yfL1epKSa6zqx4+zCB5dKnuYUOcTKwEO1mH2+rDnP8YBN3zyDg1LyNIdhnNRoTGL4OKPxjLDSV04hNzVND6nqKZ6+rLVPayfnanbBDXyXHp1RPLZr4SIqWcXN5+8amtkbKJ/YK3dg8y2vS+ul1zAtY1A3Ug4vff084YH2ebWLzqZ27lYHju+mpaM5bn7EN+PZ00j7nSrblq5gVjq+O7LcV0B0lYAo74WHJrE13zyDYSkdF/+K8/cM9xyRo2NavF9rZ1C+x8uPzlK7NtHS08B9ExjPmNYXkvGuPHjGeBMe1/wnzDPqPq52urKUYfGMmTP+Iy4yN9KNY7wvwxPjGZ72rJLr5tBSz5CXXCAvuWCz6DyBlbPFReZdNWRsThYY1zZOJ89QvCe0fAMt2wbadUeWCymyMPBQLVlBKXue50SgGLcMPTXLXL4djCqPRYZ3iNHsHZVnlLy6/sJqraSQ5I4NGsYHd6vJcvKxC25cbfPc8oKTKdtK1o1b16obKasbKcsoSCpp7/Z476Rhcuibi2zkO3pGZY/6di7+FToWRxyD7ExvnFq6golHiOuwvtJuNTlu/hX863kvOJlGf5+f8aNn2LhZ6l/V5uRj51jFpnp6v+KxXWwrl1HTUoFngGeM64l+umcOnjGte3DCPCPrLY/pMTrKef8uZ565mObfBxdZ6j6uHtchjYnxDI/bS8VE5nAup/B/yO7/kN3j9rIjCjScy2fLSy4oi1n1JUtw/No4+Z5xzGejxCkOLmm6PddX60dJ7bjMt0qeUez4CvUX6/feEFi6hkbagOuo1waDGCk113X8e5mZ+BYuXUPNupaGdS0N/x7mQ87Cp8MkxI6zLxelXbmVXv7SqtGYxPBxRuMZ0ZV+ziE3tytv5hHiFJYQEJEQWCe9RlVP0eOD86uUJ8on9gqLC/Ct5REQXbVhi4jBVe03OS+cgm+qnN7Pv46Xm5+DR5BTXG79tWfm/lluzqG39h3dwSPEuVKQi5ufQ1hcQOuMik+aS0y1/241ud1qsre8LsXWBHh+eiQmt15WabNz6K1HYbfVDA6sEuZewbNcWExgg4zIxq1rdSzV4blWeK51Wl9LxrXy4Bnjine8M58wzwh6xL5TegHjkhnaB6gX08w4rbY41Z97/K7B6FyhifQMXo45Sb7cSb7cCZ5cJlp0gjxz9shQkb9nnA6XUHdff9BxjbbvRoNYKS2fjYechdWfrz8VIqHtt0nxrpCGh6humIRhnLR+tNTxN2L7bgnInFm5xZR7jy2/uvt6/Wgpw1hprdcbFO8J7rstcOTFxL0/I7Lcxzv1qY2bhYndqTO3Tt/0vOSV9Di6yi+m2t8nzeXO6yvm9wytHI2dQ25GlvvEVPvHVPu/Tn5i537hzM3TFxxNXKLvhhR5xdYERJb7+KS52HlcML2pa/nA6GGQ3ZucF4gxPAq7/Sj0ll+ma2xNQGjxq/tvbB8G3wzMc4+q9PNOdbnhcfHsrdP3A2yfRNxxCr75POEBeAZ4xnif7qdv/uAZ07fv8Hj8xHhGR4bgjXNM3Gyztm6aF/6MnWcFxTaxBd732cb1tsJEegYtzYzDexYe3rNwrwwVL8ccnhWzTbQWt6WR+32Tb0MLsdLEv2bybf2/P25CvI4MQhjEShvESH0Lsd8M4/9GJr7n8GPk4cctfrV3NOMZyBU9pjogpso/usrvm15U+cdW//eXXau/Tc+MrvKPqfqmF///8v/f+D/Z/i2+37ckRPEROyEkJ/5IKBrZSLyLEP/HFXjv+LQ+1cJ7x/+k+8Az/oTepKedGM/IertSY/8iHg6K2+cZy+P4NgnP5+GgsLdg7sgYx9sKE+kZcyn+4VlBwbOCgnP57MU0M3hWzLbSpWtJ4R9XkZr8+ya/uthP4vbRe8aPF/IpvgU8Y9JPl39SAfCMP6EHnvEn9CY97QR4RneO0ONrS9cJzKVfPHOnNOWJg4uWMc9aSPmvoSZdRTzf+N06mUjP4FkxJ8GTK8GTK8ad84ohg5jwPHGR+Um+3OMqUuAZ/x0RIfpxNfCMST+nkFYBmAdKGre/JBV4xrTu6AnwjKZkfuOjdMuZZ9HRzhThm7NRaC4322wqyn9lNlH63F9OHp4hyDO35v3qmverK+L4nK+wiIvMXc09J86Dsz19HAdswDPAM6b1yed/Kg+e8T844MP/EgDP+F8e0+zTBHhGfhivohw1x7LZe2SobE2ZbM8w2ZoybVwzj2PZLKOj3yYxjJNqTOR4BgvDLGtjJmtjpssGjErbF65kny2xdn5W0MrOzCnpGU8/XTsbs4ssw93o80EffaM++5NfCMvxi06JQJPpgkKhikuKm5qbUCgUWTYxKye7pLRkml0fpkx1wTOmTFeQUpEJ8Iw4j2+v59q9herFTdaWFP6WVIGWFIGLevRrV889orDoc9x4vbBrYjzDz3G5wrYFy1kohHjnCfHOE+SdK7ByjrQo5QU9hqYkftR4vqqL9PGM5+9cL4SYk2V4EOoQEPsmNCuM/MLbpOCwhOCq8iSyDBWfP6WlxhQXpVdV5lVXFZBfSE79CJ5ByjXqexrwDJLRTYWEE+AZMS84bEyYntosK4rkJQxdxLhz2p1htrdgyQ/jIWwc25WJ8YxkP667lswGGvRIMNGitzZhCHRmG++3g6BzhUj3jFuRNape7WQZLgcU+SdkBud/Ib8QmFYdHu/XmilFlqE5QyYnQae+6F5XtQuqlgxDZtob8AySr3ngGSSjmwoJJ8AzunO+XRFROULED1/838bs/9k4HT0DaciXbEEkoLIFUdmCxC0d20YR50a6Z9hGNu336iXLYBVQHvA+L7R4gPxCUGZT5Ds/VI4wWYau7PVFH460fr7d1/hkoPkx+YWcjADwDJKveeAZJKObCgknwDOIL40TuT4x4xkT2aIhZZHuGTaRzQpe/WQZLAMqAt7nh5YMkl94m9US9c5/yEFANh9ROWuLP6i1l9/qb3o82EKGIRc84w+ueOAZfwBv8pOCZ0zfEzV4xk9UCTxjmh7Q4BmTfzWYwjUAz5jCnTNy1cAzpulp+Y/mZ8B4xnQc7YDxjGk9zgHjGSNfjn4dAzzj12ymwR7wDPCMn4wK/NYtlb0ve3a5tu540rDH/YuCZ99vpR3zyDCeMSYHdFeWYFMSf/W71Y2f+LvG88cACbWdlPGMvgan3gYnTPOjCTAY8Iw/uR6CZ/wJvUlPC55BONFNu5Wpct9E/lHtOkOvVaq2W25m7X7RNebq8FsZgmeMyXFcFsPnab/cTIfezY51XN/aS6jtpHhGZbZdReb13vqH4BmTfikavgLgLH+28QAAIABJREFUGcPzmeJ7wTMIJ7pptzJVPGPr7Ry2LccWsq7ecCZg57OW39KCMY8MnjEmx3GEK4e85AL6xTM3rZmb4Mk1JnkOn8kEe0Zfg3Nn5X2n22qP76l3VDiAZ0zxCxV4xhTvoOGrB54x/NlvKu+dKp6x5WYmy8YDc2gY15x8KnEpVvxCzGa71O8DG9/uoex61rrlZuYm8zAxy4itdwv3vPii4NW/3ala2iZ56+0ceeeazddT5R/VjZVwjK1nhBRj3hb03vNLvuAUcOVJ8KOw3OCi/tCSwaCC3icRBc4hOS7RJQ8C061dI57HlwfmoUNLBkOKBnwz2u19E688Db7pGf8ioeJtYd+YTAeZsPkZbWkCj61ZlzHNZGWasWjhv0+sWSfibTAT+LwJuu5hdIDJ47vqasobbaz2tZXfA88Y/jox6XvBMya9C/6kAuAZU9kkhq/bVPKMDUoUC2hZNiotk1Jn2aDEJqMtoue+y61jx5MGEV03NpnjzKKKLJsOLpc5vuHsG/lHdZvMQ9llT3HtPce15xznLhMp68Qp6BlvC/vc31efunBfRkFddMvujTJ7dx/WNbvr+SYH5Z3Wetz89l4NA+UT5+UP6mzcunfXYV3b51G+Ge3u76tMb7hJ71bZJLtPcoeyhvG1e35J08sz0t5wn1ajZV86y0qXjo52huZ+6ndenMMfi3++dyLHM3rrnVJjLd++0j+jJ+dw/RB4xp9cQiYmLeIZtU21LV3NXT0d5BdaupprGqpr62r7yXFp+hyd5rGmM12wK5PcQnu6SFWiXMXHHS1pG8ivdV2Zgp3pgk2Zhh21icP8p//nx33lFRVj+7zJt/GMDYoz51AuXC5ALyi7iEt0Ph3bktVbttoXbLZLX75Zi5pdmGHNDkaR3TPmLGARVZK88k5Qy3EuLet8Bg4ajvWskmqSV95NQc/wTmu94BRAx8jKysG7VlJeQFSahY2bf53kw+Ast/hyCfkDdMzLVols2rh1L7fAujnz5u/XMnEISLn8OEhQdPMyzlWiW3ZzrV7Lzb9OzeDSm1zUn6vGxIxndGUJPrFZKiYyV2o9ZXHUqrX8c1dzz3a+ytKRPl4/RIQ4ykR6BmH04uVj7edOWuAZP54lptoWHA5XVV8ZVxAakv8qvNib/EJI/qvI7KDUgqSKhjLyC/k5bz567W7JVG3LOkxmoTnzSMWn458TdRrT1cmsaUhzWjNV67Pt2urShzknTJxnzJgzn3O3qfiFaBG9F/SCcnNoGDecfSNxKY5X+cpKRStRU39RY5+5tEvnLmJep/9SUMuRgopuDg2j4LGHUtc+7nzaNAU940lkwf5jJv/+++/+Yyb2PomXH7+V2KFMS8eoe/H+o7A8CfkDTMs5FDQNnUNzTG8+Z1jKtmHrXv1rjw7rXaSmpdurbnD58Vs1g8ucfCLrpHe6RBVPF8+o/bDaQH0J+9JZGvto6j6uVt1NzUQ/64w23efY8fohIvCMYf6BYRdCAIvD5lRlXok6cdRf/GigGBmGAHGzYHW3947heX7kF0ISX4S9udtW9b6j5iOZhdaqd1UFYRV5Ic3l8WTWNKQ5bdXva8oSmxsrhjkXTZRnbDxAQU2/1sBjx9PGbXcLV+63mj2fhl/99ta7BRvN3nLsMKDl3jRnEfO/syhmzV8kcvqFoJbjPFpW2pViu1zbx/ZR2DGcn+EQkCq+XfGff/4xd3jtndbqFl+uZnB5wcJFChoGD4IyJOQP8ImIGVg/eZPb7RiYzr5SYJ30TpXTF7bu15hNMZdjldBKwfUcq9YsWsK4UlDU4oHPdPGMj95cinLU7KwUuoeXxL/kPKVKy8Iw6+BO6viX43vrBMYzhvk3hl1YHDa1IvFqwrHTUVKGcdLkF05HSVrEqLik3YmtCSC/EJbrFxwRPDg4iMfjyCxgMJjWtpam5qa+vl4yaxrSHOzgYENjQ2NT4zBnoYnyjA1KsylphU892/G4fsvNTI4dhrMpF63ReSyk/ZBBSJ5eQJbv8I01J54uYFpJsZAe8Yz5dOwMQvK7n3eO1UgGks8YesaDwHTpXSr//POP6U23V8mNLtHFB0+aU1HTHtA+6/g2U0L+gMB6KdMbboG53Y5BGew83zxDzeDydmVtWjqmUxccztl7nr/3+uydl5cfv3WNLZsunuFmt2yD0HyK2f/Q0c7kZqego50xe9Y/6wXmPbVh/fNJGMPkAJ4xzL8x7PprPOM2+UlGbE3Ad88IwWKx5HckYwYxrW2t3z2jj/xah8fjsVhsQ2Pj1PAMUcUZs+exbzshauoncPT+Yl6J+XRs4hdieBQvLGDmYVizU9TEV0TvBcVC+tmUi0ROPxfUcpxPv4JReNdU9gyX6BKV01b//jtD7oDWlSdvTW+6rZOSX8zAYnTd5XFE/jfPEJU2vfmc2DP0rjhpmFgvYWTZf9T48pO3hjZPFLXP6FjYv05tmRae8fVnAE20vt00Eeabe16HzvIUvcVJeoGVFKxMM89o03VkjOMUDfCMiTxJ5eTm19bV9/f3T2Shf1IWeMa09g/wjD85+Cc37VTyjA1Ks+YuWMK3mWXTwcU8EguYVy6T0pBzLBc+6ULLvYmGXZhd9tQKeYP59Oyz5i8U0nbiV7/z3TN2T2XP8Elvs3YNXyO2dQWv0MZte4XFt3GuFtm6X8MpNMct4ds80B89w+K+t41bhLjcfg4+4c17Dq8R27ZOesfJCw5vcrunvmegcoQKI3jlpRbwcsw+d3xJfhhPYThvQTivqdZibvbZu2Wokv3G8UUa4BkTeTZ57v7Kw9M7Kyevp6d3IssluSzwDPAMkg+ecU0I4xl4PH4i7pvIPfi8Wu3mMil1rj1nl0kfZVq7d4WsrphlxB531Fb7fD5Vu6WbDi2TVOdRusitYMYqcXjD2TeiJr7s206uOmS9xx01Ze+bhBQNeKe2XHAK2KaouVZKfv3mnfuPmdzwjA8q6PNOb9U+f1NV78INj9iggl63uM/7jhppmFg7BKS+Sm66+OiN5I6D66V3im7ZpW509UFg+p9LRmjJ4Hg/b4LKFkwP5DY+Snf+BF2MOwfhHkesO8c5Hfozx+jiPP7/RsLesVqZFM9ICD4bF3TmS/UDwhMo47cypd47bmNnf1LP1N7BKSklra29Y1xPxGOSOXgGeMaYHEhjngl4xgR5BrEo7H7xZbdbB7E97PXs2+XWsdNlgn6JfgznZxDkICD7i1tcucf7auRNXITtv1oJKcYE5na/eFflk9Y6Vi/pmgDPGCtjIC2fSfGM8bOKH3Oeap6hqnHigOrRM+cvRkTFtrW1YzCDY34KHsMMwTPAM8bwcBrDrMAzJsEziJ1jUtbHwzN+5RMTvH28xzNI84OxSgWeMYbnvhGzsrGzV9U4sf+ghpLKUc3jeg4PnzQ2NWOxuBETTlYE8AzwjMk69oYvFzwDPGNwglVgXIsDz/hxkGAabZmC4xn7D2ogqnFE65T9PaeMrNxuNHr4s+pk7QXPAM+YrGNv+HLBM8AzwDOExmq8YbzzgfGM4U9nY7uXMJ6BqMb+gxqa2npWl21DwqNaWtvGtqwxyQ08AzxjTA6kMc8EPOOXnuEQWaH9qp4sg41/rl9MytvMRvILbz6Vhsb41qTsIstQlbw3PVb/c879+pJnjWUu5BdSk9+UlJaM+WmOtAx/9Iz9BzUOqB49Z3nF/01weXklBoPB4abQbZQx94xTIeLqL9YrO645/GztMZ+NKo9ENNxFdcMkRv8GML1IydPhkvrRY/PesP++p2vavD8jpsrf69Ojp5F3XyU9HtGB4LlW0v5Pp0Iq0p9rdYoq1XtVQZbhhn+Gb1RiYGoV+YWAD/nBUb5licpkGUo+qiRFnylMd6zId60sIMOQlDjVPWP/QQ1lVa3Thueeunrk5Rf29k2h9w6NuWco3RNap7acbyej2IkVe67zixxilTnDrfV64yg9Qz9KStFeUP7CqiPP148yyfDRpp1nRFb4Wj4wVjNQuuBkCp4B7+kaqkRj/jtqkzLf81eFwjzQ8b7BMU75w32Tof+o4/n5p+MZhHsoqho6V2xuFxaVoFDd398VPZ5VGV3eY+sZumESIodYKShnLqCjWLWTccsZ7qXCNCKHWI88X6cfLaUbKvFtrCLi+3BFlJRBrNTpcMmTb8VPBYufjpA0iPm2RSdAbIX44jnUsyR0OfTH4lXov+EZ1QFRlb7BhZ5B+R4hRV6R5T4x1f7IlT660i+02Ott/suQIq+oCl/C5T+qwje02Cso3+Ntwcsh8YMLPQPz3N8WvIz47P1/mVT5hZW8Ci97HV72OrTYK7jIM6rCFykipjogssI3uMjzbcHLtwUv92vtXMG7/OBJBUJBv1qB8YzRHeZTMRbp4xlj+3utv7rkT8p28Ixx8oDxzhY8YyLPMcN7BiIchqaW4ZGxrW3tE1mxX5U1tp5x4P6aFWKLKekoeOUYDjkLH362bvtF3v13BY/7b9L227TnOr+a27pDzsLKjsJHPTfohkocdBKWMeXebsV7yFn4RJDYqVAJxbuCzILUsylnCh9cevTVhuHHKkazd/SeEVXh65/petHpzJlbujZuFi/eOUaU/Z8iBGQ/v+l5yczewOa5pU+6S0zVN/+IqfZ/nfL0hsfFs3dOWzmaeHx0Dv8eP7rSLzDnxZXHZw2uHTd3MHKJvhdT5R9T5R9c6HnPz9op5OajsNs3Xl688tTsdcqTyHKf2JqAqArfVylPr7qct3AwehJpv+uwLHgGzM/45fwM8IxxfTBknDKH502m0dMlP1Z1yj5vQhjGGLJyUE37uK6x6wvPyqrqSZ+rMbaeIaLCuoB+zoxZ/1IxzuGRY9hiyr10DY2w8tJDzsL7bgksWj5v5VZ6Bl4qHlkGGVNuaUMuaua5NEvnUbN8+yugwLzXjn+FxOI5VLP+mfEPA8+CbWYrR2MSw8cZvWc8j38gf3DLUnYmFnZGZjbGddJrztw8HVXh6xrrILVrEysHM9MyBlYOlnVSQi5Rd8PLvB++tVPQkGdezsi0jIGemU50s/Atr8thpa/vvL66ZhM/EysDIys9Ayud4AY+3UtawYWerrEOG7au5Rfl5V/Py8rBzLCUjnUFi+1zy+BCzwdvru9U3UbPsoR5GQPHKjZ6liUs7EwwngG/bzIR7wOdlHGLXxUK4xnjPfAwTvnDeMavvsqPx/bRjGfsP6iheEjzpL7pA6enSSlpAwMDk2gbY+sZO6/xLRWmoVxCwb2Fbtc1vi2mKxezU/LtYDxwf81u69Wz5v5LvXQu9xZ6aUMuKQNOto2082hmCysv3aDJxrudQfgg694b/HJWvPQrF8yaN2P1LqbDLmuHd4jR7B2lZ0RX+dn7XKNnWcLBy6ZmoHRAZ4/8IZnTl7UCc901jA8u42SRkN9wxPCA3IHNDCx0yif2Po9/cOzc4ZUCHEKbVmudU926T5L9/7F3F1BVLX3j+B8DFERAQFq6JQVRaQMFBAEFEWkQkBIUpAQB6W4OId1dh0ZBFIPuUgSDtiXF97n/H/L+eX3UyyXO3sB55q5Zd232mT2zj2vNzOd898xsVhqTO1cCs1xVTRT2EeGJnhW4YqVyRvE4/UEaAXF+BHIhjMHMxUBFTyFx8YTGDaWjJ3kxMHZqWSjfLfO/5qxLy0zFdohJx1JFTlOSmpGS9AAxcAZwBnAG+ixtBfGM34MEW+jMlotnLIY3FJS1tPRMnN19yyqrJt6936jpGqh1hmbSUTYJUkKaPQI6tAaFwmds2f7DGdg7SFj2StqxaaUcPefGQXuMEAsPg1GMmEuegl+dRsKOTTPxiG62IL3QwvwMYQMGk3LRlUhi+TwrdMa9VzkBWQvOoKAhO31B7IKOtLblZY8E+/S6qCMnDhGREgidOaJirCB+QWwfET47H4vzXesTssJMHPR6tuppz6KCc93N3PT9M12cIi0FTx8mJNl3K/h6yuNw52hrAfHD9Kw0NoFmiCJvZi4GziNsN32MY+4FXrXTxNqDJach6RRpeV7rLBUDhZ6tesqTiNACT2HJoxS0ZMAZwBnAGcAZq9tCo7fi4JNM5gcpTA9SmGpSmWozmFqRrEOPOSbbVlfOasMeMMczZkfDR7p9XzZ7DHX6TL4NhcErW9QZi9q4pHblmrlNYXHZwOCrDXn1GmqdoZMuwH6WnIgOR/gqvUmF2Jlb/+EMTJwdLKdI1GL5zaqOayYdFTFioOTGJ6Tds48Km06I6Lgpo0bCEcMiEQbR/Vj7MMWuMS0PiBV+ukJn3H+TG18dIqN6hv0wKzUDJSM7rcTFEw7hNxNqQtkPsxDsx+cR4JC4ePKErPBhUR7x86K3gsyOHD/ELcDuHG19/3Vu+cvMnJa4gs6kO1FW3McOkh0gQRR5lzxPjyrzl7p0kpKO3MhROwy54AyRs8e8Uhzy2hLsQ81x8HBkVM6YexqInxdl4qT3SXWsGMwueZ4mq7EQ0gDOAM4AzgDOWJ0Pwp0pVWXxpY/jyp7ClTuFq3QW74Y2UX443fBjztXSYVX54XTGzDCit841P8UkNlQrM/ZqQ5X951ch8+MRkGpjSztjURu6BmbRcUmd3T0zMzMwP0OB0xm79u7kkqfQTDxiek9ML1dQMZhH3IpZxIiBRZwEj2w3MSPOietMhkgRRrH9WPgYosaMKNlCY4XOKH+Zmf4syjXG1ibAVOOG0iEhTiJSAv7jh6JK/Q4JclBQk14ykHeNtXW+a20dcM0lxiYox01Y8uhBXmZLX5OintT4ByE2gaYhee6O4Rb8Yjz7yQjdE+xyW+N90++ISQvSMFPd9DZC/HDG8XOCvml3fnaGtf81qUunaFmorP2vFXQmpT6JOCUvSkED4hnzwBnAGcAZq3OGmRYRBclOXJzt9FSYdFSYpPt37Nq1TUJ4b04o3arcsNrMsDljbjT8VZuX2sVjTtay0cGaN43PKMkdvpdnMTuCAM74ZSro739eUtP18Q9paW2fm5uDYuLI35UJtzPOU2gmHTEuFTltw0pIu4eEBVfOk+uCHzfzCWJC2j1HtWgMkcJMx4mx8HYeUafWyxNcYdBimWwrdEZGQ7SRozYO7h51s4tBOW7W/tf4xXjYeJkDc1zPKIqRUZMo6p5zT7C/4XGV8yjbObUz0ZUB8ppS+8kIhaWO+mc4y6pLkFASm7npB+e6y6pLYONgnVU+5R5vp2x0nprpANfRg8F5HovzM353RkCWq46lCj4hLjsfq0uM7SUDuQN05MTkRCCeAZwBnAGcsRZnSIniPkhhrEpmzAqh5WHDYmPY5WtLsVo6rCo/bM4Y7vZNjtC1NpNqqLKfeB7Q/cwlKVLX8prEp8Hg+fFI6KiBBvGMxZmhatqGtrddcvOLZufmYItqbIgzTO+JqcbyH1alxtm/i4B6DyHtHjwKLOZTxBdDDhmXihzTpsEl2U3KhnvahnUZQKzwoxU6o/xlZki+x7FTfESkhLQs1JR0ZKw8jNo3Lxd2JSOQXqcVxOhYqSloyWmYDhwW5fZNv1PYleyd4nhcRhCfEI+Clgxv397TCmIh+R6FXcm+aXeOywgSkhBQ0JARkRLwCLBbeBnmtsZHlvkxczH87oyIYt+ALNdT8qK7sHaRHiA+LMLNwEZLy0wFnAGcAZwBnLEWZ8icwHuWzfwkkykjiIaLFesIF3aUK9Wq3LDazLA5Y+J5QGWeRWWe+fv+wO8TkaM9frlJRiZ6J7ecM2bn5to7uyOj430DQlebrlw1u6ii83u4YoVnLmvom1nciolP7n85MAvLtqGodYZxqahyOJ+8F5dGwsLDEe20Y/JeXMrhfPp5QrpZAjLO7Jcj+QyLF/YgNyoRUY8/IuVwUNSEUdSEUcKO7RKC1xApbHpPTCPhiIwzu7Qz++JMjhV64u+yrdAZ91/nFnYmB+e5W3gbGTtdMXPTd4mxSXwYdu9VTnFfWniRj13IDVNXPUtfY/9Ml4LOpIVNMjoSQws8rf2uGTlqW/tfCy/yKehMuvcqp6AjCYH0tvY3NXTQNvcy9E1zyqi/WzGQVdCZ5J3iGJLvkd0cV9afmfYs6s5d64WrOpIWL7HyNbnudtU72cE72dEr2eFuuf/fbc+1dB7s0/V3gbrNfx7s0zX3++pWsK51tQP8L/kXn5sw0uzSViTQUiCQPYlHQrRTThyvJJr+l5yo/RM2Z0wPhQ11+bx7ETA7Gv5pMLg854bLLfnYEK2pt2HQBTO+T0SiPJ4xNT19r6pG3+jGCnGA2mwXL2tr618Li4hpaGr59Pkz1N0lap3xd4P9n8/fP25SIaqXK6iXK2hcKmJ2//hStmuVYiblotcq4Vtvsjhy33udU9STmtMcl9+euLSP58JHr3OL+9LyOxKR3SlLm4QubNX1KqfkeXpuS3xZf8Z/nH+9cD6nJQ7ZnVI5mL3EgmUO7r3KKX2RjuxKXmH+xaKAM6BuINCVD5wBnLG6WMVKZLDoDAoSjNNCOOKCOAI82CREO6TE9maF0K7k8jXngc0Zi5iYHUEMtnjey7fwc1Vysz//ssn929gWmwe6sc5YVIuK5lUPn6CqmtrxiXf/8z//A2Fn9+//qR947PzgijEqNvlegsLmOVhpPONN7jII2LQfAWdA1zSgLhk4AzgDKmecO4nXkMtcn8NcEk0nLrjnANmO61r7IV3aCqczZkcQvXUuKVF6TjZysaHar9u9II1kLBaOZvGMn6MjlraOeQUlwyOj0O2usZHxjKr/C2BA5xLgDKjHS4jKB/uOg33H0WdyRnHfd3j26VqMZ6jLEy5FJoxV9x0g3a6lQPilhXvpJMoPYHPG/HjEWK+/oc7xxPArzxvdZoahXWayJBg0doaCspbGFSN37wDoNvICzti0sYqV3BiIZ0CkHBiKBfEMEM+AKp5x6CCWyw0y5+tkphpEjDSYjDQYztdJ0SOeMdjqGeKlgvBVe97oNj2MgHSNyRIy0G9+xs/xjAuXNBUva2vqGrt6+NU1NH/+8gXl61CAM1YynG/aPMAZMIAAoiqAM4AzoHIGLs4OBupdDNQLwuBlx7TU2/8kkxnlMYyfC4QnnjE/HtFYZS93lueUGJvqxWM6asI6asLXDcTjwrSh3hUUjeMZi+ZQvKylpmVge9sFWVw+MjKK2l4POGPTGmIlNwacgdrmAGdpwBnAGah3RmEkncdNclsDUlsD0luGpHfMSKNcKZ9lM79v4PqZBSg/hssZka/avCID1D0dFZZSiJdKSabZ9DBYb6L5S5RiDX8qXta2tHVMy8zte96Pwr28gDNWMpxv2jzAGXDKALV1AWcAZ6DeGSgHxAoLhMcZPz/IgPkY7eMZSyhRUNY0u3krJ79ocnISVV0ecMamNcRKbgw4A1UNAf5ygDOAM4AzINzBE7UQ+e9xhpq2gbXdnQJkyczMDKq6ReCMlQznmzYPcAaqGgL85QBnAGcAZwBnbMw+XUvRi18OLqpo+wUi2jq6ULvGFThj0xpiJTcGnAG/D1BVI3AGcAZwBnDGZnGG4mUtdW3D3Hzk4Ks3s7OzqF1y8j///p+GwafO1bpGpaImlWLolwxLRW0rVGLq/CsHc9EvFbdkF5YiZ2dnv6HdfzMzM6NjY0Mjw18nJ9Huyy18odnZ2eGR4dGx5WZ2//n9JpEV3eZpvWiZfHPqssof5j15jn4p50FLYVlW10MttEwdNTq15bfaniF6W+L62tAwPa7N73veh6ofGX/99ddm2A90KZihqnXV5n9Xmox9+zaPwq+5WNS///3vl8P9d0qilZNdLqa4ol9STnaxzQtPf1iGbG5Av5RXW5OHzHnTf+/ty/toll6/uNfdXtbZVjrQV4lmX23x67zpv/fieeNanBFa/sIw7RVaJs+c5uzKJ/kNb9Av5dZ2F1VkvXyiiJbpxWOlunvmvc0hr7pj3/TEoF969iQPLZ2hoKx15aqZT0Do46d1Hz9+gmj38X//+98jo6MuxW0KCY3n4lvQLykkNNrnNec96StsfYd+Ke9xbz4yc6w/euIluqXRF9Ev2mP72uKG+2LQ79tNvIwe648eeF61Fme4lY///gYy9DgD3qO2wvUdmy0bWG+y2hjAZohnXFTRuXbDBhEZ29TSttr7X1X+RWe4lY8rpX5Fj57ql2+hlPrVoXi0oGm4uA+tdjFe/DoFjW8LizO/jUWhdm71ZihtdjRqrD965HnM1DAafrvvE5HfxiOHB+8DZ/zHLA3gjM0GiBXeD3DGqsbdDX9uoqCspaSqc83cJiev8PWbt/Pfv6/2/leVHzhjS/sDOGMzkGht9wCc8R/CWPx9AJyxwnF9s2UDzljVuPt/zjA2X5okAefBJbUrBiYWNbVPP3/+sto7X0N+4AzgjLUNk1BfBeIZ4D1qaBWBhOc9ahvlD+CM1Y6+8/PzQ8MjD2ufVNyrXm26YWl/SU13zS7R1r/mH4To6u798vUrRBMyfvnXAM4AzoBaDGsrHzgDOAM4Y8ssfAXO+GVk/cc///3vf8/Nffv85cunT59Xm5xcvVU09NfgDCVVHTOLWwnJ6S/6X87OzaF28eoyXxk4AzhjbQ6A+irgDOCMdTmjqHe+sGsms/F9bttXZM/chrdzOOMZbx5yVMQzRrpQlUTTD9VywBDkgNMZ38Yj3vcH1d+3rymy6nrq/PVNKNSdERTva11mVP7Hj9w8/VU0r67WGUqqVxxdvAqQJQODr+AJYyx9EeCMDe9/1nMDYH4GDD0MRFWA+RnQzs/I75iKruwzdgr1SLyXVje2nmaGkmvhdMajdGZdJcKDjLsuy+DV57BMtUEeF4HNGbMjiOEu35xEo6hAzVAf1ehgzYpc80+DwVC/IB7l+44vjcFrOFitMxZf++7s7lvz6PH7Dx9hC2MsfTXgDJT0IRtVCHAGRAiAoVjgDGidkfp0xNwrDgNz1yl5df/Mx5mN79PqxrIaPxT3fc9rn0yvH89u/ojsnkN2z6U9G81omCjonCnqnc9rn0x+PBRX1Z9c+zbBCFYYAAAgAElEQVSvfbKodx5VbRs2Z3xp4U71p2Ghx8TB3kZOvCM7lPZDI7Qva51q54HNGePP/fOTTbRVhdKi9Stzzd1vXzDQFmt+cHtuNBzSRrt1naGkekXf2Nw/OLy378XMzOzS2A/nAXAGqrqRDSkHOAPSvgXSwoEzoHVGREnHOXXjnTsx2A4JXHMOt/ZP0b/lbxuQVtz3PTi3zsgp5DYiN61uPO3ZmNZNdzO3qLiq/oLOmeDcOoUrFofFpM5rXw/MfpbfMY2qhg2bM94+4nC9Qb4Pd5so/y6s3dvsjEg6SlihfnQCmzPaa50MdY6XZl9//zLw+0RkU/XtYM/LsaFaU0Nb7L3w6xnmVx7PUFDWMrlulZmTPzk1BfOzkp+/IITOSJn9ZSuLDfkT7J8B6WAJXeFgfgaYn7Gu+Rl+GbW8wme2b99BSkmjqGepcMWC/bAwr/CZnJbPykZ2dKxcYjLKztHFPqk1+ITEF3TM/TIeX3OJYD8sQk7NwMEvQkHDyMR5WP+Wf+rTEZRQAzZn5ITSnhXD4T2IVZXEyEyLKXBod6o/9ddWbkipAZszpobC3nb6fH4VPDUUNt7nnxVncPumzJNym9kREM/Q/GXGhoqmvpOLV0Vl9YcPHzcQGX/99RcUzpCJeXfSq0nAKk8idEA2cXJDeLFUKXAGCikwPx4x+SZ0sNXz86tgFBb7x6JgdsbcaHh/k3tT9e3eetcPA0F/vCXUngTxDGjjGXFV/ZrmbjsxMI+ckL6NyL3uHs0tcJKGmeNuRQ+v8Gl8wv2sPMfUTJ1MXSJ27MQwcgh2CM8TP69Bw8R+QeeGa2ypisltWhYOwdPyrrGlW8gZE3VcDiakbAyYSmfxhx9zyp7Coz2AcceM9O0jaGeDwuaMxUY4Px4Rj9Ax0BZTUzrm6agw/jxgfjwCte3zl9K23HOTyxr6YRGxDU0tGzIh4+dgBkTOOB3QzaHqScQqLGhbLB09sTTkb8gBcMYv7WU9f06+DW2osg/zUe166ryeclZyLZzOGO3xuxug4eWkeDdIw9VOPtjz8vNGt5Xc5HryAGdA64yM+gnboHQMzF0SSldCC5r80h+JX9AkpaS9FZxBw8ROy8xxkFdQ8Mx5WXUTPIL9d+4izT1juY+dYOMVdI8vL+ya9U1/yHlEjIX7iJlr5BZyRlsRq7o8wQEyjMsy+JUJjEpn8UmJduooEtbnMKNHPGOpyVXk3gjyVL59U8b99oUHSMsZEM+49L/xjEtqV67dsImOTerq7p2envllyN+QP6GIZ5z0aqKXMN65G4fXMOaEV+Np/y7JsMGlwMa5hC+SYYPifh3i/p1SkUNyyVPyqbPS0eMSoQNS4W9k4j5IhPSfi/+MKpSg3BlFvfO5rV9i7j9HFLVElnWmPBku/jFXLLf1S1Ltm6Tat2nPxmKr+mPuPV+cZ1bc972o91tu29foyr7wkva46pfZzR9RNb0MtvkZ00Nhr9u9yrKv3zKX1tMUfVphu9TeITqAzRmfBoMfIC3VlQSSwq/UFFklIq7ctpQJ8VaBemIZcAbEzmiYuBWSiYG5S1JJLwzZEnv/hYrJbVx8QhlVIzIq+hOyKgLisjRM7FxHj9MwcQTl1l33iDnIK8h19HhwXkNx3/cwZMshodOM7LxGDsFbyBm5YXSnBPbuw93Bx46lJrePlwMLF2e7uCBOZjAtGjjj21jEx4GgnjqXxcY5M4Jor3WK8FN3sJT58ioEop5osditEs9Q1bpqbeecW1A8PDL6bR71b15dG1Ogc8Z2jN30kibM522Y5aw41LyE7ctlE7/KJn4Vvl3JoebDeM6CSdaKU8P3uNsTmdgPok4PuLWDuXVC+IziONR9zgS/2JzOQPZ8y2iYsAlMVTG5LadxTUHXwvhOWERJB7J7LrK008wtSs/W1+QOQsXktrLRrevudyPLugo6p5MfD9mHZisb2Z3XvqFudscpshBV6+xgc8bU29C+ete0aP1reid1VIWflqOPM4a7ffNTTKxMJUd7/ObHI0Z6fMP91NSUjk0NhUEaiwXOgNoZ7+wWnLH7pJzawnqThnc3PGP27MWjZmAjp2bQtfE5q2KwF4+AmJz6mLhsXPXLO1HIw6KSTBx8Vn7JqU9G/t8sURbuo+x8wjd9EraKMybbeNzMyQ4y7sbH3cFAvWsx4e/dzkyL6XqD7EsLhFM04HluMjuC6Kh18nZSHOnxmx0Jnx+P+DwYXF1oee3qqU8DQZAubd38zlC4rKWubejg7HmvqmZjZ2P8bhHonLFt2449JPR7SBl27yPbjU9KxitzJviFZPgb6uPae8gYsfdTYxNR79y9l/aknrhfB4eaNx4V5x4S+r3kLITMgsfdnmxOZ2Q1fXCLK6OkZSIioSChoNlHREpOzaB01Tqr6eNtRC47nzA+ITENEzsZFR0OLj4e4X4D+8CEB4OOEfn0rNyExOSkB2gJiMmOnZK9E1mIkq2DYHPG94nI+fHIL69D6ipv2V6Xqr9nB+mPh+8TkbDFM973B7bVOrXUOE4PI76NRbzp8I7wV9PXFAXO+IMDUNUs/64cFL7fJLPxgwMiD3M3FhMn/7U7iIQHgx6JlXRs3Nu2bTvIK+QWV6Z6zQEDc9e+/WQGt4PS68ajK3pl1IwIiMnZDwtrXHc+JCiOi094QlYlOLd+qzjjYxO30ll8cuLtanL49bnMjXkL6dJZXDLi7epy+yCdogGPM76NRzQ9uK2tIpQRazDc5TP5NvRhkZWb3fkwH9Wpt//t601UtQyCQiO7e/p+H+Y3/Ax0zti+A4OcX+6wSSK7igch0zEccubD15JOeDXRnTFkkL5x1Dyb3zRlNwEFFgGFiMM9DjVv7P00u/BJaE/p8xnHS0W8/buOaLXnUfjcpKjnW3Buw9ETMnvxCRX1LB3C8zSuO1MzHqRmZIup7LsVnHGQT4iKge2ykb1XcpWI1MV9RCSKujcdI/KV9K334hOqmji4xJTIaZodoGMREJfLavyw/qcncDrj+0Tk5NvQ+nt2aOaMn8H0+VVIYvgVGzOp7DjDn89DcQziGX9wDAqdUdg1G17cfpBXiIiEUvy8hndK9d2KHiUDW6w9ey9om0eUdFz3iKZl4VyYGVrend8xXdA57Z9ZK6tuQkBMtp/sACEx+TlVI5/Umrz2yS3hjC8t3PcS6EX4cU4L4yT4UH1o5PrYtJASfahOCuAcP7onPZAaukcn8Djj+0Tkp8Hg2lKbyxeOSIlzSp7i1LgkgPBRHe/z//bfPQ/0qrFFSVnl2PjE3Nzchqvi9xuAzhk7dmFzaQWfCX5+wqOB7owRFiElm5KzVMRb4dv32JTukB85j0t5cPtOzJ1YuEL25Rxq3nvJmfcfFDsT/Fw6evzHpI0/9EKrRYZ86hwKnZHfMeUWV0bHwknNyOYcXZReP+Gb/lBCUWcfEYljeJ6FV/xBPqFDQuJ3opCpz0avWHuRUtLKa5kZO4UKnJbH3I11SEhcQFyOhfvoPiIStkMCQbl16w9pAGegSgBzoxHdT13Mjc5Ym0qW59z4BP2SE+CMP7RwFDqjqHc+p+Wzd+oD+9Bsn9Sa5MdDua1fosq6biNyw4vbc1o+xz8YcE+ocI+vWNqPK7v5E6Ko1TYo3dQ10iYwFYFsyW7+iBJkFPd9h3pd62Qbz2A1e2ksY1US48tq9iVSDFSz309kKotl6K1gWzqJ8gPYnPFtLOLTYHAN0jIvyTgnweh+vsWLRndIn5gsdjGb87mJgrKWqpbBHTefsor7Y2MTm+1xyRI4IHXGIb0IqYi34n4dDGdNsQgoWBUdhG9X0p7Sozhynu60Aa24/h5iGgwsPCG7Mg41b9wDHOSH5c4lfJZH6cYbqHRG+6RLTDEVAxsNM4dXSnV+x1RIfoP0ZQPcfUR2IVkWXrEH+YSOnJD2Sa3Jbv5o5BhCTkUvr2lqYB/If1x6z158Bd2bl03sla7ayGtd17HyjK7sLer5ts5ODDhj/c6YH4989yIgP9kkKkAjNkT7UbH1xHP/9Rf7jyUAZ0DrjKWmheyeRXbPrTB4WNQ7X9A5k9X0Ib9juqh3ve1z6R5gcAbK6bCqAmFzxmK7mh+PnBoKm3obNgvxNqBLzXgTOkPxspae4fWAkIiGppaPHz99//59aVzfbAfQOWM7xm5GGfOTno3HLPPID8vtIaHnvhLGqemPS8lGKXCR3zSFRy9iNz7pQjzjhzPwqLkojirIbmJnLCx2S3vIflh4PxmlmWtkVFmXdUAKt8ApUkragKyn1v4pB/mEjp6U8Ut/9LMzzL1izyjq4O4j0rP1dYkpueYSoaB7U9fGO71ubIVd38+d1S/HwBlL/cCaD973B9YUWTlayRZnmL1s9ph8C8dbmb5PRAJnwOSMX9rMRv0JdTxjVSxAeWaYnbHm1r7mCzebM7T1TMwsbKNiEjs6u+F/X8lqHQOdM7btwCDhOsN60ZFaTBOPhpuEW0LEsZpbJwSPmpPiqAK3Tgirwu1deMQ7dmEfs8pnv+y24Ixjm9oZxb3zsfdfKBvZUdIyC0sqKhveEpNRpqRjET2rlPZ01D40+4/OcI0tNXIMoWHmOCmntjDJXfmq4JnzWhbueW1fi/vW+/IE4Iw19xtLF3Y9dfZ1uairLlKadb221Ka21OZZxa2eOpdvY9Bu/AOcAZwB+evNUO6JvysQOGO1Q+968nv7hdy+45FbUDQ8Mrb5kQHRPl3i/p0HlV3xaLgoBC4SsorgUnGSHpLi0Q2TiXl3yqeF7vRVQhYhYs5TB4RVqEXU9tHxHrPK59YJpjhynlH6umziV/lUVG5YjsLnJsV93ws6p6Mr+y7omLNwH6WiZ6Vl4RSWUnSJKSnonPZIrDwlr3ZOzTi0oCm39YtNQMphUUntmx5RZV0RJe1KV23o2XhomDmZufgVrpgH5dah5GcVzM6YGgrrqHUKdLvUXuu0NE5DdADbepOmB7cdrM4ZXzlhaSppbSZlbSblZCObHKU7M4yA9LHv2p3hXj52PnUWLdOP+RkdPwA+j2b/L2wZr6jJmWw/hJbpSyt/zyO19/0+c2NR8+MLi9PQLLU15fY93yxLOVLSsptb2qanp9eDFTivhSKe8fNsTZn4T2fvjsnEflg6KZcyKxX+VhLxWi55ZukkdAeodcYiDop651MeD4cXL2y6Vdg1uxIxIHu+pT8biyhuT3kyVNi9oktWUizMzoCIFH8sFjZn/LF2GE6u3RnJFU0uGc/QMoVlV2Ugy7Pv1aFfyip7mIvMfFxhi5aptvxWeZHXw6rop48Sn6Fjqqou2DzO+Pjx0/T0zJaIZCxqBmpnyKXMyiVPy6X8BykWziRNQWeLn0uGwhkLk7q6Z/M7pgq7ZhY3A12JCZDdc/kd0wvIQN27poEzYAABRFWs3RlB5QNX0kbQMrnltGffry9oHkO/lPfkRfG97Dd1MmiZXj2Tbay69rIteOR5zOgLNEz1z/I2jzO2kDDgccbPQ/6GHEPkjJXAAoY8wBkQIQCGYtfuDLfy8Q1pSzBUisJ1rTA0v1VVAeaBwtCooKtiU80DhfORB0rqgjqeAUPXtHwVwBnQNT1ISwbPTcB74df1XvhVIQCGzMAZkPYXUBcOnLEecABnwNDDQFcFiGdA3b1AVz6IZ4D1JmC9SSR0DQy1JQNnAGcsE9IA8QzUNjfYSgPxDBDPAPGMLQMRsK51PcMw2l8L4hnQBRtgKBnEM2BzD8orAvEMEM/YMoz4u20zls4DZ6C9FdbzBYEzYNAAdFUAZ6B8+IetQOAM4AzUOyM1gObmlf16SgSLyUyTKNCevC6H+TOUL4WfaufZEGd8Hgx+3uDW9dQZhkYLnpsAZ4DnJjA0NJirAM9NwHMT8Nxk1RCxubqflR6ThhzjKBfWES6sQ2y7+Ll221wlfpbNshR7gOIAfmd8G494WGQV7Hk5OUoXhr4JOAM4AzgDhoYGcxXAGcAZwBmrdoaZFhEFyU5edmw3c3LXG+TXtfbTUGLyc2JFuhyAghdLZcLvjOeNboHuylfUhL3vKMLQNwFnrN8ZiIq+G+l919Jeol+6kdbnW9CeU9OaXzeIfinnQUtuQUZ/R9xAZyyapf72uPaG+Nb6hOdtaPjtBjpjX3bE9nVXj46NLtN+//X7Zy8HBsD+GdA9iYSuZHjWtS4646LUvsFqjoFq9lYkqxAvDis9prcV+ZIJoDiA0xnz4xGTb0JjQ7Rdbslbm0kFul8Czvi9o9hUZxbnZ+RUPkJklIZllKFfQmSUxmYXpxcUZSDL0S+lFxSlZ6eXlqSUlqJdKkkpKkpFFqWWoOW3K00pLUmpq38InPEfszTAPl3rRMCiM/g4sDxvkrlbkBpeJqQiw5AU3ZuLoFtnyctfDqczZoYRjVX2Qe7KOfGGcWHawBmbihR/vBkwDxS6HzAwlAzmgcLwSwaiKsA80P8QxuKzT+CM5Yfzf/x00RnYWNspSDDIiXcSEezcvXu7quy+h2mM/3jtejLA5oz58ch3LwJsb0hVFVq2PnSMB87448C+yU4CZ8CgAeiqAM6ACAEwFAucAZyx6ukX/0iBRWcc49kT4kgZ4kDpYUl+hBuLl323txX5ZBvqq1u6H3icMT8e8arNKzpYM8hTufupS8fjO1GBGt53Lk4NhUHdYsH8jPXQBTgDOgTAUDJwBtTdC3TlA2cAZ6B+4F90htLZfa8fsr+uYe8pZ7ssg3uAdLvBZaKvraivDmZnzI4sPDHR1xQ10TvpfvuCg+U5FcVjyheOFKZem3obNj8O4e6iwBnAGWC9CXTD4UaVDNabgPUmYL3JqmWw6IxTgnvzI+jzI+jTg2hPC+2hp9p58wrx11buJRag/ACeeMbsCKK3ziXA7dJty3P2FjKm+qfkpHjkzvKk3tX7+iYUOGM9FID0WhDPgCHqAF0VIJ6xUQxaf70gngHiGatmxD/6wOLKfroDGJSkGCKH9wgf3sPLjnWADENCZG+yH80/XrueDPA445dW96rVMyniSojX5V/OQ/EniGesByLAGdAhAIaSgTOg6FLgKRM4AzgD9c7wtCQ7JYDDyYzFyYzFxYIlcAhb/xJ+YSTtRD3Xehjxj9duiDOGOn0KUkySI8A+XesxABzXAmfAoAHoqgDOgMcEUNQCnAGcgXpnDNVy9FUe7C7739RbcXCgmn2ijusrlJNAN2rf8dnR8M+vgj8OBEHRPn8pE8Qz1uMR4AzoEABDycAZv/QGW+hP4AzgDNQ74x8DDxBl2JB4BpytHTgDOAPMA4WzxcFTF5gHCuaBgnmgWwYiwBnrGYbR/loQz4Ah6gBdFSCeAQ96oKgFxDNAPGPLMOIfoyDAGWhvhfV8QeCMVSGgsHs2s+Hd3YrerOaPyJ5vq7oWisywOWN2BDHa49dS41B/367hvv1Ai+eX1yFQjL5LZW5IPOPrm9DBVs83Hd5LtwHdwdqd4Vf+Wj3tHVom59zunKomZPtH9Ev5dYOl97PHGk+hZRppONNabfCmK+D9QPTHV3fRLzXV5fY971vPWPvffC1wxqqG/+zmj77pD1WM7UPyG3Pbvq7qWigyw+aMt50+pVnX/VwveTkpejkpJkfqdj11/jYWAd0wDL8z5scjmh7cjgrUyE0yhu57LZW8dmfkVT5EZJSiZYrNKkzLzU9HlqFhKijKzM0oKgxG15SXF4VEJhUXp5agYyorLwTOWDOVgDNWNfwnPnytZ+O7Cwvb3Cs27dkosnuusHu26EdgA9mzcIzsmSvunS/qnS/sWjgu+nG8kK1rpqBz5sfJb0W986uqdJnMsDmjKN3U01Gh/p7d+/7Atx0+Xk4KadH608OIpVET5QfwO2NqKMzC+IyMBFeYjwrKv87vBa7dGT7lb1VSP6JlcsrtzaluRnZ8Qb+U3/CmtCr7XZMoWqbxxhPtD/SGegI+vr775Q0apuZ6EM9YMzP+As5YZhT/5aPs5k8uMSVcx07s2LmTR/CU5g0XLQs3RT3L24jcgs4ZS78keS0zU9fI5MdDsVX9Z1UMbnhER1f2IYpa9W39BE/Lcx05flJOzdI3KaFmEFXUgM0ZD4ut0qP1Pw4EfRuLmB0NjwrUyEk0nHob+vvwiaozcDpjfiJyaigsOVI32Ouy7Y2zcaHaqPoWy5SzdmeA98L/0jK3xJ/wvBf+HydSQJQBzM9Y+yD8X3AlcMbK+6jc1i/eydWCp+V3YmCKSl00cUJc0L7BzMV/Ud8qp+WzlLI+BQ3jaQUtr5Rqu5BsEgrqGx7RLrElF/WtGNkPHeQVFD+vQcfKxXXshKlrRHbzx5XXu0xO2Jwx8TzgbYf3zDBivM+/JNPMw+FCcYbp3Gj4MuPoOj+C0xkzw4iXLR6h3iqVuebhfmoJCJ113vxKLgfOAPNAwTxQCN9IspJGuPI8YF3rejgEnLHMKP7LR4Xds5FlXUr6Vpi7dmuZuwbl1Ona+NAwsQudOZ9U+1ZAXH4fEcmxU7ImdxCKepaExOQuMSXXXCI4j4jSs3FftQ/wTLovcfEKJR2z5CXdu5U9vxS+tj9hc8Zie/zwMigz1sDm+lkrU8my7OvoMT9jZgTxotEtxEulKN20t841AaEDnPEHASyzdhyFH4H3wkMUb4C6WBDPWM8wjPbXAmesaoBPevRG/5b/Lizsmz4J6fXjjpEFfCISTBx83qkPhCQUmLmOiEpfOqduzHX0OPth4eC8ek1zV1oWTsHT8gkPXxX1frsVnMHKc/TICWnvlOpV1ft3meF2Rn9g2l39UG+VOzZyhakmn19BuOQEtnjGmw7v7HgDRyvZ7mcug62e0UGa0cGa08MISN/K9H0iEsQz/qAZ4AyoQQBR+cAZaG+F9XxB4Iy/G8L/eH7JGRbe8Rn1ExElHRevWu/bT6Zm6nhSXu2cuomMqhHnETECYjJZDZPIsi51szu0LJzCkgpJtW+RPXPOMcUcR0T5RCRcY0v/WP5qT8LjjNmR8HcvAsb7/BejGvPjEckRumnR+m87fFYed1xtTnicMT8eUXfvlofDhYrcGy0PHR+X23o4Kng6KQ62eUL6VGgTOUMueUY2aVIueRqFYYk1FwWcgRIHTLbxfGnh/tTE/bmFexLiHccXbxhOZ8yPR86Nhi+lb2PhUP8m+D4RCZ6bAGcs060ppX51KB4taBpe7RD+x/xJj95c/RHPMHOLSn06ktv6xTY4Yzc2DiUt8xlFHUvfREU9q734BHgERGaukSmPh4wcQ5g5+Nn5hD0SKjIb3l02tj9Az3JSTi2itOOP5a/2JDzOGOnxS4vWjwnW+ja2MCFjfjwiJ94wJ97wdbvXavWw8vywOeNls0d6jH6gu3Kgu7KHwwU1JQEdVeH8FJOvb0LmxyFcuLsp4hkysR+OWeXvZz/Oo4eQini7TEOC5yPgDJQ4ozGPxVqPmId1t4k6YSuSFSVlLl8InM74/Co40P2Sm/15V7uFFB2k+arNC9KHuMAZ60HGX3+B9Sar29o49dmouVccFjbOAXpWHUvP6Mpen7QaGmZ2zF27FfWsQgubdW19sbBxiMmpvFOqc1o+B+fVn1bQ3o29Zz/ZASYOPnxCYnIqes0bLllNH1ZLij/mh8cZc6PhSRFXbhieri21mR4Oe9Ho7mB1Li5M++sbdFhvMjuC+DQY/L4/8H1/4Mtmj3A/tQh/9c+voEXGZolnSMdM8BnH795HxqbkJBk2CA8mlqkFOGP54XyFnxZE0B3lxsLE+BcrPWZ5HMPXVsgnnMLmjB/TqdzVLh27G6hRkGJSkGLyAGk58TwA0t8EwBnAGcv0WvKpc6iNZ+R3TEWWdZ3XuXFGUdvcMzb+wUB89UtdG29JJV2nqMK0Z6OeSfflNEyVrlon174t7J7Nbv7kmVylbGQnInVRQFzu1Hl1g9tBCGQLsnvuj25Y7Ul4nPF9IrLrqXPqXb3IAPW0u/pJEbqZsVfba50g/QkBTzzjl/jK19chtaU2tSXWv5yH4s9NEc+Qjp7gNYzF3EvIJGvJfz3tsGmygA1SIqRfLmVWPnVOOnpC9E4Nn0kCn1Gc8O1KScRrucRJcb8OQRvkketpS+mER71MzLvl2+EKP0WtM5Ddc5kN7+9EFRo5hpq6Ri7av6h3Pr9jKiDriVdyVWD2U9fYUguvuOC8hqzGD4v73iTXvnUIzzNzi7INSkcgW1G1Hx9s61rHnnIG2VNSkuzgYMLE37vN/xbFyyr2FQJlzdlgc8bHgaAHRZaGOseflNkOdfkMd/tMPPefgXInn8XGD56brIcaYH7Gqob2xT4KgWzxTX94t6Inp+VTXtvX6Mq+wJxnKU+GCzpn0p6NhhY0hSFbCjqni3/sx5XT8jm6stcrucolpsQv41Hiw1cLH/WtLo7yd/lhc8bU27DBVs/HZTaPSqyfltsOtnpOQhnM+D4RuSHOmBsNH+/zH+v935koUPBiqcxN5AwMbFwyvnPUx7VIeaUpjipwavidDuyVS5k5djOX7rQhGa8MOb/cARFVbu1gqfA3AlYFjDLmB4RVKAWUiNhEiVhFuLSDJEL6VyiJ5bOh0BkFndOx91+Y3EEInj7PyS/KdfT4aQUtm8C0jIaJtGdjaqaO4uc1L1yxkFE1Yj8sIq1i4BJTnPZsLK6q39gp7OgJGT4RCf7jZy8Z2Pqk1fxd81vVedicUZvOpKNIQE+F4WZOTE6yU1EStyyWHupZGrA5Y6jLJx6hY2UmWZBiUltq3V7rNPE8YKlRQXcAnAGcsUzfhdp4xqo6Fhgyw+YM6Nrv35W8Ic74u5uB4vwmcsYOTCzs/TSUApcojlzYS8mGe+Ag95Wwc/Gf6E4bELEKHxC8RH1ca/c+8j2kDCc86oVv32O/7E53xoiUT2bbTkyMPfgHL7lIhL5cphGu/CMUOiP1ybCFV+xePAI6Fi7py1ePy1ympGOmZ+PxSX0Qc/+FiNRFAmJyziOishomXEePY2HjSF3S9UqutglMp2Y8SMvMLn3ZgPOIGBUDm7yWWR4qXjEAjzM+t8Jqe28AACAASURBVHD736I4dHCXhAjOqxp2UX5semoM/1sU7xu41hyrWMmFsDmjv8nd2VbOQFvslvlZB6tzfi5KJZlmXxYec0K7FQdwBnDGMv0YcAYUYyQMZQJnwPFe+MXnJhjYeGR8sqd82yVDB1gv2GET01AcU5QIe3VIP4rPOEHU6QH/tWRcKs4dmNhiLrXyqXNyKTMnfVrpzhju2IVNcUxR1PnhMi1wVR+h0BmIojYpZb1t27ZdtfNPfPgqtLD5nJoxPsF+LXM3RFGriNRFGiZ2jRsuuW1fA7OfUjGwHjkurWvjc177OsF+sqt2/iH5jdfdozn5xbgFTobkN63/RwM8zhioZtdXJqKlxDRUJRp7yql3iZCSFMNUY393KbSzQWFzRl+9q725jJvd+f4m93f9gZEBGmpKx2pLbWah3DQQzM9YDzLAPND19x4bWwKIZ8AgHoiq2ETxjB/zM6wkQvqlo8c51Lz3kjOT8cpIhg0evORCekiKkEWIkFkQh4xpyRnifh2sFx2wiWmI2ESEbpWganKGfOocCp0RlFsnJHHhX9u22YVkZja+j38wqH7deS8egZyGaUhBo4jURXY+YTO3qLz2yZD8RjoWTv7j0sqGdifl1TF37aZj5WLjE2Rk591PRsVxRNQhPHf97RweZ1QlMcqexCPE3yHIi22qQSTAg42/d7v8abzSWIaVhCXWnAc2Z0wPhQ13+473+c+MIL6NRTxvcEuKuOJmdx7q57ggnrEeaoD5GevvQDawBOAMiBAAQ7GbyBkY2PiUgsrifh0SoQOsCrf3kDKQ88sL21fsZz9BxnuWQ92b+0ooAcORHbv2iLnUng7sYbvohEfNRcQmInir5GzUCAr33kChM8IKm8UvaGzbts3YKSy59m14cft57et4+4hUjO3DkC0iUhe5jh638I7Lb58MLWiiY+XiPy6tae4qo2pIQEx+1T7QKarwNiLnhmeMXWhWQs3g+hs5PM4IczzAy46Fh7OdhW7XYQ5sVvpdONjbuVl3BztQrtkQK7kQHmd8G4sY6/V7VGL95XXItx+Lzsd6/YvSTW2un/36GsJNA0E8Yz3IAPGM9fceG1sCcAYMIICoik3kjB27sHEoWNguOrFddNrPcRKHnJnl/K1jN3P3kjPvZxdjV3E/qOyKvZ9mO8ZuMedHfEZxBEwCO7FwCZkFONS8ubSDBG1LJBGvVvV85O8yo9AZ8dUDOpYeO3buPHrynK6Nz2Vj+4O8QiQUNLeCM6Mqev5/Z8T/7Izr7tEG9oEUNIwyqkZmblG6Nj7KRnaWvokFnTPrb+cwOONzC7fBZUK6Axii/HvcLcg9bpJ7WJAL8WLTUOw0UScafcq5EjGsLQ9szuh55uJqJ49MuzbW5z89jHhSbuvrohQTrDU1FAZRQ10sFsQz1kMNEM9YfweygSUAZ0Dat0Ba+KZwhkzMuyPX0/eQ0BMwHyPhkSRkFsCn5TkgrCLiWHXSs5GcX56ITYTy2EUqYRUiViHs/TRC9uWsCrfxqDn3ENPi0x0iYhMhYhNlu+h40qvx7+iwqvModEZOy2eftIeHxaTo2Xg4+EXZDgmwcB2RVNKLq+pPrH1zVllfRFLRLiQzv2MqvLj9kKD4KXn1H0vCak/JqdOzcfMKn2E7JHBYTMrIMaSwe3b9jRxqZ0y28QxUH7wkjS98GMvLimzkCefo04XkcZNUmA9bXX5fUwHL2gyxkqvgccb8eORAi2egu/JtS5nseMOy7BsIXzUPhwtdT5znfuwhCF2LBc4AzlimKwPzQKFrepCWDOaBwjEPVDbh83HXx0znLPiM41kVHehOG7AqOgjfrlhsUUfNs5jOWdBLmnBq+gtY5jGcNRWyL+c1uMt07ia9hNFS4jWMPh3Ys0wjXPlHKHRGcd/3vPbJ4Lx6ZcNb4uc1zijq6Nn63a1YeIFhdvPH6x7RBrcDA7OfFnbNJj58pX3T3cQZEV7cntPyOTD76QXtG6cvaEpe0r3ufjeuqn/9yCju+w61M762cjfmM7veIA+0p6jPZV7CQUMus/8tCjdz8gcpEE7RgMcZC9vbjUWM9fmHeKnYXj9raSIR4qXScN8e0p5osXDgDOCMZfox4AwY2iAUVQBnwOGMn1uOXMqPF50kTf18UjZxUjZxcnHbrp/PQ3SMWmcs+gDZPZfb9iWvfRLZs9Ld8ZA93/LaJgu6Zop+7IGzJZyxBIsNOYDNGYt9zfx45MwwYnoIAfVbiJa6NuAM4IxlOj3gjKWWsrUOgDPgdsaPVjQrn7qwE+j/pZRZ+R97g/7fmZ8/RfUxFM4o7vte1Du/WjGs4ZLlOQJ1PGNDeLFUKczO+PGapUio98z4uccEzgDOWKYPBM74ubFsoWPgjA1xxk/CQLUhlmmlSx9B5IzlBQDPp8AZW6j3+f1WgTPW74zkykbPjFr3jKfolzwzasNzH2SWVmffe4Z+KbO0Kis34/HDxCdolx7XJFbfT666l1z7IAn9vt2Th4mPHya2tNSMjo0u037/9ftnLwcG3MrHlwZmNDsAzliKEGytA/jjGb9TANIzwBm/90UrP7O43iSqoss6veNmeg/6JZv0joD8ppyqxrzHveiXsqsacgoyupvjelrQLXU1xzU+TWh4ktjZGI9+366nJa67Oa6788FanBFe0Wua1o+WyTunMauiNr9uAP1S7sMOZHlWX+1ltEy9j9SeVlp1NoT1d8QOdKJhevo4r+9538pHVpDz538BsK4VnqApRLWAda2Q/oaBtPC1r2vNrnwcnFGJlik6qzg9vzCz+B76pQxkWVZ+RnmRD1qmMqRvYT6itCShojwZLVN5ZSFwxs90WNUxcAZEAoCnWOAMSCkAaeFrdwZ4bgJP60JtLWB+BqTNCerCwXOTVcHil8zAGajtTGAuDTgD6u4FuvKBM/4w5xTMz9ha0zKW7hbMz/hlZAV//vwvAJwBswxQWx1wBnQOgLpk4AzgDJ6lcXqrHwBn/DysguNf/gWAM1A78MNcGnAG1BqArnzgDOAM4IxI6BoYaksGz01+ocOq/gTOgFkGqK0OOAO1nQmcpQFnAGcAZwBnrGq83qqZgTNQO/DDXBpwBpwyQG1dwBnAGah3xot7B+tzWR5nMj/OZH6Syfwsm7mtiPVtLceXFm5IH83A+dxkfjxyehgx3uf/ttNnvM9/8m3o/I93xKO2ff5SGohnrMc4wBkwywC11QFn/NIbbKE/gTOAM1DvDEtdIgaqnThY/8Lbsw0fZxslybbTQlgxHgfePOJAG2fMjiBeNLolhl/xcFCIDdFue+Q09TYM6j3IgTOAM5bZFBHsO76Fht6fbxXsOw72Hf+OWpVvbGnwrGu9rkVESbqThW6X/iWCKxcJTgvtoSDZeUZob1oALXo4Y2oorOuJ8zX9k2nR+rWl1nGh2rbXzxalmc4MI37uPlB+DJwBnAGcgfJmteEFAmcAZwBnrDrgYaZFREGyU/YUfnMBa2M+S0kMAy879kHGXX62FOjhjFdtXmE+qv6ulzqf3PnwMuh5o9v9AotHJdazI+GQ9lnAGZvNGcL2FbSnr/IZx5+L+7iMAOD5CMQzUNL63r0IeFJmezdIMzZEOzZEOyfBqPupy7exCJQU/sdC4HTG7AhipMu3LOt6coRucYZZX4PbzAi0v46+T0SC5ybgucmqGfGPVlh0hig/TqI3VbwXlbcVBTPdLmE+7ARv6n+8dj0Z4JmfMT8e0Vx9W0tFCJlmmpdknB5ztTTLrPPJnZEeX6inaABnbDZn8BnG4pAyMslZSUePwYOJZWoBzvjjKL7ak711LpmxBneDNPOTjPOTjCtzzV82e6CHM2aGEb11rl6OCmnR+rmJRnGh2nGh2o9KrFf7T7Ta/MAZwBlQOeMAKcZZMRwpUZzDHFj4uNvlxHFLounXw4h/vBYeZ8yNhj8sthIXY4sK0Aj2vOznohTgdiklSnew1RPSzuj7RCRwxmZzBq9BNBYhFd0ZIyH7ckGbIhHH6jPBL+SSp+RTZqWjx0+41wnaFgvaFIm51EqE9MslTZ4JfiHq/EjIrmwpnQ7oRlUsBLXOKOqdL+icjrnX55F4zyE8zzm6KCSvIbvpY1HvfNqzseC8hoCsJ6GFzZ5J990TKiNKO7OaPiB7vuW1f42t6ndPqHCKKvROqY69/yK/YxolD4thmwf6rPJWcqRuw337sV6/iecBH14GTQ2FrXZkXVV+2OIZoz1+eUnG2qrCdZV2w10+j4qtY0K0suINV3W3a8gMnAGcAZUzaCkxFSXxFSXxzx7HpSLfeUoQJ9kXHeIZMyOI6kJL4WNMepqi9/MtBls9C1JNbK5LJSB0oO6PgDM2oTN245OS8kpTn9AmZj9Bzi/PpRV4Jvi5XNKUoE0x3WkDEm4JEm4JKhF1Ls3AsxFDR82z6KVMyY+cJ+WTIWQTIWQV5tFFSIT0LxOlWPlHqHVGXvtkZFmXxg2Xw6KSzFxH2A+LSF3S80ioLOic9k17KKtuckJW5cIVi+PnLvMInrqob+WXUZvV9CGyrEvH0pNX+DTXETGhM+d1rb3DS9q3ljPu5VsEeVx+gLRsrnHofOI83uc/C/GTBdic0frQMcD9UkqUXvdT59561xeNbj3PXLqeOq+BDqu6BDgDOAMqZ1ySJhh5wjn8mHOgml1LAY+aYofBZaLJNtRXtxTngC+eUWR1QoQ1KkhzpMf3+0Tkh5eBpVnXja4c/zQYvKrmt9rMwBmb0Bk7MLExsPFID0mTcEvs2U+DS8nGruIuE/uehEcSh5z5gLAKzUndveQse0joxFyfCFgj2S+700uYkB85vx1j17YdOw8qu54Jfr5yTCyTE7XOiK3qVzayw96LR8/GfUJWhVvgJD4hCb+oVNqzUfuw7IN8Qrj7CLkFTijqWZJS0uzBxVe55hCUW3fNJQKPYD8T52GpS3rMXPwUNIwKVyyKeufXTw3Y4hlZ8YaKsnxS4hwnRVklxTkSwnWGOn1W21RXlR8eZ8yPR9QUWdpZSLfUOFqbSSnJH75lfvYB0nJuFNpZZWB+xh+QIZ86B95vsjRyr+1gcX7GRal9r2rYBx+wtxexKkrupSDZbnCZ6GsrhFtowOOM7xORTdW3VRSPJkXojvX6fZ+InHob+qjE2vjKCeCM9TgA6muh2D+D1yAaE4eQgFnwhGfjmaA+RhkLHFIGcn45ibBXPLoRnFqBfMZxbEpO+LQ8mHuJhB2qzkaNSEePCzvcpzmhswNjNxnfueNuT+SSppbRw8o/QqEzCrtmvFOrWXmOklDQWPunxFe/tA/L5hOR3E92wD/zsbV/ykE+IXY+IUu/xLjql5eN7IgpqC/omFt4x59W0NqLT6Bp7mIblC6nYUrFwMYtcDLm/oui3m/rpAZszijJMPN2UnxaYfumw7um2Mr5llxOgiGkS8lgc8b9fAs1pWO66sLZ8YaNVfYJCB3nW3JZcQarUtEaMoN4xh+oAZyxNl4sXbXoDGoKzPNn8OVP40uJ4VKS7uRm2+1/iwIN4hnfJyKHu33/368cXXWRlhqH6aGwpxW2no4KwV4qk29D19AIV34JiGesxyIQOQOLgJLmlN7ZqGHZxK8c6j64VBzEHKfEA7oZZSxIuM4Qc4oTc57CpeLAwCEQvn1PJu6juF87q6IDLhU7AeNRQdti6ZiJlUti+ZwodEZe+6RzdBEVPSsdK7dPWk1+53QYskVO0xR3H6FNQKq5Z8xBPiF+MSnPpPvZzR8N7APJqOjkNc2u2vnziUhg7trNcVj4sKgkEyc/EdkBrmMnAnOeIXvmtoozRnr8XjS5f3kd8n0i8tNg8N0gzZwEI0h/QsDmjKrCm7oaIs62ci+bPb6+Ce1rcA3xVjG7empmGAHp3j/AGcAZqH+Q4WtLfvY4rsChPWJH94od3XvyGI7sSVxXc7K6HJYli0BxAFs8Y3o47EWTu4ejQlyodlacQaS/eqi3SutDJ6gjkMAZm9AZu/CIyXhlJEIHzkaNsio67KVgJeY4Jexwbx/DESJWYUbpG0xyVoTMAovOOOXbxn7ZjZBFiIhNlM844ezdMbnkafmUP/RCy5Pij5+i0Bn5HVNu8eV0LFyUdCx37iIzG9/7pNackFXbR0TqfLfopk/CQT6hoydlfNMfZjd/NHIMIaeil9c0NXYKFTxzfg8uvtJV66t2AWqmTrLqJloWbvHVA1slnjH5JrS33rXj8Z2lOd1p0fr5KSYfXgat/PfAanPC44zvE5FPym2tr0uF+ah+HFj4Ol9ehyRFXFFVPDr5BtrtjIEz/tDCQTxjnQh4lMaU5EsT6Uq9mOI8qZFRdN1lbJ+aIXxoMtXOA5szvk9Ezo4gOp845yQaJobr5CYaNT9wWOqYVtvLrDw/cMYmdMbO3ThYhAc4NQO4NANIuCX3Uh6kFdcXsMzfhUu0n/04p6Y/u6oHHg03xp59wrfv8eiGEbIIYu4l2s9+gkcvgtcgRtjhvlTE2z+6YbUnUegMZM+3sMLm4+dU8AiIZVSNrjmHK+jepGfjYTh4KKqs+1ZQ+qIz/NIf/ewM+9DsSwa2BMRkGjdcbQLTrtoHqpk6WfknF3bNrjOYUdz3HZ7nJl9eh+QlGYX5qA53LU69CkL4qmXFG355tRDegCjB5oy+BtcwH1UT3RODrZ6zI+HPG9zCfFRvmkiAeMYfHLDa5rfa/MAZ63TGRl0OpzMWe5z58Yhv4xGQhhx/7tqAMzabM/hNk/eQ0O+lYMGj4d5DQoe9n5pSQEnAuvC421MCBn58Gh5SXhmSQ2f3UrLuJWcSdqikO22Ae+AgFgEF9n7qPaQMe0gZ6CVNjrs9XW0f9cf8KHRGcd/3jPoJ+5AsOhZuEgpqSlomCmpGOlZuhSsW2c0fXaKLj52SPXVeIzDnWU7LZ3PPGFbuoyrG9sF59U5Rhaw8xyhomBjZeakY2LiOHjd0CN5C80DnxyOy4gysTCVLMs0GWz0flVh7OSkWpppAGqqEzRlfX4c8QFpKnOQoz7nRV++aEXPVw0EhN8n4504GimMQz/iDY4AzNgoK66wXfmdA0SaXKRM4Y7M544RHPYea99GbuZwafoxnzdhV3EWdH8mnzi2sa7VGsl6wY5az5tGLOGqRzXbRScSxis8ojv2yK+sFu6XEb5Z6JuTFH92w2pOodUZx3/f8jimPhEpVEwepS3rymmbX3aNTn4wU9c5HlnaZud218kuKfzCQ3zEdmPX06i1/5+ji1KcjmQ3vPBPvKelbS13SVza0dY4uym75tP5gBmzxjO8Tke9eBNzPt3Cwkr1lLn3HRq660PJ9f+AyrXL9H8HmjO8TkV/fhDY/cPB1uehkLRvkcbmmyHIWrDdZbUtDSX7gjHWO9xt1OXDGeoZhtL8WinmgsolfpaMnzsV9lI6ZWFxLIpvw5UcvNHsu/pP03bGzd0dlYt8vZIgek034IhP7Xjp6XPru2FKSifuwCdebLMqgqHc+r30yo+Fd2rOx9Lrx7OZPyO6F6ZwFXTPZzZ9yWj4Vds8W9c7nd0xlNX3IbfuK7Jn7sVXXZEb9RNqzsYz6idy2r+ufmbF4M/A8N1lYhDkWMfk29N2LgInnAe9eBEy+DYX6kSiczpgfj5geRnx4GfjuxcIWZAsvmobsedCSwEA8A8QzUD8PFDhjqYGh9gDEM9aDISicgZIfNqgqBOXxDJTEIVBVCGzOQG2bXUlpcDpjJfeD8jxrd0ZcRZtdeitapqDsR5klVTk1beiXsu/V5RdnNlWZoGVqvG9aXepc9yiqpS6htT4e/dLDmvy+533rGWv/m68FzkDVkL8h5QBnoHz4h63AtTsjqaLZOb0eLVNodnVGUUX2/Qb0S1nltbnIzKeVlmiZnlRYVxZ71lZH19Um1j9Gw1RdXQCcsWYqAWdsiA9QVSlwBmwsQHlFa3eGW/k4qsJ9m60cMD9jox58rLNeMD9jzWPwf8OFwBmoGvI3pBzgDJQP/7AVCJwB5meA+RlQLYtHeTMG8zPW4yHgjA3xAaoqBc5AeX8CW4HAGcAZwBnAGesZvrfMtcAZqBryN6Qc4AzYWIDyioAzgDOAM4AztowV1nOjwBkb4gNUVQqcgfLhH7YCgTOAM4AzgDPWM3xvmWuBM1A15G9IOcAZsLEA5RUBZ0DrDGTPt5yWT3crelOeDOd3TG9I+/y50sKWiYqanHVOt1zh5a9qOMrjGKLdqYvu0r99xLHCq9aTDbZ5oF9ehXQ+vvOkzPZxmc3jMpvaEusnZbbdT50h3Zz4+0QkmJ+xHtQsOsO7YkgjbeJy6mf0SxqpE85Fr/PrB5Gdk+iX8p+9LCjK/Pzm7tchdEufXt993RMz2BX7fjAa/b7d16G7n9/cff2yanRsdJn2+6/fP3s5MADWm/w8fv/dcV77ZHhxu4qJw21Ebsrjob/LBtt5OJ1REc8ofXwv9u5tIoexH6YyQfpG+EWdwOaM4S6f5Ahdj9sX3OzOu9rJWxifMb5yMjZEewq8F/73zmLTnFl0RnDFS6O0Qf20t+iXjNMGPQt7cmu7C5pG0C/lPurMK8wc6osZfo5u6W1vTE9LXFdz/KvuWPT7dsPPY4b6Yvr7qoEz/iOqgcJ1rel149YBKRiYu84o6gTnNRR0zuR3TBV0zhT3fS/snls8LuqdL+r9lt8+WdA5XdTzraj3W2HXTF77ZG7bl7z2yYKuGVRt3LtQKVzxjK9tPAk+1BQkOzAwtuFgb8sMov3YBO3LWuF8X+vMMGKk23ew1XOgxfNFo1u4v7qmslBRmunMMALlIcefCwTxjPWgZdEZAeWv9NKGtNLG0S/ppw25I1/kPX1e2PoO/VLe4958ZOZ4f/S7AXRLYy+i+9vjnrfFDffFoN+3ezcQPf4yeuA5iGekQuWMoNx6YUnF7Tt2UDOyqZs5X7ULuHDF/IqVZ1HvN+foIkU9S+M7YbFV/QkPBs4o6lyx8ooq64q9//yGR7SI1EVWnmPCEgrXnCPuVvQie76hJOYBmzO6y9is9IjJiXfqXcLH37vdWJWgLptpPc9EVnItbPGM+fHIudHw2R+pvdbpbpAmwlf16+sQqF/cCpyxfme4l48qp32+kDqDfkk59bNj0UhB41Bx7zf0S/kNbwqLM2dHo76NRaJZmh6JGnkRPdwX83XoLpp9tcWvMzsaOTR4H8QzoHIGAtkqqaS7Y8dOZi5+g9tBWhYe3AInDwmdzqifkNcyo2Y8KCShcCsk0y2uDJ+QRPWao09ajZ6tL9shAUb2Q2cvX2XmPMzIzqtm6hRzr29rOSPem0qMH1uAB7s2g4mbdTcP264YD6ovLdDOOYXNGT/HGHISDO8GafY8c/n5JETHwBnrd4Zb+bhS6tfNtjcgSu4HvN8EonYHdbHg/SZ//fUXmJ/xfc1jfOLDV1ftAnZiYApJXHCNLbMOSD0sJkXFwBZa0MR19DghCQUrzzFFPcurdgGYu3abuUXZh2aLSl+iYmBVMrDxz3qsbuZExcB6WEzKKbJgzffw84XwxDNGHnNY6RGz0GFqyO8bf8alLI1PRYZxy5Bk8AH7SsISa84DvzM6Ht8J9VbNjDWYHgqDujMC80DXg4y//voLrDf5uSvYcsdgvQkMPQxEVYD1Jv8RyVj8VYHC+RkZDRO3QjIxMHdJKumFIVuCcuuklPWIyalueERTMbAxc/Jz8IseFpU8c1GHkJjcLa78uns0B78oB7+IX0Ztcd/34PwGHsFTTByHTe4gUNIvwOOM+lyWS9L7yIl3yp3CTfSmPncSdz/BTjW5fbXp0D46gdkZc6PhIV6Xw3xUmx44QNQ+fykWxDPWQw3gDJT0IRtVCHDGL73BFvoTOAM2Z+iGFbYk1LzSNHfdi09wUk6NjJpB6pKeiNRFClomZi5+Js7DoQXNNzyi2Q4JcB87EZrfWNQ7H4Zs4RU+zcjOa+gQjJLmDY8zUv1pRA7j4GBvp6PE4GbBpDuA8WPVCU6iD82aYxUruRBOZ3wbj3jfH6ivKZoec3UKlmAGiGesBxkgnoGSDmQDCwHO2EKw+OVWgTOgdsa7H/GM3eLnNYJy63Lbvlr5J+/BxSckoSCnYTS5g5BVN9mNtYeQhPyknFpCzaB7fMWxk7K0zJwmTmFZzR9u+iQwsB/iPCpmE5CGkhYOgzMm23luGZLQU2HSUGLKn8a7IIF34QweJenOA2Q77YxIIF3dCqczZkYQrQ8dHa3OPUBa/tKooPsTxDPWQw0Qz0BJH7JRhQBnQNexQF0ycAa0zshq+ugUWYi5azfBftILOubBeQ0+aTXcx07s2LGTT0TCO+WBprkr1h4cIlLKmz7xmY3vEx++VtC9iUdAhE9IwszJv28/2U7MXVKX9GIqt8Y80Ml2nnf1XDIncKnIdphpEr6q4VhMJuoENBQ7FSTxeyvYVhKZWFseOJ0xNRRWmWsRG6Ld8fgO1K10qXzgDOCMZWaMgnmgSy1lax2AeaBgHujaJ4Eu7FfRNRN7/7minuXpC5pX7QLCi9sTH7628Io7fUHzunv0QgAjofK89nUFXYu4qhcFnTMFndOBOXU6Vl5iMspHT8iISl/SuOHil1Gb3z6Jkp8RUMczJtt4nlcedDIlszMiKY+jX+JCeSy9nSGJyw3yxnzmpZMoP4DTGTPDiGcVt+rv2Y31+sPWqQFnAGcAZ8DW3GCrCDgDOGNdzijum8//sSWoX8aj8OL2jIZ3+R1TiQ9f+2c9jn8wkNc+mfpsNKywObSwqaBzpqh3vrjve177ZFz1S+/UB87Rxd4p1XFV/XltX1GCDBj26Zps4xl+zFGfy9JcyDpU+397jQ8/5mguYK3PZXlVA+GSEzid8W0sYrTH731/INR7c/3c2QFnAGcAZ/zcItDjGDgDOGOdzthcl0Mdz0B5iGJVBcLpjA3p4IAzgDNgc0ZR73xh92xe+ySye664b+En0MYm2OZnvO8P7G9yf/FTGuv1nx2BcKtfOJ0xPx4xPYwYbPV80eg+1usHz88kMD8DmiAjnwAAIABJREFU2vkZG9syf68dOGNDfICqSoEzgDNgc0Z+x1RsVb9zTHHio9cFXQuvStjYBJszWmocEhA6sSHaiynES6Ui58bHgSBUteLfy4HNGfPjER9eBj4us02L1k+KuIJMu9b11Hl2JPz3W0LtGeAM4Axo9+hcVUBinZlBPGM9wzDaXwvWm6wKCokPX+vZ+O7ajW3uFZv2bLSwe7awa3bxBQjInrmF48U4R+/84vGPx77zyJ5vBZ3TC29u6popQtHbEhZvGzZnPEBaOtvKO1rJOlrJ3jKXlhLndLt9fqTHF7VD78+lweaMyf+vvTMBb6M69/73UHbocrtQWpY2QEvpLbTcr3Db9FJoC+1laSmFlhRoCVBKWRISQhIashGS4OyrTeIsdpzNSZzYcWxn8Rrv8iLZkvdNlixrH81oZjSafe5zNI6i2LLjTbKtvH7mSUYzZ86Z+c+cM795z3veY4k/n7Xg5w/dvf7Tv+zY8Le3Zj62ZP7vrc0RvDT1MoEzgDOAMxJD6/xkXgd7xlhgCDhj+JyR2chsP1n7zMtvX3PtdS/8Y97KPdlxKXkrdmftOtuU1cInnNJ9sitzywlNup5K03qWfp6+4UhJqsaRoad25BjeX7Xz9flxH206lFTYqfqcDb/cIVJGjTN8lgSsc4u6pO17Z8WiP2alzo6NfpOO2tV7ts1cuuAPJv1awrg15+ic9Sv+ciz57Ug3eqPnjAO52k+PVMXkEn+86Gh27vHCmthb0nJL07OPVuYtjMmlIvejvOw1pUV7NGX7q8pjcCkqymxrbxvLu/ZKPhY4Y4i3eL9dx2qxJfHH77rvJ1d94Qt3/eCB52bOeebldx5+7Kl/LtqQYaBfmb38/ocf/fObC3bmGDanVaDJm5Zs2ZZRPW9t0kOPPnn3fz74/fsfuueH//Xki2+uSj57qontl/nofkaNM9SXLmffYW/ZOH/W/x5NetvavEFwRfBrJGr2DGNd3L6EN2a/9bixLs5r2p55aNbGlS/mnvhg8nLGztzWOakdMbmsP1GTllt2UtMVe0t6iSHrXFpr2d9icmkufbUi96OG6oR2fXJnQ1LsLRVlJ4EzRo1KwBnDf8Gn66n1h4sfefLPV19z7a+ffXnemqQ/vT73tu9+77fPz0zTen759Itf/PJXpz/xxyXb095Ztu3mL31l/vqURVuPPPbMjDvu/sGTM96c+cHKH//8V9N+8MBL7y05VGEdfrlDpIwyZxDd27JSZ29ePUNf+gnv2BnRN3HUOAM3bi3OXvjWzMdWLX5u0+oZSz58JmH9K2b92ohenehKHL09Y/U55xAeSVN61zjObzJEtZmQXeAHGukaFdH8od9k1JABccdH1OBktwr7zhtfXxB33fU3vL8qMaW4e97apHt//PCDv3h817nm6U88960775r+2+f+PvfTXz/7yh13/2DDkZJ/Ltrwvft/+uD032w4UnK40vbmv9ffdd+PH336xe0na0ZU9GCJo8kZgnNnb9P6j+c9XXbmo4h6gKrNRdQ4w9O15XzWgln//M2yhX9Ys/yFpQt+v33ty40VEY80CJwB/hngnxFBi+j4YgdwBnDGEJ9w4xsP9EBpz1sfb7ruhhvnr085Wu3akFry+J9evX3a9+dv2P/YMzOmP/HH3z7/2qNPv/jdex945Mk/J2TV/X3Oimlo/YVD5b3ZrcKKXVk/euiRh3755Gf7zg2GDiPaHk3OoC3xuvPLXnvpf9pqVnH2iA/HiBpnNJav2Br30sZVL9pbN7L2HZq8jzetnrFp1QzeGVmDDXAGcAZwBnDGWF7fU+ZY6DcZ0Xv9QGnPvwKcgcabVDkOlFn+tWTLDTd98ZdP/fmJP8187cPPnntt7p133/fFr3xt5rxVyUWdr8//7O77fvKzX/9+b15bZiPz4bp99z7w0M+f+OPGI6UjKnewxNHkDGNd3O6tM5d8+EwUxmKIrsTocIbg3FmSvfDTRX8kjNvUniDG+vnRpH+9+tdf+HrjhUiiBnAGcAZwBnDGlGGFsZwocMZgr/Cw2w+WW95dvv26G2584c35W05Upmk9q5LP/MfXv3njzV96+uV3Vu/LfWX28muvv/Grt3x7Sfzxo9WuRduOPviLJ26b9v2X3l289PMT0x9/9tY7pj376qz9Jeaw+Y90YzQ5o/zsv9+a+ejpY3OJ7m3ja5IMm1t0OEN0JdYWLlmz7IWMA+/hAdRorVq5bc1LH876XaQdUIAzgDOAM4AzxvL6njLHAmeM6NV+os677lDRrbdPu33a9//2/vLEs01b06t//LNfXX31Na/O/XTXueZ3lm378le/8a077/48W4+mUyg1z16588Hpj996x7S7f/iTr33ztl8/+/LKvadPNvhGVO5giaPGGaxtR/aR95998ifddWv8kQwDGmSOqHGGq2NzXsa8D9/73bx3f7fog6c/mvPU5tUzqvMXB88kQivAGcAZ488Zx+OnLZ9969zXbpn72i0fvH7LwrduWbvg22eT7ukte2CMkbiGPjxqcboEZyJtia84t+j0sTmZh2flZcxrqvw00t8EoisR/DPGAjXAGYO9wsNuz2rhUjWOuXF73lgQt2JX1sHy3lSNfdmOjLc+3rg1vfq4Dk/Iqpv16Y65n+1J0+LZLXxWC5dc1LUk4fjf5nzyl7cWvrFgTdz+/NQq53iF0IgaZ/COnW01q9OS3/b1JkS0NyH4Uo8aZ6BZmVo35hx5Pyn+9X0Jr6clv11TsMRnSQieSYRWgDOAM8afM+a98fXvfPvq22+9+tc/u+lX/33TT++/7of3XPuvv36t8MD3hgaFMe6NGmeQpu21RUs3rZ6x7/M3Du/+Z/y6V3Zu/LvZsC7SqAGcAZwRNT9QFT6yW/kMA5XZyGS38mFxpN/GrGYuTYsfLLNk6KlhHtIvh8F+Ro0zIvSuHSLbqHGGeg6CM5Ho3kZ0b2WsEScMtUTgDOCM8eeMOa99/bZvXv349C+e3DHtRMK0T+fccved1/7kvuu3L7t9jCQx9OFR4wyTfm38upc/+ejZtupVtCXhRMq7s9/8TX7GvIgGDQR7xlggA8a1Dvb+nirbgTOGIJVJvgs4AzgjUpzx0u+/6tQ8YK98wJB93y/+/03333vd5sW3DQ0KY9wbNc7o1H4Wt/T5+HUvm/SoB7fg5IcrFj2bc3ROpCc/BHvGWFAD+k2mClKEPU/gjEkOE0OcHnAGcEakOOPWb3zhsf++/tGHr7932rU333jVn5/6cn7KPWMkiaEPjxpn0Jb4uuLlLzz70z1bZ2YemrVy0XPzZ/2vu2NzpHtzgTOAM6LcbxL2lT8hG4EzhniRT/JdwBnAGZHijDu+dc0zv7r5qcdufviBG77ypat++z83H9v23aFBYYx7o8YZXtO28rP/fuNvj8Qte37bmpcWz3vmk4+eNdbFgX/GWDgg0seCPWNC+GC8CgXOmOQwMcTpAWcAZ0SKM34z/Yvpn9+VnnDXoU3f/d0jN91/77XLZ99K68e/uCCdRI0zOmpXxy17PnXPWyU5CzV5H+emzzu0682DiW8yvZH1qwJ7xlhYBDhjvF75E5IPcMYQL/JJvgs4Azhj/F/8qh/ojGf+w1Zxv7X8/s7C//z7c1++41tX/eulr1P1419clDlDcCZW5S9+8bmHWqtXMdbPRVciYdxamDn/ozlPkubtEa3wwBnAGdBvEtEqNiGZR3m8SfSvETgDOGP8X/wqZ/zyoZtT1n9n37rvbF5828MP3HDPd65Z8m4s2DME587awqWv/nV6cfZCV/tmnyWhSxd3LPntZQv/QAFnjAUEInws2DMmxA4xXoWCPSP6fDBeJQJnAGeMP2fMf/Mbd995zQ3XX6UuN9141de+8oXnf/fljB13BW0PkViJWr+JpXHd7q0z3379VwWZHzZXrdy7/bXZ//xN7okPIh09EOwZY0ER4IzxeuVPSD7AGeP11o9+PsAZwBnjzxn5+7+3c+WdGxfdri5bl95+YMN3NMfvdWhiJB4oZ9/hat905vjclB3/2L/jHxkH3qvKW0z3xAvOyIYwB84AzoB+k+i/JiNdIvSbKIry/wbW7S6jcfU55xBP/JTetTjdmF7SOCHMHulCT9W5cotPRMKWEJqnvfKB7vP3dxb+qLPwR12FPzIW/chSej9W8+OIOoH6DA9GzZ4huhJ5x0535xazYZ3ZsNbespE0RdYzQ23pgDMGtkXD36LaMzac63k91fFKKh57y2upjpVZ3Sc1xqwGb+wtGZUdmVnHcNMer3l3jC2e7j3dTXuNjUmurhi8Oq95N27abeostDvsQ9RW4Awx0q//qOUfHc4IZY5orkeTMyL9iRM2f+CMIdqpy+6SZZnwekuabMerrceq7bG3HK+25tWZta0mXZcj9hZ0XXU19p5yR8wt9p5ys7HC1FVhM8fg1Tl6yu095XZrq5f0DlFJgTOAM8a/byUS/AGcMUQ1hl2KogiCQFEUAX+gACgQXQV8Pp8gCMrgf8AZwBnAGZF1vAhrvRi4EewZgzdTsAcUAAWmsALhOKPbuC7XPuMIE5PL8pNdGSWG061c7C1ZOntucTqpnx6TC1H/SHPpG66OTYxtD+fYHXuLXpvR1tE+hdsSOHVQABQABcIpEIYzbHZbhdaQU1wVk0tuSUVRWfn5iqrYW4rKK8+XFVeUZ8Xokl1adraisqBSUxSTS02txtLbG66SwjZQABQABaawAmE4g+M4kiQ9OA4LKAAKRE0Br9fLsuwUbkvg1EEBUAAUCKdAGM4Ilwy2gQKgACgACoACoAAoMGIFgDNGLBkcAAqAAqAAKAAKgALDVCAMZ8iyIouKJCqyNMxMIBkoEFkFgs+kIke2IMg99hSQJdSaQYM2qe+sjF43fbcJ6vikvlWjObkwnMH7JAYTaZfAesXRZAnHgALjqoAsyrxP8jkF2imIrAyoMa7qxnhmsqywpEQ7Bdol+AkRvp0m5/0WeZnxiOg2OQWekWVAjcl5n0Z7VmE4o7uYqtjsLFxu1R/yjDZbOA4UGDcF/IRoKqHyl1rzPrY6m/ySAI3QuGkb8xnxPqklk8j72Fr4iU27182S8O00Ge853s1p4p15i1EdN1fQAgt1fDLeplGfUxjO6Mwli1bYcub21OxyjzpfOBAUGC8FGI/YmUtmz+7Jetdsr2eAM8ZL2CshH46WDKmeU++aT39gqdzqBBvt5LzpWAdb/Jkt6z3zqXfNxiJK8EOf/eS8UaM8qzCc0XHOW7jCmjMHOGOUmsJh46sA4xE7csnsWT2n3gHOGF9pYz83jpb0hz2n3jGfnttTAZwxWW844ozVtlPvmk+9A5wxWW/SGM4LOGMM4sGhUVEAOCMqMsdmIcAZU+K+AmdMids06pMcijOqE12SIMMCCkysArRTaD8L9oxR1/Er+sBLOGOLk8HEiX2YofSwCrhb/efBnhG7NXVQzsh+v6dyq5O08rCAAhOrgKvF33gCz4J+k9hthiJ3ZUHOyJnTU7rO7m5jJ/ZhhtLDKtBT6Sv8BPpNIlcPJjjnQTnj1Dvm7Pd7zi3shQUUmFgFzi6wnJ6LnDPAP2OCW4spWHyQM069a86e3XN2gWViH2YoPawCZz60ICfQQB0HP9ApWM8uc8pDcYZ61+FfUGDyKADjTS5ToWH3pQpc5IzAO2zyPMlwJoMpAJxx6SMcC78G5Yys98z5S6z1BzFYQIGJVUCb5C5Za1d90YEzYqHVieI1BDkja1ZP7r97tcnuiX2YofSwClR97jo736KSB3BGFOtHlIoalDOy30fDwLwWHhZQYGIVcDb5G4/jqlkVOCNKDUOsFBPkDOSfsdbhavVP7MMMpYdVwFxBg39GrNS5MNcxKGdA/IwwasGmiVAAxrVOhOoxUmaQMyB+xmS+ozCudTLfnbGfG3DG2DWEHCKrAHBGZPWN6dyBM6bE7QXOmBK3adQnCZwxaungwCgpAJwRJaFjsRjgjClxV4EzpsRtGvVJAmeMWjo4MEoKAGdESehYLAY4Y0rcVeCMKXGbRn2SYTiDMHEWDd19nnI0+EedLxwICoyXAoJfJsycsYjqKqR8LgGm9h4vYa+EfCRedreyXYVkdzFlq2NEDiYCnYy33U+IvdU+YyHVVUh6Lbwkwm2ajLdp1OcUhjNGnRccCAqAAqAAKAAKgAKgQKgCwBmhasA6KAAKgAKgACgACoynAsAZ46km5AUKgAKgACgACoACoQoAZ4SqAeugACgACoACoAAoMJ4KAGeMp5qQFygACoACoAAoAAqEKgCcEaoGrIMCoAAoAAqAAqDAeCoAnDGeakJeoAAoAAqAAqAAKBCqQGxyhiwrsqwoQ4/BHk6aUKkUlCHKdvC/vnKDCS6XPphwOCtDFz2cHCANKAAKjEaB4bQVw0kzoOzLNlP9a/1lm7UBRQy6YRyzGrQM2AEKIAVikDNkSWFJifWKKCbPIFggSwpPozQCKw8z7pMsKyInc5Q0WHpJkHlG4n2S+mTJkiL4Zd43aPoRPYCSIHPjlNWIyoXEoAAoIHASR6KqLfGDNCiKIrJyXxph0DT9lJQlhaMkkZf7w8SFdKjWU1Jwr8Sj9kRg+1qYC6lG878sosZKYMandRrNGcAxV5ICMcgZLCnqktyaeKeliubo8HWSIyVDqkeT4OrR+FgyfJp+jwHvk1wt/oZj+GAhKb0WviufbMv2qgdytGQqo1uzvX6P2C+rUfzEjVzLKYIlxMEoZxR5wiGgAChwWQUkUbZpfbp9WFM6gXWwYdNLgmwuo7V7sZZTBGHiwqbpt1GWFD8uGo54nM1+ngnfBFFWXn8QE/xoryzJWDvbmu21VPukYaNMv0KDP31uoeOc11hEsd5xaJ2C2cIKKBBWgRjkDMYjFn1iPbfQUrvX7WoJEzpd5GSsk81f0nvmQ0v7GS8zPA5gSbG3mi7f4iCtvCyhDhTCzLWf8aIQuYEPGLyba80mGtNwVWg/ITZnEtq9btohhJV+RBudTf6aRJfPJUBE3hHpBolBgTEqIAmysYgs/sxWvNreVUAFrQvBbAMGVLFqhyt/iVWbFL7NCSYOrkiiTDuF8k0OS5WPoyRFVii70HDE4wrBDm8PX5PoUilEFmV7PaPd6+7I9Y49ejpp5ev3Y41pOOMeh9YpeFGwAgqEVSAWOQMT8hb1nl9lK1lr78wnB9ZJn0tozfYWfmI9/UFPaw7BYMOqaaxX7KmkS9bZvZYAZ0iKo9FfvdOFTKkBzmBJETdyWHvfFw+Di40n8OqdLso+rPzD3p7gRoeBqdrupJ3AGUFJYAUUiIYCkiB35pHnV9oKllqbTuCMp391FnkZ7+ZK4uxFn9rq9mOOxjDfNgNPFHGGgy9ZYzdX0CwpKrLi6eLOr7KZy+ighZWjJEcDo1ovZFG2apnqna6208TANm1g/kNvIXt53V634bDH5+p/OUMfCHtBgVEoEKOc8XFvXYq7bIO9MQ33XQrssojmVarc5tTtw3I/7m07jTgD+V7wqHtV7mdElBXeJ4kc6kAN5QzkqEFLlipfxRYngwnICUOUJVEW/LJq5FQUZSBniKwscrLqxsF4RNLKM5gQ6CK9pENXdQRhCZGy8bRLYElR5OWBnBHw/5D8uOi18LSzL1nwCVDPpJ99VeRQp6w4eB9z8HBYAQVAAVUBlTNK1thL19r1h7Deal8/ZThKMlfQNYnuqnhnw1FPH2fICs9IA62PAoscLKRAcxHKGSIn2w1M/lJrxzmS7OVFFn29IC8KHzJ1oH6TAZwhCai1EfzIa4QlA82FQ2C94kAnEklEfh4+l0DZ+tocr5nrzxmyorqD0E6BsgsMJgabMkVBu5A/h/8Sjzf1BHjmogdJP2XgJyigKhCznNGWQ9TtcxtSPf26Tnif1FNJF8fZzeVU4QqryhkiJ1M23lRKIwNm8E9WJB7ZKkkrL/JyKGewpIQbudYsoiTObtMxuJHjfcir1NPJulsHtWcQ3Zynk/X28M4mv1XLdBdTpjI0KW7oJ4UsKQwmultZi4Y2FpHmStqq8+HdnKWSDrVnSDwyutr1jKWK7iogTaVUb43P08kGO3pJK+9uZclePugJK7Loq8vd6oce2eAdhhVQ4LIKqJxRus6u3Yvak/oDWD8Hc9op6A97ugqp+gNYQ5pH5QxJlB0Gv98rXtLPIiu4kfN0sX5c7GfPYNxCR64399+9hlSPReOjHchyyZKSrX5QewaDCe421tHAeDpZu54xlVDdxVRvNWoHECJc+HgR/LK3h7dU+cxlVHcx2aOhUftT66vdHWLPCFCRx8hatT5TKdVdQpkraUcjE/RF4ygJa2edjX7hgiuJLCm0Q3A0+j1drAQ2kcs+Rld2gpjljPbTXnMp3ZJJdOaTwSqnKArtFDrzyKrPXbiRK/7MpnIG6xVNJVTO+2bCfPHFrHa7lm10dBdTXGBwSrDfhHYKvdU+7V53wTJrSwZhqfL5cQQZjWl4/X5MfaIG2jNaswhdCtZw1KPd6zYWUeYyum4/VpXg6swjg96dLCl25ZMVW5w1iWh7Zx6p24cZjngMqZhm28V+E8rBt5/xlqy1Gw57zOV0Ww5RleCs3eNyNvfZbJ1Nfv0hT8tJQvVOl1EDxxpSPYZUD/TIXtlVHq5+ZAr0ccZ6e2s20X7GW77JQdmFoOFTlmRPF1uyxu7p4prT8SBnCH6pcpsTa2eDVVu1SbScJBpPEK5Wth9n4N1c3X7s7HyLJt7ZmIa721jUHWPkyjc41CFsA+0ZDgOjS3aXrrXX7HQ1pePmcqr9jLd6p6t6hwuVG5haXZYUrJOtP+gpWmlrPI4bi6nmdLx2j7vqc6dmm1N/od9E5GV3O1u9w1WV4Go/7e0qIPWpmGY7OhN1hB3jEduyUSODdfTlzFFSVwGpiXd2F1NgIh3ZI3XlpY5lzvB0ch1nSf0BTAwZCeZs8jdn4KZSmujhiuMuckZ3CZU9exDOON+fM5DBkJWtWl/lNidHoQG0qD53sA3H8LqUoTijJM5etx+j7ILIoT4UnpE688n6Qx7SxqNmSFYsVXTtHnfjMZxxo2xFTmY8QvtZb9FKW+lau+qfIUuyqYyq249MuAKDunUEVkZOqWe9+sMY6iuRFd4vG89T2iS38Twli6hLSH/Yo0vB7HomtOG78h54uGJQYGQKBDmju4SyapmqBJetjgm+WRlMMJ6nKrc5fS6xNZO4LGc0D8IZkiC7mv0Fy6xdBRRy9xZQXy1u5MrWD8UZ1TtcpWvstjqGo/vaAbueqUtBQ2NUHw6WEjsLyOodLncrq3YBC340bk6b5D630FJ/AEMWC1lxt6GPkLoUDPXk+lFWfhy5oxWvsdv1jDr8lTBxracIbTLGkmjUm72e0R/CmtNx/tLOlJGJC6mvDAVimTNIK28up7VJmL2eUa2XkqiYSun6g5i3h/daRs8ZaLyJpNgb/Jr4i36gl+eMU4QuGbNUXTIsrbfWZziC99aiTl+Jl5tO4A1peOCjoe8BRB9MgS+S4jibyhmEmWvJJFoyCeQ+duFPYGVbnU+b5MY60ZeQLCu0g+/M9dbucnt7uK58sv4gZq6gOeriIRcOhf9BAVBgUAWCnGEqo8hevv2013AY7wuTIyuuVrZuP9ZykuB9UlvW6DkD+YF2cgXLrd3FdLBn03M5ztAlubVJbj9xsXfG5xSMhWTtXjfypVAUq85nOOppP0uGulawpGgupwqWWesPIs7gfVJXAaVJcNkNfX00gWG0CmnjW055m9JxBkONhuCXnI3+ml2uthyvTcc0HPU0p+OhBuBBFYQdV7wCscwZtENwNvv1hz2GIx61S5Xs5VtOoaGnHCVNCGe0ZBLeHmS6CP7ZDf7G43h3CYVqMivXH/R0nAs0CsEUCvJF7S6mStb02TMsVT70yXICx7s5wtS34N2cqYSq3unqLqZULw1JQBbdphO4/hBWFe80FlG0E327wB8oAAoMX4FQzuBoyaZjyjc6KDuP/L5Z2VxBq9YCSZCjzxn1B9HYVCnk24GjJGutr3qHS/XibD/t1Sa5bfVM6PVKIuolKV1n1x9C4018brE5gyjb4HA0+vEL7Qlh4lytbGceWZ14YcScrPgJ0VxOa7Y7NfHO+kOeULtOaP6wDgr0UyCWOcPnFHwu5F1VvsnhcwsSL5vLaUOqB3UocrK3dwLsGe1nvb5Lh9E6Gv1N6Xj3ecQZPCPVH8SMRWg99E+WFauOKVvvUO0ZnblkVYKrbj/WXUpdXEqothxv/UF0dUFfLZYUeyrovI97i+NsjkZ/v+EnoUXAOigACoRVIJQzJBGxe/lGR4+G5kjJ50bOXroUDI04k5Xoc4b+MNacgYd+PPCMZK9nqi5wRmMaXrMLuWv0uzTCxGm29/lnUDa+4ainOM7WXRLSnpRSxvPI4aP+ELJ5qIcj30+nULbecWa+pfkkEdzeL3P4CQr0UyDGOUMSZEcDU77B7mzy+3Gx6QRuOOLxGFlJ6M8ZJtU/w8QFnUZlUWYwoWyDo3uAf8ao+006znn7jb8fFmdIilXrK9vYxxntZ7zq90SPhg5dzJXoJ9aB+k1Uy6fPLQRCDNnLNzlsOiY4GqXfQwA/QQFQYDAFQjlDkdGLVn8I0yWjvld3K9uaE/A0Dxw8kDPc7awUOoJNlJvSicbj+EA/0NH1mxgOYy0n+wIDqucfyhmyLDcc89QkDuAMWUGcEd/HGaSVbzjiUSN5hLYnaL2Stmp9/IWoyiIne4xsxSZHwXJrcyZB9qJIQvAHClxWgRjnDEVRyF5E661ZhLuNrT+ItZ9F0fQGcoa5DPmB4kYuWHOQD3YHW7ImepwhslL9fqwzl+xneOB9kvE8FfTP6Kmk9Yc8yOxxaSeI4JdopxCcgYX3SZZqX3Wiy6JB/SzNGTjWeYn3+2UfDkgACoACl3CGguZF6q32FX9mt9UzHefIxjQ8GGi8H2do4p2uFlYMiREucrL+sEefGiXOUBSlLQf1m9j1l/SboBhCbWwJCgcS6Dd5B7VjAAAGXklEQVRxCU0n8MrtTjUsafCOS4LM4qLqlBr4bpGJHk5/2FO7x91yEkU67swlg9M5BY+CFVBgoAKxzxl8oEu1eLWtLcfbfBK31TFKICJNaL8Jajtqfdmzza4Wf9CTnKOltmxv0Qpb1OwZkiA3HccNhz3u1ktCCrpa/LV73EHOoKx803Ec9cuGNGGyiDzAq3e6VHuGLKHhMLpkNIxWYCTCxNXscjefJGgnDHUfWAtgCygwqAL9OAMNdyfE4tW2lkxCm+xGzl4X3LEv4QxWrt3j7q2+OH0SivVHipoElzYZi449Q1EUWx1jOOxpy+mbdEm9SBRDSIO6U1U/UIGRO3LJsg0Oq44JDSzm7eG1e93N6bg6MwNLiKZSumw98k3hfFJnPmVI9Vi1/aOWDaoj7LiCFYh9zlCjAp9fhcaFtp/1UoERpP3sGZKAhqrnLe5tPkngRo4lkWHAWuvTxDvzF1vDc4asOAz+is1OP9E36etwxpsM3W+iyKh/RJfkrkvBXIGAWn5cxNrYtmyifJOj/EK/icijSZt0ye6OXBQ6kPdJjEforfXpD6MgQmp4Pm8P15yBNxztcwgXOeSboj/k6SoIE4j9Cn7+4dJBgcso0I8zFAXN29yUjldsdlRscXQVXLQ+hnKGyMttp726fZi5nGYwkSUloptrPkkUrrBpkwbhjC6ucIWt/bSXtgfGtUrKZcebDN1voijIc7OrAIULMpVSlA0ZOymH0KOhtXvdhZ9Y9YHxJrKkjmvFa3a7nU1+xo3OFs3WlEWcX2VD/SY+iaMlczldl4KZSpFzmyIrpAX51OtS3Hj3RRvwZaSE3VeqArHJGfmLe9vPeFU3JVlGETZrdrnVuQNUQ58kyGQvmlyg7bRXjTvOUZKpjNLudWv3uuv2Y3UpWP1BrCMXzWsQjNNl0dCl6/vmN1EUxd2KPMLq9mOdeSTtFDwdKE5X3YU4XcgdJB2/6K2tKK1ZREfuIP4ZxX2+n35ctFQjYqje6dKlYLp9mP4g1nHW23KS0Gxz+i7Mb0I70Kj92j3u2j3u+gOYLtldu9vddAJ3BeJ0cZTUcopoOOqxXwgmiOKgY8hnzZCKvMSv1KcdrhsUGLECkiB35ZNlG+ymsr5KKoso1kXZRocu2e1uu+hi2YamUfQ4m5AxUpbQPIuG1EBFTkZNim4f1pJJVG53GlI97gtxukrX2s2VgflNFIWyCdokrHyjA40QqWN4Hwo6HBqny6ZjahJRHC01NobDwBhSPS2ZROglIf8MPbJrquNNZEn29nBtOcijq/ZCy9Z0HG/JxDWBM1GnZeBoydXsbzyB1+xy65Kxuv2YNvC1YywkUehSXrbrGf1hD5p3zYOmYlFhC53AEU/jcTTKN9QXNfR8YB0UUBQlBjmDp6WWTMLZ6A8GEUcxtWp9nbkkYeJUw6Bq/Ow4Rzoa/X1zxwemODEVU4YjHvR2P4w+/VV/cqydFVk0lQBu5DrzUMVTKxXtRINZtMnujnNe2oHGtth0jEXTZ0jkGRQz2FRKBWdFcjQwaDJG3yWuU6SNt9UxoQ7hHC05Gv0Naeg0dClYW47X08kSZg7hDiWp7iMoPIZT6C5GpktdMrJ/tGV7XS19I0o4Co2DtWp9QYuu+qwTZq5HQzsMl3TKQDUABUCBIRRAn/ut/s480tN5ASlkhaNEYxFl0zHBRkZRFEcDY9X5VIup6tDgbPK3nCLqAh8MTekoLo6l2merY2iHoIYb7sj1eoycwKJXN++T7Ho0Dl+XglkDXtsMhqIDq1Qhy4q3hzOV0s4LA8dIK99b4+vneyHysreXN5VQwVlO1G+q1ixv/UFMt8/dcMRj0dCEieupoK21vr7WLzCoHoU0zSDQd8s+1N9qLqdRYyUjZnK1+E2llPoZE9SKJUVHo7+rgIQpToKawEpYBWKQM8Je5zA3ypLC+9BUJsMi9MAEKIxHQNUsEOV3mKVcPlnAg4T1SiwphTph9D9QVqRA5D6OGjJZ/8PgNygACkRJAXWCRj+BZkO8fJGBiRs5CkXkvHziEaWQFcEvswSaHS3o6h4mAxk5urJeceD8jmESwyZQYHgKAGcMTydIBQqAAqAAKAAKgAIjVwA4Y+SawRGgACgACoACoAAoMDwFgDOGpxOkAgVAAVAAFAAFQIGRKwCcMXLN4AhQABQABUABUAAUGJ4C/wcjpsq08GKjjgAAAABJRU5ErkJggg==)"
   ]
  },
  {
   "cell_type": "markdown",
   "id": "0743395b",
   "metadata": {
    "id": "0743395b"
   },
   "source": [
    "### [실습1]"
   ]
  },
  {
   "cell_type": "code",
   "execution_count": 16,
   "id": "17ba3a58",
   "metadata": {
    "id": "17ba3a58",
    "outputId": "1530232b-3d16-48f8-b44d-f78372de8325"
   },
   "outputs": [
    {
     "data": {
      "text/plain": [
       "n    v     \n",
       "bar  one  A    1\n",
       "          B    2\n",
       "     two  A    3\n",
       "          B    4\n",
       "baz  one  A    5\n",
       "          B    6\n",
       "     two  A    7\n",
       "          B    8\n",
       "dtype: int64"
      ]
     },
     "execution_count": 16,
     "metadata": {},
     "output_type": "execute_result"
    }
   ],
   "source": [
    "stack_df = pd.DataFrame({\n",
    "    'A':[1,3,5,7],\n",
    "    'B':[2,4,6,8],\n",
    "}, index=pd.MultiIndex.from_tuples([('bar','one'),('bar','two'),('baz','one'),('baz','two')], names=['n','v']))\n",
    "\n",
    "df"
   ]
  },
  {
   "cell_type": "markdown",
   "id": "778d7029",
   "metadata": {
    "id": "778d7029"
   },
   "source": [
    "#### 1) stack()"
   ]
  },
  {
   "cell_type": "code",
   "execution_count": 17,
   "id": "45a0de9c",
   "metadata": {
    "id": "45a0de9c",
    "outputId": "c43e97e9-4504-4a17-9431-dae1d7e6e0ba"
   },
   "outputs": [
    {
     "ename": "AttributeError",
     "evalue": "'Series' object has no attribute 'stack'",
     "output_type": "error",
     "traceback": [
      "\u001b[31m---------------------------------------------------------------------------\u001b[39m",
      "\u001b[31mAttributeError\u001b[39m                            Traceback (most recent call last)",
      "\u001b[36mCell\u001b[39m\u001b[36m \u001b[39m\u001b[32mIn[17]\u001b[39m\u001b[32m, line 1\u001b[39m\n\u001b[32m----> \u001b[39m\u001b[32m1\u001b[39m stack_df = \u001b[43mdf\u001b[49m\u001b[43m.\u001b[49m\u001b[43mstack\u001b[49m()\n\u001b[32m      2\u001b[39m stack_df\n",
      "\u001b[36mFile \u001b[39m\u001b[32mc:\\source\\pythonsource\\venv\\Lib\\site-packages\\pandas\\core\\generic.py:6318\u001b[39m, in \u001b[36mNDFrame.__getattr__\u001b[39m\u001b[34m(self, name)\u001b[39m\n\u001b[32m   6311\u001b[39m \u001b[38;5;28;01mif\u001b[39;00m (\n\u001b[32m   6312\u001b[39m     name \u001b[38;5;129;01mnot\u001b[39;00m \u001b[38;5;129;01min\u001b[39;00m \u001b[38;5;28mself\u001b[39m._internal_names_set\n\u001b[32m   6313\u001b[39m     \u001b[38;5;129;01mand\u001b[39;00m name \u001b[38;5;129;01mnot\u001b[39;00m \u001b[38;5;129;01min\u001b[39;00m \u001b[38;5;28mself\u001b[39m._metadata\n\u001b[32m   6314\u001b[39m     \u001b[38;5;129;01mand\u001b[39;00m name \u001b[38;5;129;01mnot\u001b[39;00m \u001b[38;5;129;01min\u001b[39;00m \u001b[38;5;28mself\u001b[39m._accessors\n\u001b[32m   6315\u001b[39m     \u001b[38;5;129;01mand\u001b[39;00m \u001b[38;5;28mself\u001b[39m._info_axis._can_hold_identifiers_and_holds_name(name)\n\u001b[32m   6316\u001b[39m ):\n\u001b[32m   6317\u001b[39m     \u001b[38;5;28;01mreturn\u001b[39;00m \u001b[38;5;28mself\u001b[39m[name]\n\u001b[32m-> \u001b[39m\u001b[32m6318\u001b[39m \u001b[38;5;28;01mreturn\u001b[39;00m \u001b[38;5;28;43mobject\u001b[39;49m\u001b[43m.\u001b[49m\u001b[34;43m__getattribute__\u001b[39;49m\u001b[43m(\u001b[49m\u001b[38;5;28;43mself\u001b[39;49m\u001b[43m,\u001b[49m\u001b[43m \u001b[49m\u001b[43mname\u001b[49m\u001b[43m)\u001b[49m\n",
      "\u001b[31mAttributeError\u001b[39m: 'Series' object has no attribute 'stack'"
     ]
    }
   ],
   "source": [
    "stack_df = df.stack()\n",
    "stack_df"
   ]
  },
  {
   "cell_type": "markdown",
   "id": "4aa8c18c",
   "metadata": {
    "id": "4aa8c18c"
   },
   "source": [
    "- 컬럼이 가장 안쪽에 위치하는 가장 낮은 레벨의 인덱스로 변경"
   ]
  },
  {
   "cell_type": "code",
   "execution_count": null,
   "id": "962f0f06",
   "metadata": {
    "id": "962f0f06",
    "outputId": "9f07f7ff-83df-492e-b8f0-888850433f00"
   },
   "outputs": [
    {
     "data": {
      "text/plain": [
       "pandas.core.series.Series"
      ]
     },
     "execution_count": 13,
     "metadata": {},
     "output_type": "execute_result"
    }
   ],
   "source": [
    "type(stack_df)"
   ]
  },
  {
   "cell_type": "markdown",
   "id": "1a90e92f",
   "metadata": {
    "id": "1a90e92f"
   },
   "source": [
    "- 시리즈 타입으로 결과가 나옴"
   ]
  },
  {
   "cell_type": "markdown",
   "id": "b6ff5073",
   "metadata": {
    "id": "b6ff5073"
   },
   "source": [
    "**stack(숫자) : 숫자가 들어올 수 있는데 멀티 컬럼일때 가능**"
   ]
  },
  {
   "cell_type": "markdown",
   "id": "39f85014",
   "metadata": {
    "id": "39f85014"
   },
   "source": [
    "stack(level=-1, dropna=True) 레벨 값을 주지 않으면 가장 뒤에 있는 컬럼이 이동하는 것"
   ]
  },
  {
   "cell_type": "markdown",
   "id": "2be1333d",
   "metadata": {
    "id": "2be1333d"
   },
   "source": [
    "#### 2) unstack()"
   ]
  },
  {
   "cell_type": "code",
   "execution_count": 18,
   "id": "26aa17f5",
   "metadata": {
    "id": "26aa17f5",
    "outputId": "0cd845e4-b94f-4aff-a8e8-ed7e5f60db34"
   },
   "outputs": [
    {
     "data": {
      "text/html": [
       "<div>\n",
       "<style scoped>\n",
       "    .dataframe tbody tr th:only-of-type {\n",
       "        vertical-align: middle;\n",
       "    }\n",
       "\n",
       "    .dataframe tbody tr th {\n",
       "        vertical-align: top;\n",
       "    }\n",
       "\n",
       "    .dataframe thead tr th {\n",
       "        text-align: left;\n",
       "    }\n",
       "\n",
       "    .dataframe thead tr:last-of-type th {\n",
       "        text-align: right;\n",
       "    }\n",
       "</style>\n",
       "<table border=\"1\" class=\"dataframe\">\n",
       "  <thead>\n",
       "    <tr>\n",
       "      <th></th>\n",
       "      <th colspan=\"2\" halign=\"left\">A</th>\n",
       "      <th colspan=\"2\" halign=\"left\">B</th>\n",
       "    </tr>\n",
       "    <tr>\n",
       "      <th>n</th>\n",
       "      <th>bar</th>\n",
       "      <th>baz</th>\n",
       "      <th>bar</th>\n",
       "      <th>baz</th>\n",
       "    </tr>\n",
       "    <tr>\n",
       "      <th>v</th>\n",
       "      <th></th>\n",
       "      <th></th>\n",
       "      <th></th>\n",
       "      <th></th>\n",
       "    </tr>\n",
       "  </thead>\n",
       "  <tbody>\n",
       "    <tr>\n",
       "      <th>one</th>\n",
       "      <td>1</td>\n",
       "      <td>5</td>\n",
       "      <td>2</td>\n",
       "      <td>6</td>\n",
       "    </tr>\n",
       "    <tr>\n",
       "      <th>two</th>\n",
       "      <td>3</td>\n",
       "      <td>7</td>\n",
       "      <td>4</td>\n",
       "      <td>8</td>\n",
       "    </tr>\n",
       "  </tbody>\n",
       "</table>\n",
       "</div>"
      ],
      "text/plain": [
       "      A       B    \n",
       "n   bar baz bar baz\n",
       "v                  \n",
       "one   1   5   2   6\n",
       "two   3   7   4   8"
      ]
     },
     "execution_count": 18,
     "metadata": {},
     "output_type": "execute_result"
    }
   ],
   "source": [
    "stack_df.unstack(0)"
   ]
  },
  {
   "cell_type": "markdown",
   "id": "52ca904a",
   "metadata": {
    "id": "52ca904a"
   },
   "source": [
    "##### unstack(인자) : 어떤 인덱스를 컬럼으로 변경할 것인지 지정 가능"
   ]
  },
  {
   "cell_type": "code",
   "execution_count": null,
   "id": "eb8469d3",
   "metadata": {
    "id": "eb8469d3",
    "outputId": "c6d180f7-318b-4bfd-ce14-e5923329493d"
   },
   "outputs": [
    {
     "data": {
      "text/html": [
       "<div>\n",
       "<style scoped>\n",
       "    .dataframe tbody tr th:only-of-type {\n",
       "        vertical-align: middle;\n",
       "    }\n",
       "\n",
       "    .dataframe tbody tr th {\n",
       "        vertical-align: top;\n",
       "    }\n",
       "\n",
       "    .dataframe thead th {\n",
       "        text-align: right;\n",
       "    }\n",
       "</style>\n",
       "<table border=\"1\" class=\"dataframe\">\n",
       "  <thead>\n",
       "    <tr style=\"text-align: right;\">\n",
       "      <th></th>\n",
       "      <th>first</th>\n",
       "      <th>bar</th>\n",
       "      <th>baz</th>\n",
       "    </tr>\n",
       "    <tr>\n",
       "      <th>second</th>\n",
       "      <th></th>\n",
       "      <th></th>\n",
       "      <th></th>\n",
       "    </tr>\n",
       "  </thead>\n",
       "  <tbody>\n",
       "    <tr>\n",
       "      <th rowspan=\"2\" valign=\"top\">one</th>\n",
       "      <th>A</th>\n",
       "      <td>1</td>\n",
       "      <td>5</td>\n",
       "    </tr>\n",
       "    <tr>\n",
       "      <th>B</th>\n",
       "      <td>2</td>\n",
       "      <td>6</td>\n",
       "    </tr>\n",
       "    <tr>\n",
       "      <th rowspan=\"2\" valign=\"top\">two</th>\n",
       "      <th>A</th>\n",
       "      <td>3</td>\n",
       "      <td>7</td>\n",
       "    </tr>\n",
       "    <tr>\n",
       "      <th>B</th>\n",
       "      <td>4</td>\n",
       "      <td>8</td>\n",
       "    </tr>\n",
       "  </tbody>\n",
       "</table>\n",
       "</div>"
      ],
      "text/plain": [
       "first     bar  baz\n",
       "second            \n",
       "one    A    1    5\n",
       "       B    2    6\n",
       "two    A    3    7\n",
       "       B    4    8"
      ]
     },
     "execution_count": 44,
     "metadata": {},
     "output_type": "execute_result"
    }
   ],
   "source": []
  },
  {
   "cell_type": "code",
   "execution_count": null,
   "id": "5bc2ce8d",
   "metadata": {
    "id": "5bc2ce8d",
    "outputId": "484ae52f-d4d7-4641-adc7-30366821989f"
   },
   "outputs": [
    {
     "data": {
      "text/html": [
       "<div>\n",
       "<style scoped>\n",
       "    .dataframe tbody tr th:only-of-type {\n",
       "        vertical-align: middle;\n",
       "    }\n",
       "\n",
       "    .dataframe tbody tr th {\n",
       "        vertical-align: top;\n",
       "    }\n",
       "\n",
       "    .dataframe thead th {\n",
       "        text-align: right;\n",
       "    }\n",
       "</style>\n",
       "<table border=\"1\" class=\"dataframe\">\n",
       "  <thead>\n",
       "    <tr style=\"text-align: right;\">\n",
       "      <th></th>\n",
       "      <th>second</th>\n",
       "      <th>one</th>\n",
       "      <th>two</th>\n",
       "    </tr>\n",
       "    <tr>\n",
       "      <th>first</th>\n",
       "      <th></th>\n",
       "      <th></th>\n",
       "      <th></th>\n",
       "    </tr>\n",
       "  </thead>\n",
       "  <tbody>\n",
       "    <tr>\n",
       "      <th rowspan=\"2\" valign=\"top\">bar</th>\n",
       "      <th>A</th>\n",
       "      <td>1</td>\n",
       "      <td>3</td>\n",
       "    </tr>\n",
       "    <tr>\n",
       "      <th>B</th>\n",
       "      <td>2</td>\n",
       "      <td>4</td>\n",
       "    </tr>\n",
       "    <tr>\n",
       "      <th rowspan=\"2\" valign=\"top\">baz</th>\n",
       "      <th>A</th>\n",
       "      <td>5</td>\n",
       "      <td>7</td>\n",
       "    </tr>\n",
       "    <tr>\n",
       "      <th>B</th>\n",
       "      <td>6</td>\n",
       "      <td>8</td>\n",
       "    </tr>\n",
       "  </tbody>\n",
       "</table>\n",
       "</div>"
      ],
      "text/plain": [
       "second   one  two\n",
       "first            \n",
       "bar   A    1    3\n",
       "      B    2    4\n",
       "baz   A    5    7\n",
       "      B    6    8"
      ]
     },
     "execution_count": 46,
     "metadata": {},
     "output_type": "execute_result"
    }
   ],
   "source": []
  },
  {
   "cell_type": "code",
   "execution_count": 19,
   "id": "c3747d32",
   "metadata": {
    "id": "c3747d32",
    "outputId": "6f0abda8-07e9-4cf2-ef37-93485ec5d6bd"
   },
   "outputs": [
    {
     "ename": "IndexError",
     "evalue": "Too many levels: Index has only 2 levels, not 3",
     "output_type": "error",
     "traceback": [
      "\u001b[31m---------------------------------------------------------------------------\u001b[39m",
      "\u001b[31mValueError\u001b[39m                                Traceback (most recent call last)",
      "\u001b[36mFile \u001b[39m\u001b[32mc:\\source\\pythonsource\\venv\\Lib\\site-packages\\pandas\\core\\indexes\\multi.py:1683\u001b[39m, in \u001b[36mMultiIndex._get_level_number\u001b[39m\u001b[34m(self, level)\u001b[39m\n\u001b[32m   1682\u001b[39m \u001b[38;5;28;01mtry\u001b[39;00m:\n\u001b[32m-> \u001b[39m\u001b[32m1683\u001b[39m     level = \u001b[38;5;28;43mself\u001b[39;49m\u001b[43m.\u001b[49m\u001b[43mnames\u001b[49m\u001b[43m.\u001b[49m\u001b[43mindex\u001b[49m\u001b[43m(\u001b[49m\u001b[43mlevel\u001b[49m\u001b[43m)\u001b[49m\n\u001b[32m   1684\u001b[39m \u001b[38;5;28;01mexcept\u001b[39;00m \u001b[38;5;167;01mValueError\u001b[39;00m \u001b[38;5;28;01mas\u001b[39;00m err:\n",
      "\u001b[31mValueError\u001b[39m: 2 is not in list",
      "\nThe above exception was the direct cause of the following exception:\n",
      "\u001b[31mIndexError\u001b[39m                                Traceback (most recent call last)",
      "\u001b[36mCell\u001b[39m\u001b[36m \u001b[39m\u001b[32mIn[19]\u001b[39m\u001b[32m, line 1\u001b[39m\n\u001b[32m----> \u001b[39m\u001b[32m1\u001b[39m \u001b[43mstack_df\u001b[49m\u001b[43m.\u001b[49m\u001b[43munstack\u001b[49m\u001b[43m(\u001b[49m\u001b[32;43m2\u001b[39;49m\u001b[43m)\u001b[49m\n",
      "\u001b[36mFile \u001b[39m\u001b[32mc:\\source\\pythonsource\\venv\\Lib\\site-packages\\pandas\\core\\frame.py:9935\u001b[39m, in \u001b[36mDataFrame.unstack\u001b[39m\u001b[34m(self, level, fill_value, sort)\u001b[39m\n\u001b[32m   9871\u001b[39m \u001b[38;5;250m\u001b[39m\u001b[33;03m\"\"\"\u001b[39;00m\n\u001b[32m   9872\u001b[39m \u001b[33;03mPivot a level of the (necessarily hierarchical) index labels.\u001b[39;00m\n\u001b[32m   9873\u001b[39m \n\u001b[32m   (...)\u001b[39m\u001b[32m   9931\u001b[39m \u001b[33;03mdtype: float64\u001b[39;00m\n\u001b[32m   9932\u001b[39m \u001b[33;03m\"\"\"\u001b[39;00m\n\u001b[32m   9933\u001b[39m \u001b[38;5;28;01mfrom\u001b[39;00m\u001b[38;5;250m \u001b[39m\u001b[34;01mpandas\u001b[39;00m\u001b[34;01m.\u001b[39;00m\u001b[34;01mcore\u001b[39;00m\u001b[34;01m.\u001b[39;00m\u001b[34;01mreshape\u001b[39;00m\u001b[34;01m.\u001b[39;00m\u001b[34;01mreshape\u001b[39;00m\u001b[38;5;250m \u001b[39m\u001b[38;5;28;01mimport\u001b[39;00m unstack\n\u001b[32m-> \u001b[39m\u001b[32m9935\u001b[39m result = \u001b[43munstack\u001b[49m\u001b[43m(\u001b[49m\u001b[38;5;28;43mself\u001b[39;49m\u001b[43m,\u001b[49m\u001b[43m \u001b[49m\u001b[43mlevel\u001b[49m\u001b[43m,\u001b[49m\u001b[43m \u001b[49m\u001b[43mfill_value\u001b[49m\u001b[43m,\u001b[49m\u001b[43m \u001b[49m\u001b[43msort\u001b[49m\u001b[43m)\u001b[49m\n\u001b[32m   9937\u001b[39m \u001b[38;5;28;01mreturn\u001b[39;00m result.__finalize__(\u001b[38;5;28mself\u001b[39m, method=\u001b[33m\"\u001b[39m\u001b[33munstack\u001b[39m\u001b[33m\"\u001b[39m)\n",
      "\u001b[36mFile \u001b[39m\u001b[32mc:\\source\\pythonsource\\venv\\Lib\\site-packages\\pandas\\core\\reshape\\reshape.py:504\u001b[39m, in \u001b[36munstack\u001b[39m\u001b[34m(obj, level, fill_value, sort)\u001b[39m\n\u001b[32m    502\u001b[39m \u001b[38;5;28;01mif\u001b[39;00m \u001b[38;5;28misinstance\u001b[39m(obj, DataFrame):\n\u001b[32m    503\u001b[39m     \u001b[38;5;28;01mif\u001b[39;00m \u001b[38;5;28misinstance\u001b[39m(obj.index, MultiIndex):\n\u001b[32m--> \u001b[39m\u001b[32m504\u001b[39m         \u001b[38;5;28;01mreturn\u001b[39;00m \u001b[43m_unstack_frame\u001b[49m\u001b[43m(\u001b[49m\u001b[43mobj\u001b[49m\u001b[43m,\u001b[49m\u001b[43m \u001b[49m\u001b[43mlevel\u001b[49m\u001b[43m,\u001b[49m\u001b[43m \u001b[49m\u001b[43mfill_value\u001b[49m\u001b[43m=\u001b[49m\u001b[43mfill_value\u001b[49m\u001b[43m,\u001b[49m\u001b[43m \u001b[49m\u001b[43msort\u001b[49m\u001b[43m=\u001b[49m\u001b[43msort\u001b[49m\u001b[43m)\u001b[49m\n\u001b[32m    505\u001b[39m     \u001b[38;5;28;01melse\u001b[39;00m:\n\u001b[32m    506\u001b[39m         \u001b[38;5;28;01mreturn\u001b[39;00m obj.T.stack(future_stack=\u001b[38;5;28;01mTrue\u001b[39;00m)\n",
      "\u001b[36mFile \u001b[39m\u001b[32mc:\\source\\pythonsource\\venv\\Lib\\site-packages\\pandas\\core\\reshape\\reshape.py:529\u001b[39m, in \u001b[36m_unstack_frame\u001b[39m\u001b[34m(obj, level, fill_value, sort)\u001b[39m\n\u001b[32m    525\u001b[39m \u001b[38;5;28;01mdef\u001b[39;00m\u001b[38;5;250m \u001b[39m\u001b[34m_unstack_frame\u001b[39m(\n\u001b[32m    526\u001b[39m     obj: DataFrame, level, fill_value=\u001b[38;5;28;01mNone\u001b[39;00m, sort: \u001b[38;5;28mbool\u001b[39m = \u001b[38;5;28;01mTrue\u001b[39;00m\n\u001b[32m    527\u001b[39m ) -> DataFrame:\n\u001b[32m    528\u001b[39m     \u001b[38;5;28;01massert\u001b[39;00m \u001b[38;5;28misinstance\u001b[39m(obj.index, MultiIndex)  \u001b[38;5;66;03m# checked by caller\u001b[39;00m\n\u001b[32m--> \u001b[39m\u001b[32m529\u001b[39m     unstacker = \u001b[43m_Unstacker\u001b[49m\u001b[43m(\u001b[49m\n\u001b[32m    530\u001b[39m \u001b[43m        \u001b[49m\u001b[43mobj\u001b[49m\u001b[43m.\u001b[49m\u001b[43mindex\u001b[49m\u001b[43m,\u001b[49m\u001b[43m \u001b[49m\u001b[43mlevel\u001b[49m\u001b[43m=\u001b[49m\u001b[43mlevel\u001b[49m\u001b[43m,\u001b[49m\u001b[43m \u001b[49m\u001b[43mconstructor\u001b[49m\u001b[43m=\u001b[49m\u001b[43mobj\u001b[49m\u001b[43m.\u001b[49m\u001b[43m_constructor\u001b[49m\u001b[43m,\u001b[49m\u001b[43m \u001b[49m\u001b[43msort\u001b[49m\u001b[43m=\u001b[49m\u001b[43msort\u001b[49m\n\u001b[32m    531\u001b[39m \u001b[43m    \u001b[49m\u001b[43m)\u001b[49m\n\u001b[32m    533\u001b[39m     \u001b[38;5;28;01mif\u001b[39;00m \u001b[38;5;129;01mnot\u001b[39;00m obj._can_fast_transpose:\n\u001b[32m    534\u001b[39m         mgr = obj._mgr.unstack(unstacker, fill_value=fill_value)\n",
      "\u001b[36mFile \u001b[39m\u001b[32mc:\\source\\pythonsource\\venv\\Lib\\site-packages\\pandas\\core\\reshape\\reshape.py:118\u001b[39m, in \u001b[36m_Unstacker.__init__\u001b[39m\u001b[34m(self, index, level, constructor, sort)\u001b[39m\n\u001b[32m    114\u001b[39m \u001b[38;5;28mself\u001b[39m.sort = sort\n\u001b[32m    116\u001b[39m \u001b[38;5;28mself\u001b[39m.index = index.remove_unused_levels()\n\u001b[32m--> \u001b[39m\u001b[32m118\u001b[39m \u001b[38;5;28mself\u001b[39m.level = \u001b[38;5;28;43mself\u001b[39;49m\u001b[43m.\u001b[49m\u001b[43mindex\u001b[49m\u001b[43m.\u001b[49m\u001b[43m_get_level_number\u001b[49m\u001b[43m(\u001b[49m\u001b[43mlevel\u001b[49m\u001b[43m)\u001b[49m\n\u001b[32m    120\u001b[39m \u001b[38;5;66;03m# when index includes `nan`, need to lift levels/strides by 1\u001b[39;00m\n\u001b[32m    121\u001b[39m \u001b[38;5;28mself\u001b[39m.lift = \u001b[32m1\u001b[39m \u001b[38;5;28;01mif\u001b[39;00m -\u001b[32m1\u001b[39m \u001b[38;5;129;01min\u001b[39;00m \u001b[38;5;28mself\u001b[39m.index.codes[\u001b[38;5;28mself\u001b[39m.level] \u001b[38;5;28;01melse\u001b[39;00m \u001b[32m0\u001b[39m\n",
      "\u001b[36mFile \u001b[39m\u001b[32mc:\\source\\pythonsource\\venv\\Lib\\site-packages\\pandas\\core\\indexes\\multi.py:1697\u001b[39m, in \u001b[36mMultiIndex._get_level_number\u001b[39m\u001b[34m(self, level)\u001b[39m\n\u001b[32m   1695\u001b[39m     \u001b[38;5;66;03m# Note: levels are zero-based\u001b[39;00m\n\u001b[32m   1696\u001b[39m     \u001b[38;5;28;01melif\u001b[39;00m level >= \u001b[38;5;28mself\u001b[39m.nlevels:\n\u001b[32m-> \u001b[39m\u001b[32m1697\u001b[39m         \u001b[38;5;28;01mraise\u001b[39;00m \u001b[38;5;167;01mIndexError\u001b[39;00m(\n\u001b[32m   1698\u001b[39m             \u001b[33mf\u001b[39m\u001b[33m\"\u001b[39m\u001b[33mToo many levels: Index has only \u001b[39m\u001b[38;5;132;01m{\u001b[39;00m\u001b[38;5;28mself\u001b[39m.nlevels\u001b[38;5;132;01m}\u001b[39;00m\u001b[33m levels, \u001b[39m\u001b[33m\"\u001b[39m\n\u001b[32m   1699\u001b[39m             \u001b[33mf\u001b[39m\u001b[33m\"\u001b[39m\u001b[33mnot \u001b[39m\u001b[38;5;132;01m{\u001b[39;00mlevel\u001b[38;5;250m \u001b[39m+\u001b[38;5;250m \u001b[39m\u001b[32m1\u001b[39m\u001b[38;5;132;01m}\u001b[39;00m\u001b[33m\"\u001b[39m\n\u001b[32m   1700\u001b[39m         ) \u001b[38;5;28;01mfrom\u001b[39;00m\u001b[38;5;250m \u001b[39m\u001b[34;01merr\u001b[39;00m\n\u001b[32m   1701\u001b[39m \u001b[38;5;28;01mreturn\u001b[39;00m level\n",
      "\u001b[31mIndexError\u001b[39m: Too many levels: Index has only 2 levels, not 3"
     ]
    }
   ],
   "source": [
    "stack_df.unstack(2)"
   ]
  },
  {
   "cell_type": "markdown",
   "id": "22f473f0",
   "metadata": {
    "id": "22f473f0"
   },
   "source": [
    "### [실습2]"
   ]
  },
  {
   "cell_type": "code",
   "execution_count": 23,
   "id": "648f808b",
   "metadata": {
    "id": "648f808b",
    "outputId": "5af8628e-ce6a-4ee7-d0a3-8fb8d7615b71"
   },
   "outputs": [
    {
     "data": {
      "text/html": [
       "<div>\n",
       "<style scoped>\n",
       "    .dataframe tbody tr th:only-of-type {\n",
       "        vertical-align: middle;\n",
       "    }\n",
       "\n",
       "    .dataframe tbody tr th {\n",
       "        vertical-align: top;\n",
       "    }\n",
       "\n",
       "    .dataframe thead th {\n",
       "        text-align: right;\n",
       "    }\n",
       "</style>\n",
       "<table border=\"1\" class=\"dataframe\">\n",
       "  <thead>\n",
       "    <tr style=\"text-align: right;\">\n",
       "      <th></th>\n",
       "      <th>지역</th>\n",
       "      <th>요일</th>\n",
       "      <th>강수량</th>\n",
       "      <th>강수확률</th>\n",
       "    </tr>\n",
       "  </thead>\n",
       "  <tbody>\n",
       "    <tr>\n",
       "      <th>0</th>\n",
       "      <td>서울</td>\n",
       "      <td>월요일</td>\n",
       "      <td>100</td>\n",
       "      <td>80</td>\n",
       "    </tr>\n",
       "    <tr>\n",
       "      <th>1</th>\n",
       "      <td>서울</td>\n",
       "      <td>화요일</td>\n",
       "      <td>80</td>\n",
       "      <td>70</td>\n",
       "    </tr>\n",
       "    <tr>\n",
       "      <th>2</th>\n",
       "      <td>서울</td>\n",
       "      <td>수요일</td>\n",
       "      <td>1000</td>\n",
       "      <td>90</td>\n",
       "    </tr>\n",
       "    <tr>\n",
       "      <th>3</th>\n",
       "      <td>경기</td>\n",
       "      <td>월요일</td>\n",
       "      <td>200</td>\n",
       "      <td>10</td>\n",
       "    </tr>\n",
       "    <tr>\n",
       "      <th>4</th>\n",
       "      <td>경기</td>\n",
       "      <td>화요일</td>\n",
       "      <td>200</td>\n",
       "      <td>20</td>\n",
       "    </tr>\n",
       "    <tr>\n",
       "      <th>5</th>\n",
       "      <td>부산</td>\n",
       "      <td>월요일</td>\n",
       "      <td>100</td>\n",
       "      <td>30</td>\n",
       "    </tr>\n",
       "    <tr>\n",
       "      <th>6</th>\n",
       "      <td>서울</td>\n",
       "      <td>목요일</td>\n",
       "      <td>50</td>\n",
       "      <td>50</td>\n",
       "    </tr>\n",
       "    <tr>\n",
       "      <th>7</th>\n",
       "      <td>서울</td>\n",
       "      <td>금요일</td>\n",
       "      <td>100</td>\n",
       "      <td>90</td>\n",
       "    </tr>\n",
       "    <tr>\n",
       "      <th>8</th>\n",
       "      <td>부산</td>\n",
       "      <td>화요일</td>\n",
       "      <td>200</td>\n",
       "      <td>20</td>\n",
       "    </tr>\n",
       "    <tr>\n",
       "      <th>9</th>\n",
       "      <td>경기</td>\n",
       "      <td>수요일</td>\n",
       "      <td>100</td>\n",
       "      <td>80</td>\n",
       "    </tr>\n",
       "    <tr>\n",
       "      <th>10</th>\n",
       "      <td>경기</td>\n",
       "      <td>목요일</td>\n",
       "      <td>50</td>\n",
       "      <td>50</td>\n",
       "    </tr>\n",
       "    <tr>\n",
       "      <th>11</th>\n",
       "      <td>경기</td>\n",
       "      <td>금요일</td>\n",
       "      <td>100</td>\n",
       "      <td>10</td>\n",
       "    </tr>\n",
       "  </tbody>\n",
       "</table>\n",
       "</div>"
      ],
      "text/plain": [
       "    지역   요일   강수량  강수확률\n",
       "0   서울  월요일   100    80\n",
       "1   서울  화요일    80    70\n",
       "2   서울  수요일  1000    90\n",
       "3   경기  월요일   200    10\n",
       "4   경기  화요일   200    20\n",
       "5   부산  월요일   100    30\n",
       "6   서울  목요일    50    50\n",
       "7   서울  금요일   100    90\n",
       "8   부산  화요일   200    20\n",
       "9   경기  수요일   100    80\n",
       "10  경기  목요일    50    50\n",
       "11  경기  금요일   100    10"
      ]
     },
     "execution_count": 23,
     "metadata": {},
     "output_type": "execute_result"
    }
   ],
   "source": [
    "# 데이터프레임 생성\n",
    "\n",
    "df1 = pd.DataFrame({\n",
    "    '지역': ['서울','서울','서울','경기','경기','부산','서울','서울','부산','경기','경기','경기'],\n",
    "    '요일': ['월요일','화요일','수요일','월요일','화요일','월요일','목요일','금요일','화요일','수요일','목요일','금요일'],\n",
    "    '강수량': [100,80,1000,200,200,100,50,100,200,100,50,100],\n",
    "    '강수확률': [80,70,90,10,20,30,50,90,20,80,50,10]\n",
    "})\n",
    "\n",
    "df1"
   ]
  },
  {
   "cell_type": "code",
   "execution_count": 25,
   "id": "c088cb7a",
   "metadata": {
    "id": "c088cb7a",
    "outputId": "0da83df5-25eb-406e-d507-3431dd78ebcf"
   },
   "outputs": [
    {
     "data": {
      "text/html": [
       "<div>\n",
       "<style scoped>\n",
       "    .dataframe tbody tr th:only-of-type {\n",
       "        vertical-align: middle;\n",
       "    }\n",
       "\n",
       "    .dataframe tbody tr th {\n",
       "        vertical-align: top;\n",
       "    }\n",
       "\n",
       "    .dataframe thead th {\n",
       "        text-align: right;\n",
       "    }\n",
       "</style>\n",
       "<table border=\"1\" class=\"dataframe\">\n",
       "  <thead>\n",
       "    <tr style=\"text-align: right;\">\n",
       "      <th></th>\n",
       "      <th></th>\n",
       "      <th>강수량</th>\n",
       "      <th>강수확률</th>\n",
       "    </tr>\n",
       "    <tr>\n",
       "      <th>지역</th>\n",
       "      <th>요일</th>\n",
       "      <th></th>\n",
       "      <th></th>\n",
       "    </tr>\n",
       "  </thead>\n",
       "  <tbody>\n",
       "    <tr>\n",
       "      <th rowspan=\"3\" valign=\"top\">서울</th>\n",
       "      <th>월요일</th>\n",
       "      <td>100</td>\n",
       "      <td>80</td>\n",
       "    </tr>\n",
       "    <tr>\n",
       "      <th>화요일</th>\n",
       "      <td>80</td>\n",
       "      <td>70</td>\n",
       "    </tr>\n",
       "    <tr>\n",
       "      <th>수요일</th>\n",
       "      <td>1000</td>\n",
       "      <td>90</td>\n",
       "    </tr>\n",
       "    <tr>\n",
       "      <th rowspan=\"2\" valign=\"top\">경기</th>\n",
       "      <th>월요일</th>\n",
       "      <td>200</td>\n",
       "      <td>10</td>\n",
       "    </tr>\n",
       "    <tr>\n",
       "      <th>화요일</th>\n",
       "      <td>200</td>\n",
       "      <td>20</td>\n",
       "    </tr>\n",
       "    <tr>\n",
       "      <th>부산</th>\n",
       "      <th>월요일</th>\n",
       "      <td>100</td>\n",
       "      <td>30</td>\n",
       "    </tr>\n",
       "    <tr>\n",
       "      <th rowspan=\"2\" valign=\"top\">서울</th>\n",
       "      <th>목요일</th>\n",
       "      <td>50</td>\n",
       "      <td>50</td>\n",
       "    </tr>\n",
       "    <tr>\n",
       "      <th>금요일</th>\n",
       "      <td>100</td>\n",
       "      <td>90</td>\n",
       "    </tr>\n",
       "    <tr>\n",
       "      <th>부산</th>\n",
       "      <th>화요일</th>\n",
       "      <td>200</td>\n",
       "      <td>20</td>\n",
       "    </tr>\n",
       "    <tr>\n",
       "      <th rowspan=\"3\" valign=\"top\">경기</th>\n",
       "      <th>수요일</th>\n",
       "      <td>100</td>\n",
       "      <td>80</td>\n",
       "    </tr>\n",
       "    <tr>\n",
       "      <th>목요일</th>\n",
       "      <td>50</td>\n",
       "      <td>50</td>\n",
       "    </tr>\n",
       "    <tr>\n",
       "      <th>금요일</th>\n",
       "      <td>100</td>\n",
       "      <td>10</td>\n",
       "    </tr>\n",
       "  </tbody>\n",
       "</table>\n",
       "</div>"
      ],
      "text/plain": [
       "         강수량  강수확률\n",
       "지역 요일             \n",
       "서울 월요일   100    80\n",
       "   화요일    80    70\n",
       "   수요일  1000    90\n",
       "경기 월요일   200    10\n",
       "   화요일   200    20\n",
       "부산 월요일   100    30\n",
       "서울 목요일    50    50\n",
       "   금요일   100    90\n",
       "부산 화요일   200    20\n",
       "경기 수요일   100    80\n",
       "   목요일    50    50\n",
       "   금요일   100    10"
      ]
     },
     "execution_count": 25,
     "metadata": {},
     "output_type": "execute_result"
    }
   ],
   "source": [
    "new_df = df1.set_index(['지역','요일'])\n",
    "new_df"
   ]
  },
  {
   "cell_type": "code",
   "execution_count": 26,
   "id": "09775695",
   "metadata": {
    "id": "09775695",
    "outputId": "53452736-d2dd-4b2a-bc22-68919af1c69d"
   },
   "outputs": [
    {
     "data": {
      "text/html": [
       "<div>\n",
       "<style scoped>\n",
       "    .dataframe tbody tr th:only-of-type {\n",
       "        vertical-align: middle;\n",
       "    }\n",
       "\n",
       "    .dataframe tbody tr th {\n",
       "        vertical-align: top;\n",
       "    }\n",
       "\n",
       "    .dataframe thead th {\n",
       "        text-align: right;\n",
       "    }\n",
       "</style>\n",
       "<table border=\"1\" class=\"dataframe\">\n",
       "  <thead>\n",
       "    <tr style=\"text-align: right;\">\n",
       "      <th></th>\n",
       "      <th></th>\n",
       "      <th>강수량</th>\n",
       "      <th>강수확률</th>\n",
       "    </tr>\n",
       "    <tr>\n",
       "      <th>지역</th>\n",
       "      <th>요일</th>\n",
       "      <th></th>\n",
       "      <th></th>\n",
       "    </tr>\n",
       "  </thead>\n",
       "  <tbody>\n",
       "    <tr>\n",
       "      <th rowspan=\"3\" valign=\"top\">서울</th>\n",
       "      <th>월요일</th>\n",
       "      <td>100</td>\n",
       "      <td>80</td>\n",
       "    </tr>\n",
       "    <tr>\n",
       "      <th>화요일</th>\n",
       "      <td>80</td>\n",
       "      <td>70</td>\n",
       "    </tr>\n",
       "    <tr>\n",
       "      <th>수요일</th>\n",
       "      <td>1000</td>\n",
       "      <td>90</td>\n",
       "    </tr>\n",
       "    <tr>\n",
       "      <th rowspan=\"2\" valign=\"top\">경기</th>\n",
       "      <th>월요일</th>\n",
       "      <td>200</td>\n",
       "      <td>10</td>\n",
       "    </tr>\n",
       "    <tr>\n",
       "      <th>화요일</th>\n",
       "      <td>200</td>\n",
       "      <td>20</td>\n",
       "    </tr>\n",
       "    <tr>\n",
       "      <th>부산</th>\n",
       "      <th>월요일</th>\n",
       "      <td>100</td>\n",
       "      <td>30</td>\n",
       "    </tr>\n",
       "    <tr>\n",
       "      <th rowspan=\"2\" valign=\"top\">서울</th>\n",
       "      <th>목요일</th>\n",
       "      <td>50</td>\n",
       "      <td>50</td>\n",
       "    </tr>\n",
       "    <tr>\n",
       "      <th>금요일</th>\n",
       "      <td>100</td>\n",
       "      <td>90</td>\n",
       "    </tr>\n",
       "    <tr>\n",
       "      <th>부산</th>\n",
       "      <th>화요일</th>\n",
       "      <td>200</td>\n",
       "      <td>20</td>\n",
       "    </tr>\n",
       "    <tr>\n",
       "      <th rowspan=\"3\" valign=\"top\">경기</th>\n",
       "      <th>수요일</th>\n",
       "      <td>100</td>\n",
       "      <td>80</td>\n",
       "    </tr>\n",
       "    <tr>\n",
       "      <th>목요일</th>\n",
       "      <td>50</td>\n",
       "      <td>50</td>\n",
       "    </tr>\n",
       "    <tr>\n",
       "      <th>금요일</th>\n",
       "      <td>100</td>\n",
       "      <td>10</td>\n",
       "    </tr>\n",
       "  </tbody>\n",
       "</table>\n",
       "</div>"
      ],
      "text/plain": [
       "         강수량  강수확률\n",
       "지역 요일             \n",
       "서울 월요일   100    80\n",
       "   화요일    80    70\n",
       "   수요일  1000    90\n",
       "경기 월요일   200    10\n",
       "   화요일   200    20\n",
       "부산 월요일   100    30\n",
       "서울 목요일    50    50\n",
       "   금요일   100    90\n",
       "부산 화요일   200    20\n",
       "경기 수요일   100    80\n",
       "   목요일    50    50\n",
       "   금요일   100    10"
      ]
     },
     "execution_count": 26,
     "metadata": {},
     "output_type": "execute_result"
    }
   ],
   "source": [
    "new_df"
   ]
  },
  {
   "cell_type": "code",
   "execution_count": 27,
   "id": "c54ca874",
   "metadata": {
    "id": "c54ca874",
    "outputId": "4cbd90ab-877e-40d0-86bc-eb9e6ddebc56"
   },
   "outputs": [
    {
     "data": {
      "text/html": [
       "<div>\n",
       "<style scoped>\n",
       "    .dataframe tbody tr th:only-of-type {\n",
       "        vertical-align: middle;\n",
       "    }\n",
       "\n",
       "    .dataframe tbody tr th {\n",
       "        vertical-align: top;\n",
       "    }\n",
       "\n",
       "    .dataframe thead tr th {\n",
       "        text-align: left;\n",
       "    }\n",
       "\n",
       "    .dataframe thead tr:last-of-type th {\n",
       "        text-align: right;\n",
       "    }\n",
       "</style>\n",
       "<table border=\"1\" class=\"dataframe\">\n",
       "  <thead>\n",
       "    <tr>\n",
       "      <th></th>\n",
       "      <th colspan=\"3\" halign=\"left\">강수량</th>\n",
       "      <th colspan=\"3\" halign=\"left\">강수확률</th>\n",
       "    </tr>\n",
       "    <tr>\n",
       "      <th>지역</th>\n",
       "      <th>경기</th>\n",
       "      <th>부산</th>\n",
       "      <th>서울</th>\n",
       "      <th>경기</th>\n",
       "      <th>부산</th>\n",
       "      <th>서울</th>\n",
       "    </tr>\n",
       "    <tr>\n",
       "      <th>요일</th>\n",
       "      <th></th>\n",
       "      <th></th>\n",
       "      <th></th>\n",
       "      <th></th>\n",
       "      <th></th>\n",
       "      <th></th>\n",
       "    </tr>\n",
       "  </thead>\n",
       "  <tbody>\n",
       "    <tr>\n",
       "      <th>금요일</th>\n",
       "      <td>100.0</td>\n",
       "      <td>NaN</td>\n",
       "      <td>100.0</td>\n",
       "      <td>10.0</td>\n",
       "      <td>NaN</td>\n",
       "      <td>90.0</td>\n",
       "    </tr>\n",
       "    <tr>\n",
       "      <th>목요일</th>\n",
       "      <td>50.0</td>\n",
       "      <td>NaN</td>\n",
       "      <td>50.0</td>\n",
       "      <td>50.0</td>\n",
       "      <td>NaN</td>\n",
       "      <td>50.0</td>\n",
       "    </tr>\n",
       "    <tr>\n",
       "      <th>수요일</th>\n",
       "      <td>100.0</td>\n",
       "      <td>NaN</td>\n",
       "      <td>1000.0</td>\n",
       "      <td>80.0</td>\n",
       "      <td>NaN</td>\n",
       "      <td>90.0</td>\n",
       "    </tr>\n",
       "    <tr>\n",
       "      <th>월요일</th>\n",
       "      <td>200.0</td>\n",
       "      <td>100.0</td>\n",
       "      <td>100.0</td>\n",
       "      <td>10.0</td>\n",
       "      <td>30.0</td>\n",
       "      <td>80.0</td>\n",
       "    </tr>\n",
       "    <tr>\n",
       "      <th>화요일</th>\n",
       "      <td>200.0</td>\n",
       "      <td>200.0</td>\n",
       "      <td>80.0</td>\n",
       "      <td>20.0</td>\n",
       "      <td>20.0</td>\n",
       "      <td>70.0</td>\n",
       "    </tr>\n",
       "  </tbody>\n",
       "</table>\n",
       "</div>"
      ],
      "text/plain": [
       "       강수량                 강수확률            \n",
       "지역      경기     부산      서울    경기    부산    서울\n",
       "요일                                         \n",
       "금요일  100.0    NaN   100.0  10.0   NaN  90.0\n",
       "목요일   50.0    NaN    50.0  50.0   NaN  50.0\n",
       "수요일  100.0    NaN  1000.0  80.0   NaN  90.0\n",
       "월요일  200.0  100.0   100.0  10.0  30.0  80.0\n",
       "화요일  200.0  200.0    80.0  20.0  20.0  70.0"
      ]
     },
     "execution_count": 27,
     "metadata": {},
     "output_type": "execute_result"
    }
   ],
   "source": [
    "# index => column : unstack()\n",
    "new_df.unstack(0)"
   ]
  },
  {
   "cell_type": "code",
   "execution_count": 28,
   "id": "4d2f88cf",
   "metadata": {
    "id": "4d2f88cf",
    "outputId": "0f752101-2027-4015-a2f5-50888fe84a11"
   },
   "outputs": [
    {
     "data": {
      "text/html": [
       "<div>\n",
       "<style scoped>\n",
       "    .dataframe tbody tr th:only-of-type {\n",
       "        vertical-align: middle;\n",
       "    }\n",
       "\n",
       "    .dataframe tbody tr th {\n",
       "        vertical-align: top;\n",
       "    }\n",
       "\n",
       "    .dataframe thead tr th {\n",
       "        text-align: left;\n",
       "    }\n",
       "\n",
       "    .dataframe thead tr:last-of-type th {\n",
       "        text-align: right;\n",
       "    }\n",
       "</style>\n",
       "<table border=\"1\" class=\"dataframe\">\n",
       "  <thead>\n",
       "    <tr>\n",
       "      <th></th>\n",
       "      <th colspan=\"5\" halign=\"left\">강수량</th>\n",
       "      <th colspan=\"5\" halign=\"left\">강수확률</th>\n",
       "    </tr>\n",
       "    <tr>\n",
       "      <th>요일</th>\n",
       "      <th>금요일</th>\n",
       "      <th>목요일</th>\n",
       "      <th>수요일</th>\n",
       "      <th>월요일</th>\n",
       "      <th>화요일</th>\n",
       "      <th>금요일</th>\n",
       "      <th>목요일</th>\n",
       "      <th>수요일</th>\n",
       "      <th>월요일</th>\n",
       "      <th>화요일</th>\n",
       "    </tr>\n",
       "    <tr>\n",
       "      <th>지역</th>\n",
       "      <th></th>\n",
       "      <th></th>\n",
       "      <th></th>\n",
       "      <th></th>\n",
       "      <th></th>\n",
       "      <th></th>\n",
       "      <th></th>\n",
       "      <th></th>\n",
       "      <th></th>\n",
       "      <th></th>\n",
       "    </tr>\n",
       "  </thead>\n",
       "  <tbody>\n",
       "    <tr>\n",
       "      <th>경기</th>\n",
       "      <td>100.0</td>\n",
       "      <td>50.0</td>\n",
       "      <td>100.0</td>\n",
       "      <td>200.0</td>\n",
       "      <td>200.0</td>\n",
       "      <td>10.0</td>\n",
       "      <td>50.0</td>\n",
       "      <td>80.0</td>\n",
       "      <td>10.0</td>\n",
       "      <td>20.0</td>\n",
       "    </tr>\n",
       "    <tr>\n",
       "      <th>부산</th>\n",
       "      <td>NaN</td>\n",
       "      <td>NaN</td>\n",
       "      <td>NaN</td>\n",
       "      <td>100.0</td>\n",
       "      <td>200.0</td>\n",
       "      <td>NaN</td>\n",
       "      <td>NaN</td>\n",
       "      <td>NaN</td>\n",
       "      <td>30.0</td>\n",
       "      <td>20.0</td>\n",
       "    </tr>\n",
       "    <tr>\n",
       "      <th>서울</th>\n",
       "      <td>100.0</td>\n",
       "      <td>50.0</td>\n",
       "      <td>1000.0</td>\n",
       "      <td>100.0</td>\n",
       "      <td>80.0</td>\n",
       "      <td>90.0</td>\n",
       "      <td>50.0</td>\n",
       "      <td>90.0</td>\n",
       "      <td>80.0</td>\n",
       "      <td>70.0</td>\n",
       "    </tr>\n",
       "  </tbody>\n",
       "</table>\n",
       "</div>"
      ],
      "text/plain": [
       "      강수량                              강수확률                        \n",
       "요일    금요일   목요일     수요일    월요일    화요일   금요일   목요일   수요일   월요일   화요일\n",
       "지역                                                                 \n",
       "경기  100.0  50.0   100.0  200.0  200.0  10.0  50.0  80.0  10.0  20.0\n",
       "부산    NaN   NaN     NaN  100.0  200.0   NaN   NaN   NaN  30.0  20.0\n",
       "서울  100.0  50.0  1000.0  100.0   80.0  90.0  50.0  90.0  80.0  70.0"
      ]
     },
     "execution_count": 28,
     "metadata": {},
     "output_type": "execute_result"
    }
   ],
   "source": [
    "new_df.unstack(1)"
   ]
  },
  {
   "cell_type": "code",
   "execution_count": 29,
   "id": "e67355db",
   "metadata": {
    "id": "e67355db",
    "outputId": "a27124f7-92f0-4f44-9af6-732f99d96ff9"
   },
   "outputs": [
    {
     "name": "stderr",
     "output_type": "stream",
     "text": [
      "C:\\Users\\soldesk\\AppData\\Local\\Temp\\ipykernel_12936\\3150064354.py:1: FutureWarning: The previous implementation of stack is deprecated and will be removed in a future version of pandas. See the What's New notes for pandas 2.1.0 for details. Specify future_stack=True to adopt the new implementation and silence this warning.\n",
      "  new_df.unstack(0).stack(0)\n"
     ]
    },
    {
     "data": {
      "text/html": [
       "<div>\n",
       "<style scoped>\n",
       "    .dataframe tbody tr th:only-of-type {\n",
       "        vertical-align: middle;\n",
       "    }\n",
       "\n",
       "    .dataframe tbody tr th {\n",
       "        vertical-align: top;\n",
       "    }\n",
       "\n",
       "    .dataframe thead th {\n",
       "        text-align: right;\n",
       "    }\n",
       "</style>\n",
       "<table border=\"1\" class=\"dataframe\">\n",
       "  <thead>\n",
       "    <tr style=\"text-align: right;\">\n",
       "      <th></th>\n",
       "      <th>지역</th>\n",
       "      <th>경기</th>\n",
       "      <th>부산</th>\n",
       "      <th>서울</th>\n",
       "    </tr>\n",
       "    <tr>\n",
       "      <th>요일</th>\n",
       "      <th></th>\n",
       "      <th></th>\n",
       "      <th></th>\n",
       "      <th></th>\n",
       "    </tr>\n",
       "  </thead>\n",
       "  <tbody>\n",
       "    <tr>\n",
       "      <th rowspan=\"2\" valign=\"top\">금요일</th>\n",
       "      <th>강수량</th>\n",
       "      <td>100.0</td>\n",
       "      <td>NaN</td>\n",
       "      <td>100.0</td>\n",
       "    </tr>\n",
       "    <tr>\n",
       "      <th>강수확률</th>\n",
       "      <td>10.0</td>\n",
       "      <td>NaN</td>\n",
       "      <td>90.0</td>\n",
       "    </tr>\n",
       "    <tr>\n",
       "      <th rowspan=\"2\" valign=\"top\">목요일</th>\n",
       "      <th>강수량</th>\n",
       "      <td>50.0</td>\n",
       "      <td>NaN</td>\n",
       "      <td>50.0</td>\n",
       "    </tr>\n",
       "    <tr>\n",
       "      <th>강수확률</th>\n",
       "      <td>50.0</td>\n",
       "      <td>NaN</td>\n",
       "      <td>50.0</td>\n",
       "    </tr>\n",
       "    <tr>\n",
       "      <th rowspan=\"2\" valign=\"top\">수요일</th>\n",
       "      <th>강수량</th>\n",
       "      <td>100.0</td>\n",
       "      <td>NaN</td>\n",
       "      <td>1000.0</td>\n",
       "    </tr>\n",
       "    <tr>\n",
       "      <th>강수확률</th>\n",
       "      <td>80.0</td>\n",
       "      <td>NaN</td>\n",
       "      <td>90.0</td>\n",
       "    </tr>\n",
       "    <tr>\n",
       "      <th rowspan=\"2\" valign=\"top\">월요일</th>\n",
       "      <th>강수량</th>\n",
       "      <td>200.0</td>\n",
       "      <td>100.0</td>\n",
       "      <td>100.0</td>\n",
       "    </tr>\n",
       "    <tr>\n",
       "      <th>강수확률</th>\n",
       "      <td>10.0</td>\n",
       "      <td>30.0</td>\n",
       "      <td>80.0</td>\n",
       "    </tr>\n",
       "    <tr>\n",
       "      <th rowspan=\"2\" valign=\"top\">화요일</th>\n",
       "      <th>강수량</th>\n",
       "      <td>200.0</td>\n",
       "      <td>200.0</td>\n",
       "      <td>80.0</td>\n",
       "    </tr>\n",
       "    <tr>\n",
       "      <th>강수확률</th>\n",
       "      <td>20.0</td>\n",
       "      <td>20.0</td>\n",
       "      <td>70.0</td>\n",
       "    </tr>\n",
       "  </tbody>\n",
       "</table>\n",
       "</div>"
      ],
      "text/plain": [
       "지역           경기     부산      서울\n",
       "요일                            \n",
       "금요일 강수량   100.0    NaN   100.0\n",
       "    강수확률   10.0    NaN    90.0\n",
       "목요일 강수량    50.0    NaN    50.0\n",
       "    강수확률   50.0    NaN    50.0\n",
       "수요일 강수량   100.0    NaN  1000.0\n",
       "    강수확률   80.0    NaN    90.0\n",
       "월요일 강수량   200.0  100.0   100.0\n",
       "    강수확률   10.0   30.0    80.0\n",
       "화요일 강수량   200.0  200.0    80.0\n",
       "    강수확률   20.0   20.0    70.0"
      ]
     },
     "execution_count": 29,
     "metadata": {},
     "output_type": "execute_result"
    }
   ],
   "source": [
    "new_df.unstack(0).stack(0)"
   ]
  },
  {
   "cell_type": "code",
   "execution_count": 30,
   "id": "7e92a33b",
   "metadata": {
    "id": "7e92a33b",
    "outputId": "58073ca0-f5cd-488c-ecc4-db7501645a9a"
   },
   "outputs": [
    {
     "name": "stderr",
     "output_type": "stream",
     "text": [
      "C:\\Users\\soldesk\\AppData\\Local\\Temp\\ipykernel_12936\\1778177021.py:1: FutureWarning: The previous implementation of stack is deprecated and will be removed in a future version of pandas. See the What's New notes for pandas 2.1.0 for details. Specify future_stack=True to adopt the new implementation and silence this warning.\n",
      "  new_df.unstack(0).stack(1)\n"
     ]
    },
    {
     "data": {
      "text/html": [
       "<div>\n",
       "<style scoped>\n",
       "    .dataframe tbody tr th:only-of-type {\n",
       "        vertical-align: middle;\n",
       "    }\n",
       "\n",
       "    .dataframe tbody tr th {\n",
       "        vertical-align: top;\n",
       "    }\n",
       "\n",
       "    .dataframe thead th {\n",
       "        text-align: right;\n",
       "    }\n",
       "</style>\n",
       "<table border=\"1\" class=\"dataframe\">\n",
       "  <thead>\n",
       "    <tr style=\"text-align: right;\">\n",
       "      <th></th>\n",
       "      <th></th>\n",
       "      <th>강수량</th>\n",
       "      <th>강수확률</th>\n",
       "    </tr>\n",
       "    <tr>\n",
       "      <th>요일</th>\n",
       "      <th>지역</th>\n",
       "      <th></th>\n",
       "      <th></th>\n",
       "    </tr>\n",
       "  </thead>\n",
       "  <tbody>\n",
       "    <tr>\n",
       "      <th rowspan=\"2\" valign=\"top\">금요일</th>\n",
       "      <th>경기</th>\n",
       "      <td>100.0</td>\n",
       "      <td>10.0</td>\n",
       "    </tr>\n",
       "    <tr>\n",
       "      <th>서울</th>\n",
       "      <td>100.0</td>\n",
       "      <td>90.0</td>\n",
       "    </tr>\n",
       "    <tr>\n",
       "      <th rowspan=\"2\" valign=\"top\">목요일</th>\n",
       "      <th>경기</th>\n",
       "      <td>50.0</td>\n",
       "      <td>50.0</td>\n",
       "    </tr>\n",
       "    <tr>\n",
       "      <th>서울</th>\n",
       "      <td>50.0</td>\n",
       "      <td>50.0</td>\n",
       "    </tr>\n",
       "    <tr>\n",
       "      <th rowspan=\"2\" valign=\"top\">수요일</th>\n",
       "      <th>경기</th>\n",
       "      <td>100.0</td>\n",
       "      <td>80.0</td>\n",
       "    </tr>\n",
       "    <tr>\n",
       "      <th>서울</th>\n",
       "      <td>1000.0</td>\n",
       "      <td>90.0</td>\n",
       "    </tr>\n",
       "    <tr>\n",
       "      <th rowspan=\"3\" valign=\"top\">월요일</th>\n",
       "      <th>경기</th>\n",
       "      <td>200.0</td>\n",
       "      <td>10.0</td>\n",
       "    </tr>\n",
       "    <tr>\n",
       "      <th>부산</th>\n",
       "      <td>100.0</td>\n",
       "      <td>30.0</td>\n",
       "    </tr>\n",
       "    <tr>\n",
       "      <th>서울</th>\n",
       "      <td>100.0</td>\n",
       "      <td>80.0</td>\n",
       "    </tr>\n",
       "    <tr>\n",
       "      <th rowspan=\"3\" valign=\"top\">화요일</th>\n",
       "      <th>경기</th>\n",
       "      <td>200.0</td>\n",
       "      <td>20.0</td>\n",
       "    </tr>\n",
       "    <tr>\n",
       "      <th>부산</th>\n",
       "      <td>200.0</td>\n",
       "      <td>20.0</td>\n",
       "    </tr>\n",
       "    <tr>\n",
       "      <th>서울</th>\n",
       "      <td>80.0</td>\n",
       "      <td>70.0</td>\n",
       "    </tr>\n",
       "  </tbody>\n",
       "</table>\n",
       "</div>"
      ],
      "text/plain": [
       "           강수량  강수확률\n",
       "요일  지역              \n",
       "금요일 경기   100.0  10.0\n",
       "    서울   100.0  90.0\n",
       "목요일 경기    50.0  50.0\n",
       "    서울    50.0  50.0\n",
       "수요일 경기   100.0  80.0\n",
       "    서울  1000.0  90.0\n",
       "월요일 경기   200.0  10.0\n",
       "    부산   100.0  30.0\n",
       "    서울   100.0  80.0\n",
       "화요일 경기   200.0  20.0\n",
       "    부산   200.0  20.0\n",
       "    서울    80.0  70.0"
      ]
     },
     "execution_count": 30,
     "metadata": {},
     "output_type": "execute_result"
    }
   ],
   "source": [
    "new_df.unstack(0).stack(1)"
   ]
  },
  {
   "cell_type": "code",
   "execution_count": null,
   "id": "ee223507",
   "metadata": {
    "id": "ee223507",
    "outputId": "ae941666-fd8a-4657-b70e-6b4e5f2bab42"
   },
   "outputs": [
    {
     "data": {
      "text/html": [
       "<div>\n",
       "<style scoped>\n",
       "    .dataframe tbody tr th:only-of-type {\n",
       "        vertical-align: middle;\n",
       "    }\n",
       "\n",
       "    .dataframe tbody tr th {\n",
       "        vertical-align: top;\n",
       "    }\n",
       "\n",
       "    .dataframe thead th {\n",
       "        text-align: right;\n",
       "    }\n",
       "</style>\n",
       "<table border=\"1\" class=\"dataframe\">\n",
       "  <thead>\n",
       "    <tr style=\"text-align: right;\">\n",
       "      <th></th>\n",
       "      <th></th>\n",
       "      <th>강수량</th>\n",
       "      <th>강수확률</th>\n",
       "    </tr>\n",
       "    <tr>\n",
       "      <th>요일</th>\n",
       "      <th>지역</th>\n",
       "      <th></th>\n",
       "      <th></th>\n",
       "    </tr>\n",
       "  </thead>\n",
       "  <tbody>\n",
       "    <tr>\n",
       "      <th rowspan=\"2\" valign=\"top\">금요일</th>\n",
       "      <th>경기</th>\n",
       "      <td>100.0</td>\n",
       "      <td>10.0</td>\n",
       "    </tr>\n",
       "    <tr>\n",
       "      <th>서울</th>\n",
       "      <td>100.0</td>\n",
       "      <td>90.0</td>\n",
       "    </tr>\n",
       "    <tr>\n",
       "      <th rowspan=\"2\" valign=\"top\">목요일</th>\n",
       "      <th>경기</th>\n",
       "      <td>50.0</td>\n",
       "      <td>50.0</td>\n",
       "    </tr>\n",
       "    <tr>\n",
       "      <th>서울</th>\n",
       "      <td>50.0</td>\n",
       "      <td>50.0</td>\n",
       "    </tr>\n",
       "    <tr>\n",
       "      <th rowspan=\"2\" valign=\"top\">수요일</th>\n",
       "      <th>경기</th>\n",
       "      <td>100.0</td>\n",
       "      <td>80.0</td>\n",
       "    </tr>\n",
       "    <tr>\n",
       "      <th>서울</th>\n",
       "      <td>1000.0</td>\n",
       "      <td>90.0</td>\n",
       "    </tr>\n",
       "    <tr>\n",
       "      <th rowspan=\"3\" valign=\"top\">월요일</th>\n",
       "      <th>경기</th>\n",
       "      <td>200.0</td>\n",
       "      <td>10.0</td>\n",
       "    </tr>\n",
       "    <tr>\n",
       "      <th>부산</th>\n",
       "      <td>100.0</td>\n",
       "      <td>30.0</td>\n",
       "    </tr>\n",
       "    <tr>\n",
       "      <th>서울</th>\n",
       "      <td>100.0</td>\n",
       "      <td>80.0</td>\n",
       "    </tr>\n",
       "    <tr>\n",
       "      <th rowspan=\"3\" valign=\"top\">화요일</th>\n",
       "      <th>경기</th>\n",
       "      <td>200.0</td>\n",
       "      <td>20.0</td>\n",
       "    </tr>\n",
       "    <tr>\n",
       "      <th>부산</th>\n",
       "      <td>200.0</td>\n",
       "      <td>20.0</td>\n",
       "    </tr>\n",
       "    <tr>\n",
       "      <th>서울</th>\n",
       "      <td>80.0</td>\n",
       "      <td>70.0</td>\n",
       "    </tr>\n",
       "  </tbody>\n",
       "</table>\n",
       "</div>"
      ],
      "text/plain": [
       "           강수량  강수확률\n",
       "요일  지역              \n",
       "금요일 경기   100.0  10.0\n",
       "    서울   100.0  90.0\n",
       "목요일 경기    50.0  50.0\n",
       "    서울    50.0  50.0\n",
       "수요일 경기   100.0  80.0\n",
       "    서울  1000.0  90.0\n",
       "월요일 경기   200.0  10.0\n",
       "    부산   100.0  30.0\n",
       "    서울   100.0  80.0\n",
       "화요일 경기   200.0  20.0\n",
       "    부산   200.0  20.0\n",
       "    서울    80.0  70.0"
      ]
     },
     "execution_count": 61,
     "metadata": {},
     "output_type": "execute_result"
    }
   ],
   "source": []
  },
  {
   "cell_type": "markdown",
   "id": "5a742879",
   "metadata": {
    "id": "5a742879"
   },
   "source": [
    "### [참고] melt 와 stack"
   ]
  },
  {
   "cell_type": "markdown",
   "id": "7cf6a230",
   "metadata": {
    "id": "7cf6a230"
   },
   "source": [
    "![image.png](data:image/png;base64,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)"
   ]
  },
  {
   "cell_type": "code",
   "execution_count": null,
   "id": "3f91fd2b",
   "metadata": {
    "id": "3f91fd2b"
   },
   "outputs": [],
   "source": []
  }
 ],
 "metadata": {
  "colab": {
   "provenance": []
  },
  "kernelspec": {
   "display_name": "venv",
   "language": "python",
   "name": "python3"
  },
  "language_info": {
   "codemirror_mode": {
    "name": "ipython",
    "version": 3
   },
   "file_extension": ".py",
   "mimetype": "text/x-python",
   "name": "python",
   "nbconvert_exporter": "python",
   "pygments_lexer": "ipython3",
   "version": "3.13.3"
  }
 },
 "nbformat": 4,
 "nbformat_minor": 5
}
